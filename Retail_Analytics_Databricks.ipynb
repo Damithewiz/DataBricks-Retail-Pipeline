{
 "cells": [
  {
   "cell_type": "code",
   "execution_count": 0,
   "metadata": {
    "application/vnd.databricks.v1+cell": {
     "cellMetadata": {
      "byteLimit": 2048000,
      "rowLimit": 10000
     },
     "inputWidgets": {},
     "nuid": "2a5fc09e-ef07-4bcf-8e29-e13120a265ad",
     "showTitle": false,
     "tableResultSettingsMap": {},
     "title": ""
    }
   },
   "outputs": [
    {
     "output_type": "stream",
     "name": "stdout",
     "output_type": "stream",
     "text": [
      "+--------------------+--------------------+--------------------+-----------+------+--------+-----------+--------------+-------------------+-------------+\n|      transaction_id|             user_id|          product_id|   category| price|discount|final_price|payment_method|      purchase_date|       region|\n+--------------------+--------------------+--------------------+-----------+------+--------+-----------+--------------+-------------------+-------------+\n|258890ef-014d-44d...|bdd640fb-0667-4ad...|23b8c1e9-3924-46d...|       Home|643.03|    0.01|      636.6|        Wallet|2025-01-13 13:18:16|       Europe|\n|7a26c716-b794-416...|e465e150-bd9c-46b...|6c031199-972a-446...|      Books|148.14|    0.05|     140.73|          Card|2023-07-16 04:57:29|       Africa|\n|4d1e8fee-4c10-4f3...|3b8faa18-37f8-488...|8fadc1a6-06cb-4fb...|   Clothing| 427.7|    0.01|     423.42|        Wallet|2023-11-22 23:05:18|       Africa|\n|42c52730-01b7-40c...|8b8148f6-b38a-488...|96da1dac-72ff-4d2...|      Books| 606.0|    0.28|     436.32|           COD|2024-01-23 14:20:12|       Europe|\n|e0ce4052-71a3-431...|c241330b-01a9-471...|6c307511-b2b9-437...|Electronics|454.72|    0.14|     391.06|        Wallet|2024-03-11 19:12:55|South America|\n+--------------------+--------------------+--------------------+-----------+------+--------+-----------+--------------+-------------------+-------------+\nonly showing top 5 rows\n"
     ]
    }
   ],
   "source": [
    "# Load table as a PySpark DataFrame\n",
    "df = spark.table(\"default.retail_data\")  # use schema.table_name\n",
    "\n",
    "df.show(5)"
   ]
  },
  {
   "cell_type": "code",
   "execution_count": 0,
   "metadata": {
    "application/vnd.databricks.v1+cell": {
     "cellMetadata": {
      "byteLimit": 2048000,
      "rowLimit": 10000
     },
     "inputWidgets": {},
     "nuid": "e35778c6-86ac-429c-bf4b-5795e8ed675b",
     "showTitle": false,
     "tableResultSettingsMap": {},
     "title": ""
    }
   },
   "outputs": [],
   "source": [
    "# Import Required Libraries\n",
    "from pyspark.sql.functions import col, countDistinct, isnan, when, count, mean, stddev, min, max\n",
    "from pyspark.sql.functions import to_date, date_format\n",
    "from pyspark.sql.functions import year, month, dayofmonth, dayofweek, hour\n",
    "\n",
    "import matplotlib.pyplot as plt"
   ]
  },
  {
   "cell_type": "code",
   "execution_count": 0,
   "metadata": {
    "application/vnd.databricks.v1+cell": {
     "cellMetadata": {
      "byteLimit": 2048000,
      "rowLimit": 10000
     },
     "inputWidgets": {},
     "nuid": "7fe68372-cda8-4f66-a441-0c96b9b80658",
     "showTitle": false,
     "tableResultSettingsMap": {},
     "title": ""
    }
   },
   "outputs": [
    {
     "output_type": "stream",
     "name": "stdout",
     "output_type": "stream",
     "text": [
      "root\n |-- transaction_id: string (nullable = true)\n |-- user_id: string (nullable = true)\n |-- product_id: string (nullable = true)\n |-- category: string (nullable = true)\n |-- price: double (nullable = true)\n |-- discount: double (nullable = true)\n |-- final_price: double (nullable = true)\n |-- payment_method: string (nullable = true)\n |-- purchase_date: timestamp (nullable = true)\n |-- region: string (nullable = true)\n\n+--------------------+--------------------+--------------------+-----------+------+--------+-----------+--------------+-------------------+-------------+\n|      transaction_id|             user_id|          product_id|   category| price|discount|final_price|payment_method|      purchase_date|       region|\n+--------------------+--------------------+--------------------+-----------+------+--------+-----------+--------------+-------------------+-------------+\n|258890ef-014d-44d...|bdd640fb-0667-4ad...|23b8c1e9-3924-46d...|       Home|643.03|    0.01|      636.6|        Wallet|2025-01-13 13:18:16|       Europe|\n|7a26c716-b794-416...|e465e150-bd9c-46b...|6c031199-972a-446...|      Books|148.14|    0.05|     140.73|          Card|2023-07-16 04:57:29|       Africa|\n|4d1e8fee-4c10-4f3...|3b8faa18-37f8-488...|8fadc1a6-06cb-4fb...|   Clothing| 427.7|    0.01|     423.42|        Wallet|2023-11-22 23:05:18|       Africa|\n|42c52730-01b7-40c...|8b8148f6-b38a-488...|96da1dac-72ff-4d2...|      Books| 606.0|    0.28|     436.32|           COD|2024-01-23 14:20:12|       Europe|\n|e0ce4052-71a3-431...|c241330b-01a9-471...|6c307511-b2b9-437...|Electronics|454.72|    0.14|     391.06|        Wallet|2024-03-11 19:12:55|South America|\n+--------------------+--------------------+--------------------+-----------+------+--------+-----------+--------------+-------------------+-------------+\nonly showing top 5 rows\n"
     ]
    },
    {
     "output_type": "execute_result",
     "data": {
      "text/plain": [
       "10"
      ]
     },
     "execution_count": 102,
     "metadata": {},
     "output_type": "execute_result"
    }
   ],
   "source": [
    "# DataFrame Overview\n",
    "df.printSchema()\n",
    "df.show(5)\n",
    "df.count()  # Total rows\n",
    "len(df.columns)  # Total columns"
   ]
  },
  {
   "cell_type": "code",
   "execution_count": 0,
   "metadata": {
    "application/vnd.databricks.v1+cell": {
     "cellMetadata": {
      "byteLimit": 2048000,
      "rowLimit": 10000
     },
     "inputWidgets": {},
     "nuid": "186aaf62-594b-405b-b0ce-6392c97d65e6",
     "showTitle": false,
     "tableResultSettingsMap": {},
     "title": ""
    }
   },
   "outputs": [
    {
     "output_type": "stream",
     "name": "stdout",
     "output_type": "stream",
     "text": [
      "+--------------+-------+----------+--------+-----+--------+-----------+--------------+-------------+------+\n|transaction_id|user_id|product_id|category|price|discount|final_price|payment_method|purchase_date|region|\n+--------------+-------+----------+--------+-----+--------+-----------+--------------+-------------+------+\n|             0|      0|         0|       0|    0|       0|          0|             0|            0|     0|\n+--------------+-------+----------+--------+-----+--------+-----------+--------------+-------------+------+\n\n"
     ]
    }
   ],
   "source": [
    "# Null Value Check (Critical for Profiling)\n",
    "null_counts = []\n",
    "for c in df.columns:\n",
    "    dtype = dict(df.dtypes)[c]\n",
    "    if dtype in ['double', 'float']:\n",
    "        null_counts.append(count(when(isnan(col(c)) | col(c).isNull(), c)).alias(c))\n",
    "    else:\n",
    "        null_counts.append(count(when(col(c).isNull(), c)).alias(c))\n",
    "\n",
    "df.select(null_counts).show()"
   ]
  },
  {
   "cell_type": "code",
   "execution_count": 0,
   "metadata": {
    "application/vnd.databricks.v1+cell": {
     "cellMetadata": {
      "byteLimit": 2048000,
      "rowLimit": 10000
     },
     "inputWidgets": {},
     "nuid": "8761874d-96e5-4058-a129-40f7b424021c",
     "showTitle": false,
     "tableResultSettingsMap": {},
     "title": ""
    }
   },
   "outputs": [
    {
     "output_type": "stream",
     "name": "stdout",
     "output_type": "stream",
     "text": [
      "+-------+--------------------+--------------------+--------------------+--------+------------------+-------------------+------------------+--------------+-------------+\n|summary|      transaction_id|             user_id|          product_id|category|             price|           discount|       final_price|payment_method|       region|\n+-------+--------------------+--------------------+--------------------+--------+------------------+-------------------+------------------+--------------+-------------+\n|  count|              100000|              100000|              100000|  100000|            100000|             100000|            100000|        100000|       100000|\n|   mean|                NULL|                NULL|                NULL|    NULL|505.25778160000215|0.25047449999999954|378.84063750000695|          NULL|         NULL|\n| stddev|                NULL|                NULL|                NULL|    NULL| 285.1526606230797|0.14434794841996257|229.59188594009032|          NULL|         NULL|\n|    min|0000bb48-0ab1-4ce...|0001c443-d62d-49a...|00006f38-4c3f-4a8...|  Beauty|             10.03|                0.0|               5.2|           COD|       Africa|\n|    max|ffffb162-19ce-4b0...|ffff8575-0a7d-48e...|ffffcd17-7ac7-4e7...|    Toys|            1000.0|                0.5|            998.02|        Wallet|South America|\n+-------+--------------------+--------------------+--------------------+--------+------------------+-------------------+------------------+--------------+-------------+\n\n"
     ]
    }
   ],
   "source": [
    "# Summary Statistics for Numerical Columns\n",
    "df.describe().show()"
   ]
  },
  {
   "cell_type": "code",
   "execution_count": 0,
   "metadata": {
    "application/vnd.databricks.v1+cell": {
     "cellMetadata": {
      "byteLimit": 2048000,
      "rowLimit": 10000
     },
     "inputWidgets": {},
     "nuid": "3dbac3bb-0636-43ce-8a48-598e8abdfd32",
     "showTitle": false,
     "tableResultSettingsMap": {},
     "title": ""
    }
   },
   "outputs": [
    {
     "output_type": "stream",
     "name": "stdout",
     "output_type": "stream",
     "text": [
      "+----------------------+---------------+------------------+----------------+----------------------+--------------+\n|transaction_id_nunique|user_id_nunique|product_id_nunique|category_nunique|payment_method_nunique|region_nunique|\n+----------------------+---------------+------------------+----------------+----------------------+--------------+\n|                100000|         100000|            100000|               6|                     4|             5|\n+----------------------+---------------+------------------+----------------+----------------------+--------------+\n\n"
     ]
    }
   ],
   "source": [
    "# Cardinality of Categorical Columns\n",
    "cat_cols = [c for (c, dtype) in df.dtypes if dtype == 'string']\n",
    "df.select([countDistinct(col(c)).alias(f\"{c}_nunique\") for c in cat_cols]).show()"
   ]
  },
  {
   "cell_type": "code",
   "execution_count": 0,
   "metadata": {
    "application/vnd.databricks.v1+cell": {
     "cellMetadata": {
      "byteLimit": 2048000,
      "rowLimit": 10000
     },
     "inputWidgets": {},
     "nuid": "cc00db1e-4a3b-4b3c-b584-73bb036a2482",
     "showTitle": false,
     "tableResultSettingsMap": {},
     "title": ""
    }
   },
   "outputs": [],
   "source": [
    "# Bronze Layer: Load Raw Data\n",
    "# Save to Unity Catalog as a managed table\n",
    "spark.sql(\"CREATE DATABASE IF NOT EXISTS retail_pipeline\")\n",
    "\n",
    "df.write.format(\"delta\").mode(\"overwrite\").saveAsTable(\"retail_pipeline.retail_bronze\")"
   ]
  },
  {
   "cell_type": "markdown",
   "metadata": {
    "application/vnd.databricks.v1+cell": {
     "cellMetadata": {},
     "inputWidgets": {},
     "nuid": "6c9ef777-8950-4158-8242-da66f1e33238",
     "showTitle": false,
     "tableResultSettingsMap": {},
     "title": ""
    }
   },
   "source": [
    "### Distribution Insights "
   ]
  },
  {
   "cell_type": "code",
   "execution_count": 0,
   "metadata": {
    "application/vnd.databricks.v1+cell": {
     "cellMetadata": {
      "byteLimit": 2048000,
      "rowLimit": 10000
     },
     "inputWidgets": {},
     "nuid": "863c54f9-49b6-476e-82e7-188b20a58097",
     "showTitle": false,
     "tableResultSettingsMap": {},
     "title": ""
    }
   },
   "outputs": [
    {
     "output_type": "stream",
     "name": "stdout",
     "output_type": "stream",
     "text": [
      "+--------------------+-----+\n|          product_id|count|\n+--------------------+-----+\n|bf64f03d-e974-4e3...|    1|\n|9a3336ee-3938-432...|    1|\n|6c99ce56-a58a-4bb...|    1|\n|5953b5d4-2e85-460...|    1|\n|4d2a5ec7-029d-44a...|    1|\n|75ef8169-64a7-427...|    1|\n|7c928924-ff2c-4e6...|    1|\n|2a23e15b-82b1-44b...|    1|\n|ef46e612-6d5c-484...|    1|\n|9d7c24ce-85d5-4ed...|    1|\n+--------------------+-----+\nonly showing top 10 rows\n"
     ]
    }
   ],
   "source": [
    "#Top Selling Products\n",
    "\n",
    "df.groupBy(\"product_id\").count().orderBy(\"count\", ascending=False).show(10)"
   ]
  },
  {
   "cell_type": "code",
   "execution_count": 0,
   "metadata": {
    "application/vnd.databricks.v1+cell": {
     "cellMetadata": {
      "byteLimit": 2048000,
      "rowLimit": 10000
     },
     "inputWidgets": {},
     "nuid": "e37cb83c-3be7-4851-916b-bc7187dc3499",
     "showTitle": false,
     "tableResultSettingsMap": {},
     "title": ""
    }
   },
   "outputs": [
    {
     "output_type": "stream",
     "name": "stdout",
     "output_type": "stream",
     "text": [
      "+--------+-----+\n|discount|count|\n+--------+-----+\n|     0.0|  982|\n|    0.01| 1958|\n|    0.02| 2011|\n|    0.03| 2003|\n|    0.04| 2002|\n|    0.05| 1990|\n|    0.06| 1915|\n|    0.07| 2072|\n|    0.08| 2010|\n|    0.09| 2081|\n|     0.1| 1923|\n|    0.11| 1932|\n|    0.12| 2062|\n|    0.13| 2038|\n|    0.14| 2016|\n|    0.15| 2006|\n|    0.16| 1911|\n|    0.17| 1954|\n|    0.18| 2014|\n|    0.19| 2004|\n+--------+-----+\nonly showing top 20 rows\n"
     ]
    }
   ],
   "source": [
    "# Distribution of Discount Rates\n",
    "\n",
    "df.groupBy(\"discount\").count().orderBy(\"discount\").show()"
   ]
  },
  {
   "cell_type": "code",
   "execution_count": 0,
   "metadata": {
    "application/vnd.databricks.v1+cell": {
     "cellMetadata": {
      "byteLimit": 2048000,
      "rowLimit": 10000
     },
     "inputWidgets": {},
     "nuid": "71bdc897-2b05-4cbb-9e97-c1532411b16c",
     "showTitle": false,
     "tableResultSettingsMap": {},
     "title": ""
    }
   },
   "outputs": [
    {
     "output_type": "stream",
     "name": "stdout",
     "output_type": "stream",
     "text": [
      "+--------------+-----+\n|payment_method|count|\n+--------------+-----+\n|          Card|25161|\n|           COD|25103|\n|        Wallet|24925|\n|           UPI|24811|\n+--------------+-----+\n\n"
     ]
    }
   ],
   "source": [
    "# Sales by Payment Method\n",
    "\n",
    "df.groupBy(\"payment_method\").count().orderBy(\"count\", ascending=False).show()"
   ]
  },
  {
   "cell_type": "code",
   "execution_count": 0,
   "metadata": {
    "application/vnd.databricks.v1+cell": {
     "cellMetadata": {
      "byteLimit": 2048000,
      "rowLimit": 10000
     },
     "inputWidgets": {},
     "nuid": "06d25d50-1d35-461b-9e50-7de99dc83292",
     "showTitle": false,
     "tableResultSettingsMap": {},
     "title": ""
    }
   },
   "outputs": [
    {
     "output_type": "stream",
     "name": "stdout",
     "output_type": "stream",
     "text": [
      "+-----------+-----+\n|   category|count|\n+-----------+-----+\n|       Home|16743|\n|Electronics|16698|\n|     Beauty|16661|\n|      Books|16642|\n|   Clothing|16632|\n|       Toys|16624|\n+-----------+-----+\n\n"
     ]
    }
   ],
   "source": [
    "# Sales by Product Category\n",
    "\n",
    "df.groupBy(\"category\").count().orderBy(\"count\", ascending=False).show()"
   ]
  },
  {
   "cell_type": "code",
   "execution_count": 0,
   "metadata": {
    "application/vnd.databricks.v1+cell": {
     "cellMetadata": {
      "byteLimit": 2048000,
      "rowLimit": 10000
     },
     "inputWidgets": {},
     "nuid": "628860c3-6afa-4fec-9cf7-794411128448",
     "showTitle": false,
     "tableResultSettingsMap": {},
     "title": ""
    }
   },
   "outputs": [
    {
     "output_type": "stream",
     "name": "stdout",
     "output_type": "stream",
     "text": [
      "+-----+-----+\n|month|count|\n+-----+-----+\n|    1| 8484|\n|    2| 7820|\n|    3| 8430|\n|    4| 8307|\n|    5| 8324|\n|    6| 8011|\n|    7| 8635|\n|    8| 8469|\n|    9| 8290|\n|   10| 8605|\n|   11| 8191|\n|   12| 8434|\n+-----+-----+\n\n"
     ]
    }
   ],
   "source": [
    "# Monthly Transaction Volume\n",
    "\n",
    "df.groupBy(month(\"purchase_date\").alias(\"month\")).count().orderBy(\"month\").show()"
   ]
  },
  {
   "cell_type": "code",
   "execution_count": 0,
   "metadata": {
    "application/vnd.databricks.v1+cell": {
     "cellMetadata": {
      "byteLimit": 2048000,
      "rowLimit": 10000
     },
     "inputWidgets": {},
     "nuid": "669241bc-a970-4328-b850-e8a90655b82d",
     "showTitle": false,
     "tableResultSettingsMap": {},
     "title": ""
    }
   },
   "outputs": [
    {
     "output_type": "stream",
     "name": "stdout",
     "output_type": "stream",
     "text": [
      "+---------+-----+\n|dayofweek|count|\n+---------+-----+\n|        1|14285|\n|        2|14025|\n|        3|14215|\n|        4|14292|\n|        5|14400|\n|        6|14383|\n|        7|14400|\n+---------+-----+\n\n"
     ]
    }
   ],
   "source": [
    "# Daily Transaction Volume\n",
    "\n",
    "df.groupBy(dayofweek(\"purchase_date\").alias(\"dayofweek\")).count().orderBy(\"dayofweek\").show()"
   ]
  },
  {
   "cell_type": "code",
   "execution_count": 0,
   "metadata": {
    "application/vnd.databricks.v1+cell": {
     "cellMetadata": {
      "byteLimit": 2048000,
      "rowLimit": 10000
     },
     "inputWidgets": {},
     "nuid": "29c5149d-b795-41a1-90f4-4b17187a0fdb",
     "showTitle": false,
     "tableResultSettingsMap": {},
     "title": ""
    }
   },
   "outputs": [
    {
     "output_type": "stream",
     "name": "stdout",
     "output_type": "stream",
     "text": [
      "+--------------------+-----+\n|             user_id|count|\n+--------------------+-----+\n|2d03fb11-ddc2-44e...|    1|\n|30d569ed-4684-4c7...|    1|\n|193e638d-774c-4af...|    1|\n|19edcdbc-ec39-412...|    1|\n|69331443-c92c-4f7...|    1|\n|4f10b422-1fc2-451...|    1|\n|29fd9415-8028-4f6...|    1|\n|743b4f4f-2e8c-4b3...|    1|\n|2ea816ef-6249-49a...|    1|\n|c88994e7-49ef-408...|    1|\n+--------------------+-----+\nonly showing top 10 rows\n"
     ]
    }
   ],
   "source": [
    "# Users with the Most Transactions\n",
    "\n",
    "df.groupBy(\"user_id\").count().orderBy(\"count\", ascending=False).show(10)"
   ]
  },
  {
   "cell_type": "markdown",
   "metadata": {
    "application/vnd.databricks.v1+cell": {
     "cellMetadata": {},
     "inputWidgets": {},
     "nuid": "e64a5b7d-c94f-497b-a53e-5a905ee41e9d",
     "showTitle": false,
     "tableResultSettingsMap": {},
     "title": ""
    }
   },
   "source": [
    "### Data Cleaning and Feature Engineering"
   ]
  },
  {
   "cell_type": "code",
   "execution_count": 0,
   "metadata": {
    "application/vnd.databricks.v1+cell": {
     "cellMetadata": {
      "byteLimit": 2048000,
      "rowLimit": 10000
     },
     "inputWidgets": {},
     "nuid": "b069a084-2849-413f-8bdb-518608b328a4",
     "showTitle": false,
     "tableResultSettingsMap": {},
     "title": ""
    }
   },
   "outputs": [
    {
     "output_type": "stream",
     "name": "stdout",
     "output_type": "stream",
     "text": [
      "+--------------+-------+----------+--------+-----+--------+-----------+--------------+-------------+------+\n|transaction_id|user_id|product_id|category|price|discount|final_price|payment_method|purchase_date|region|\n+--------------+-------+----------+--------+-----+--------+-----------+--------------+-------------+------+\n|             0|      0|         0|       0|    0|       0|          0|             0|            0|     0|\n+--------------+-------+----------+--------+-----+--------+-----------+--------------+-------------+------+\n\n"
     ]
    }
   ],
   "source": [
    "# Handle Missing Values\n",
    "\n",
    "missing_counts = df.select([\n",
    "    count(when(col(c).isNull(), c)).alias(c) for c in df.columns\n",
    "])\n",
    "missing_counts.show()"
   ]
  },
  {
   "cell_type": "code",
   "execution_count": 0,
   "metadata": {
    "application/vnd.databricks.v1+cell": {
     "cellMetadata": {
      "byteLimit": 2048000,
      "rowLimit": 10000
     },
     "inputWidgets": {},
     "nuid": "cddf14ed-6320-4ee7-8afe-3c1037f67471",
     "showTitle": false,
     "tableResultSettingsMap": {},
     "title": ""
    }
   },
   "outputs": [
    {
     "output_type": "stream",
     "name": "stdout",
     "output_type": "stream",
     "text": [
      "+-------------+\n|purchase_date|\n+-------------+\n|   2025-01-13|\n|   2023-07-16|\n|   2023-11-22|\n|   2024-01-23|\n|   2024-03-11|\n+-------------+\nonly showing top 5 rows\n"
     ]
    }
   ],
   "source": [
    "# Convert Data Types ensuring Purchase_Date is in proper date format:\n",
    "\n",
    "df = df.withColumn(\"purchase_date\", to_date(col(\"purchase_date\"), \"MM-dd-yyyy\"))\n",
    "\n",
    "df.select(\"purchase_date\").show(5)"
   ]
  },
  {
   "cell_type": "code",
   "execution_count": 0,
   "metadata": {
    "application/vnd.databricks.v1+cell": {
     "cellMetadata": {
      "byteLimit": 2048000,
      "rowLimit": 10000
     },
     "inputWidgets": {},
     "nuid": "bf88eeee-62d8-4b8d-8841-5f338a6828c1",
     "showTitle": false,
     "tableResultSettingsMap": {},
     "title": ""
    }
   },
   "outputs": [],
   "source": [
    "# Create Derived Features (Enrichment)\n",
    "\n",
    "df = df.withColumn(\"Year\", year(\"purchase_date\")) \\\n",
    "       .withColumn(\"Month\", month(\"purchase_date\")) \\\n",
    "       .withColumn(\"Day\", dayofmonth(\"purchase_date\"))\n",
    "\n",
    "df = df.withColumn(\"Discount_Amount\", (col(\"price\") * col(\"discount\") / 100))\n",
    "\n",
    "df = df.withColumn(\"Is_High_Discount\", (col(\"discount\") > 30).cast(\"int\"))\n"
   ]
  },
  {
   "cell_type": "code",
   "execution_count": 0,
   "metadata": {
    "application/vnd.databricks.v1+cell": {
     "cellMetadata": {
      "byteLimit": 2048000,
      "rowLimit": 10000
     },
     "inputWidgets": {},
     "nuid": "dbea6d0a-84b0-42c6-b4f1-aca78cf41126",
     "showTitle": false,
     "tableResultSettingsMap": {},
     "title": ""
    }
   },
   "outputs": [
    {
     "output_type": "stream",
     "name": "stdout",
     "output_type": "stream",
     "text": [
      "root\n |-- transaction_id: string (nullable = true)\n |-- user_id: string (nullable = true)\n |-- product_id: string (nullable = true)\n |-- category: string (nullable = true)\n |-- price: double (nullable = true)\n |-- discount: double (nullable = true)\n |-- final_price: double (nullable = true)\n |-- payment_method: string (nullable = true)\n |-- purchase_date: date (nullable = true)\n |-- region: string (nullable = true)\n |-- Year: integer (nullable = true)\n |-- Month: integer (nullable = true)\n |-- Day: integer (nullable = true)\n |-- Discount_Amount: double (nullable = true)\n |-- Is_High_Discount: integer (nullable = true)\n\n+--------------------+--------------------+--------------------+-----------+------+--------+-----------+--------------+-------------+-------------+----+-----+---+------------------+----------------+\n|      transaction_id|             user_id|          product_id|   category| price|discount|final_price|payment_method|purchase_date|       region|Year|Month|Day|   Discount_Amount|Is_High_Discount|\n+--------------------+--------------------+--------------------+-----------+------+--------+-----------+--------------+-------------+-------------+----+-----+---+------------------+----------------+\n|258890ef-014d-44d...|bdd640fb-0667-4ad...|23b8c1e9-3924-46d...|       Home|643.03|    0.01|      636.6|        Wallet|   2025-01-13|       Europe|2025|    1| 13|          0.064303|               0|\n|7a26c716-b794-416...|e465e150-bd9c-46b...|6c031199-972a-446...|      Books|148.14|    0.05|     140.73|          Card|   2023-07-16|       Africa|2023|    7| 16|           0.07407|               0|\n|4d1e8fee-4c10-4f3...|3b8faa18-37f8-488...|8fadc1a6-06cb-4fb...|   Clothing| 427.7|    0.01|     423.42|        Wallet|   2023-11-22|       Africa|2023|   11| 22|           0.04277|               0|\n|42c52730-01b7-40c...|8b8148f6-b38a-488...|96da1dac-72ff-4d2...|      Books| 606.0|    0.28|     436.32|           COD|   2024-01-23|       Europe|2024|    1| 23|            1.6968|               0|\n|e0ce4052-71a3-431...|c241330b-01a9-471...|6c307511-b2b9-437...|Electronics|454.72|    0.14|     391.06|        Wallet|   2024-03-11|South America|2024|    3| 11|0.6366080000000001|               0|\n+--------------------+--------------------+--------------------+-----------+------+--------+-----------+--------------+-------------+-------------+----+-----+---+------------------+----------------+\nonly showing top 5 rows\n"
     ]
    }
   ],
   "source": [
    "df.printSchema()\n",
    "df.show(5)"
   ]
  },
  {
   "cell_type": "markdown",
   "metadata": {
    "application/vnd.databricks.v1+cell": {
     "cellMetadata": {},
     "inputWidgets": {},
     "nuid": "64db529c-7375-43d3-be22-54e99dd75d0d",
     "showTitle": false,
     "tableResultSettingsMap": {},
     "title": ""
    }
   },
   "source": [
    "### Exploratory Data Analysis (EDA)"
   ]
  },
  {
   "cell_type": "code",
   "execution_count": 0,
   "metadata": {
    "application/vnd.databricks.v1+cell": {
     "cellMetadata": {
      "byteLimit": 2048000,
      "rowLimit": 10000
     },
     "inputWidgets": {},
     "nuid": "c4a19bf3-fced-4b5b-af64-5e113613be0a",
     "showTitle": false,
     "tableResultSettingsMap": {},
     "title": ""
    }
   },
   "outputs": [],
   "source": [
    "# Grab functions\n",
    "from pyspark.sql import functions as F"
   ]
  },
  {
   "cell_type": "code",
   "execution_count": 0,
   "metadata": {
    "application/vnd.databricks.v1+cell": {
     "cellMetadata": {
      "byteLimit": 2048000,
      "rowLimit": 10000
     },
     "inputWidgets": {},
     "nuid": "6dd08323-00a9-40a1-851c-cdd13f8508d7",
     "showTitle": false,
     "tableResultSettingsMap": {},
     "title": ""
    }
   },
   "outputs": [
    {
     "output_type": "stream",
     "name": "stdout",
     "output_type": "stream",
     "text": [
      "+----+-----+---------------+\n|year|month|monthly_revenue|\n+----+-----+---------------+\n|2023|    6|      480340.54|\n|2023|    7|     1600947.64|\n|2023|    8|     1622559.62|\n|2023|    9|      1524438.2|\n|2023|   10|     1660197.75|\n|2023|   11|     1539039.13|\n|2023|   12|     1625710.26|\n|2024|    1|      1602949.9|\n|2024|    2|     1486739.63|\n|2024|    3|     1609237.69|\n|2024|    4|     1551700.36|\n|2024|    5|      1582012.4|\n|2024|    6|     1556425.37|\n|2024|    7|     1682192.64|\n|2024|    8|     1589168.78|\n|2024|    9|     1582160.07|\n|2024|   10|     1644831.74|\n|2024|   11|     1554960.06|\n|2024|   12|     1584165.89|\n|2025|    1|     1635623.34|\n+----+-----+---------------+\nonly showing top 20 rows\n"
     ]
    }
   ],
   "source": [
    "# Overall Revenue Trends (by Year-Month)\n",
    "monthly_revenue = (\n",
    "    df.groupBy(\"year\", \"month\")\n",
    "      .agg(F.round(F.sum(\"final_price\"), 2).alias(\"monthly_revenue\"))\n",
    "      .orderBy(\"year\", \"month\")\n",
    ")\n",
    "monthly_revenue.show()"
   ]
  },
  {
   "cell_type": "code",
   "execution_count": 0,
   "metadata": {
    "application/vnd.databricks.v1+cell": {
     "cellMetadata": {
      "byteLimit": 2048000,
      "rowLimit": 10000
     },
     "inputWidgets": {},
     "nuid": "ad521a3d-703e-4aee-b554-77c9410951dc",
     "showTitle": false,
     "tableResultSettingsMap": {},
     "title": ""
    }
   },
   "outputs": [
    {
     "output_type": "stream",
     "name": "stdout",
     "output_type": "stream",
     "text": [
      "+-----------+------------------+-------------+\n|   category|total_transactions|total_revenue|\n+-----------+------------------+-------------+\n|   Clothing|             16632|   6342671.95|\n|       Home|             16743|   6332215.78|\n|Electronics|             16698|   6326943.59|\n|     Beauty|             16661|   6321260.49|\n|       Toys|             16624|   6285589.32|\n|      Books|             16642|   6275382.62|\n+-----------+------------------+-------------+\n\n"
     ]
    }
   ],
   "source": [
    "# Top-Selling Categories (Volume & Revenue)\n",
    "category_perf = (\n",
    "    df.groupBy(\"category\")\n",
    "      .agg(\n",
    "          F.count(\"*\").alias(\"total_transactions\"),\n",
    "          F.round(F.sum(\"final_price\"), 2).alias(\"total_revenue\")\n",
    "      )\n",
    "      .orderBy(F.desc(\"total_revenue\"))\n",
    ")\n",
    "category_perf.show()"
   ]
  },
  {
   "cell_type": "code",
   "execution_count": 0,
   "metadata": {
    "application/vnd.databricks.v1+cell": {
     "cellMetadata": {
      "byteLimit": 2048000,
      "rowLimit": 10000
     },
     "inputWidgets": {},
     "nuid": "c2a4d96a-1313-4509-a3c4-963152affe91",
     "showTitle": false,
     "tableResultSettingsMap": {},
     "title": ""
    }
   },
   "outputs": [
    {
     "output_type": "stream",
     "name": "stdout",
     "output_type": "stream",
     "text": [
      "+--------------+---------+---------------+-------------+\n|payment_method|Txn_Count|Avg_Order_Value|Total_Revenue|\n+--------------+---------+---------------+-------------+\n|          Card|    25161|         379.82|   9556737.41|\n|           COD|    25103|         380.18|   9543604.53|\n|        Wallet|    24925|         378.19|   9426279.01|\n|           UPI|    24811|         377.15|    9357442.8|\n+--------------+---------+---------------+-------------+\n\n"
     ]
    }
   ],
   "source": [
    "# Payment-Method Preferences\n",
    "payment_stats = (\n",
    "    df.groupBy(\"payment_method\")\n",
    "      .agg(\n",
    "          F.count(\"*\").alias(\"Txn_Count\"),\n",
    "          F.round(F.avg(\"final_price\"), 2).alias(\"Avg_Order_Value\"),\n",
    "          F.round(F.sum(\"final_price\"), 2).alias(\"Total_Revenue\")\n",
    "      )\n",
    "      .orderBy(F.desc(\"Txn_Count\"))\n",
    ")\n",
    "payment_stats.show()"
   ]
  },
  {
   "cell_type": "code",
   "execution_count": 0,
   "metadata": {
    "application/vnd.databricks.v1+cell": {
     "cellMetadata": {
      "byteLimit": 2048000,
      "rowLimit": 10000
     },
     "inputWidgets": {},
     "nuid": "953cd9f6-67f9-41db-883d-5bf396308738",
     "showTitle": false,
     "tableResultSettingsMap": {},
     "title": ""
    }
   },
   "outputs": [
    {
     "output_type": "stream",
     "name": "stdout",
     "output_type": "stream",
     "text": [
      "+---------------+---------------+---------+\n|discount_bucket|Avg_Final_Price|Txn_Count|\n+---------------+---------------+---------+\n|          0-10%|         378.84|   100000|\n+---------------+---------------+---------+\n\nCorrelation (Discount vs Final_Price): -0.319\n"
     ]
    }
   ],
   "source": [
    "# Discount Impact\n",
    "\n",
    "# a. Average Final Price vs Discount Bucket\n",
    "df_bucketed = df.withColumn(\n",
    "    \"discount_bucket\",\n",
    "    F.when(F.col(\"discount\") <= 10, \"0-10%\")\n",
    "     .when(F.col(\"discount\") <= 30, \"11-30%\")\n",
    "     .otherwise(\"31-50%\")\n",
    ")\n",
    "\n",
    "discount_imp = (\n",
    "    df_bucketed.groupBy(\"discount_bucket\")\n",
    "               .agg(\n",
    "                   F.round(F.avg(\"final_price\"), 2).alias(\"Avg_Final_Price\"),\n",
    "                   F.count(\"*\").alias(\"Txn_Count\")\n",
    "               )\n",
    "               .orderBy(\"discount_bucket\")\n",
    ")\n",
    "discount_imp.show()\n",
    "\n",
    "# b. Correlation between Discount and Final Price\n",
    "corr_val = df.stat.corr(\"discount\", \"final_price\")\n",
    "print(f\"Correlation (Discount vs Final_Price): {corr_val:.3f}\")"
   ]
  },
  {
   "cell_type": "code",
   "execution_count": 0,
   "metadata": {
    "application/vnd.databricks.v1+cell": {
     "cellMetadata": {
      "byteLimit": 2048000,
      "rowLimit": 10000
     },
     "inputWidgets": {},
     "nuid": "1fd84b1f-9e13-498f-bb81-2d1b2121f8bd",
     "showTitle": false,
     "tableResultSettingsMap": {},
     "title": ""
    }
   },
   "outputs": [
    {
     "output_type": "stream",
     "name": "stdout",
     "output_type": "stream",
     "text": [
      "+--------------------+-----------+\n|             User_ID|Total_Spend|\n+--------------------+-----------+\n|732fc932-ab96-469...|     998.02|\n|27aa808a-9d72-47b...|     997.46|\n|9af32699-cee6-4db...|     997.37|\n|f82b85e2-78d1-47d...|     997.35|\n|a2bf6aca-f10a-45a...|     995.46|\n|30620786-2a91-441...|     995.13|\n|bf6f8818-0dc9-43d...|     994.51|\n|00e612c3-0e71-41a...|     992.77|\n|a6fc359b-7782-493...|     991.91|\n|1f47145c-2a51-415...|      991.1|\n+--------------------+-----------+\n\n"
     ]
    }
   ],
   "source": [
    "# High-Value Customers (Top 10 by Lifetime Spend)\n",
    "top_users = (\n",
    "    df.groupBy(\"User_ID\")\n",
    "      .agg(F.round(F.sum(\"Final_Price\"), 2).alias(\"Total_Spend\"))\n",
    "      .orderBy(F.desc(\"Total_Spend\"))\n",
    "      .limit(10)\n",
    ")\n",
    "top_users.show()"
   ]
  },
  {
   "cell_type": "code",
   "execution_count": 0,
   "metadata": {
    "application/vnd.databricks.v1+cell": {
     "cellMetadata": {
      "byteLimit": 2048000,
      "rowLimit": 10000
     },
     "inputWidgets": {},
     "nuid": "5b470663-697b-4ccb-928c-5280b9405ae6",
     "showTitle": false,
     "tableResultSettingsMap": {},
     "title": ""
    }
   },
   "outputs": [
    {
     "output_type": "stream",
     "name": "stdout",
     "output_type": "stream",
     "text": [
      "+----+-----+---+----------+\n|Year|Month|Day|Daily_Txns|\n+----+-----+---+----------+\n|2023|    6| 21|        62|\n|2023|    6| 22|       124|\n|2023|    6| 23|       137|\n|2023|    6| 24|       148|\n|2023|    6| 25|       125|\n|2023|    6| 26|       139|\n|2023|    6| 27|       132|\n|2023|    6| 28|       109|\n|2023|    6| 29|       142|\n|2023|    6| 30|       131|\n|2023|    7|  1|       154|\n|2023|    7|  2|       129|\n|2023|    7|  3|       139|\n|2023|    7|  4|       131|\n|2023|    7|  5|       147|\n|2023|    7|  6|       141|\n|2023|    7|  7|       133|\n|2023|    7|  8|       137|\n|2023|    7|  9|       123|\n|2023|    7| 10|       120|\n+----+-----+---+----------+\nonly showing top 20 rows\n"
     ]
    }
   ],
   "source": [
    "# Daily Order Volume Heat-Map Table\n",
    "daily_counts = (\n",
    "    df.groupBy(\"Year\", \"Month\", \"Day\")\n",
    "      .agg(F.count(\"*\").alias(\"Daily_Txns\"))\n",
    "      .orderBy(\"Year\", \"Month\", \"Day\")\n",
    ")\n",
    "daily_counts.show()"
   ]
  },
  {
   "cell_type": "code",
   "execution_count": 0,
   "metadata": {
    "application/vnd.databricks.v1+cell": {
     "cellMetadata": {
      "byteLimit": 2048000,
      "rowLimit": 10000
     },
     "inputWidgets": {},
     "nuid": "b0436120-06bb-4cd0-a712-0fb2508d1916",
     "showTitle": false,
     "tableResultSettingsMap": {},
     "title": ""
    }
   },
   "outputs": [
    {
     "output_type": "stream",
     "name": "stdout",
     "output_type": "stream",
     "text": [
      "+-------------+------------------+---------------+----------------+--------------+\n|Total_Revenue|Total_Transactions|Avg_Order_Value|Unique_Customers|Avg_Discount_%|\n+-------------+------------------+---------------+----------------+--------------+\n|3.788406375E7|            100000|         378.84|          100000|          0.25|\n+-------------+------------------+---------------+----------------+--------------+\n\n"
     ]
    }
   ],
   "source": [
    "kpi = (\n",
    "    df.agg(\n",
    "        F.round(F.sum(\"Final_Price\"), 2).alias(\"Total_Revenue\"),\n",
    "        F.count(\"*\").alias(\"Total_Transactions\"),\n",
    "        F.round(F.avg(\"Final_Price\"), 2).alias(\"Avg_Order_Value\"),\n",
    "        F.countDistinct(\"User_ID\").alias(\"Unique_Customers\"),\n",
    "        F.round(F.avg(\"Discount\"), 2).alias(\"Avg_Discount_%\")\n",
    "    )\n",
    ")\n",
    "kpi.show()"
   ]
  },
  {
   "cell_type": "markdown",
   "metadata": {
    "application/vnd.databricks.v1+cell": {
     "cellMetadata": {},
     "inputWidgets": {},
     "nuid": "677015f6-050e-48e9-be5b-ca52cf69e5c4",
     "showTitle": false,
     "tableResultSettingsMap": {},
     "title": ""
    }
   },
   "source": [
    "### Data Aggregation & Business KPI Derivation"
   ]
  },
  {
   "cell_type": "code",
   "execution_count": 0,
   "metadata": {
    "application/vnd.databricks.v1+cell": {
     "cellMetadata": {
      "byteLimit": 2048000,
      "rowLimit": 10000
     },
     "inputWidgets": {},
     "nuid": "2bf58c1d-cf78-4c4f-9d49-2de3a1b94805",
     "showTitle": false,
     "tableResultSettingsMap": {},
     "title": ""
    }
   },
   "outputs": [],
   "source": [
    "from pyspark.sql.functions import col, to_timestamp, round as spark_round, when\n",
    "\n",
    "retail_data_cleaned = df.withColumn(\n",
    "    \"purchase_date\", to_timestamp(\"purchase_date\", \"dd-MM-yyyy\")\n",
    ").withColumn(\n",
    "    \"discount_amount\", (col(\"price\") * col(\"discount\") / 100.0)\n",
    ").withColumn(\n",
    "    \"high_discount_flag\", when(col(\"discount\") >= 30, 1).otherwise(0)\n",
    ").select(\n",
    "    \"user_id\", \"product_id\", \"category\", \"price\", \"discount\",\n",
    "    \"discount_amount\", \"final_price\", \"payment_method\", \"purchase_date\", \"high_discount_flag\"\n",
    ")"
   ]
  },
  {
   "cell_type": "code",
   "execution_count": 0,
   "metadata": {
    "application/vnd.databricks.v1+cell": {
     "cellMetadata": {
      "byteLimit": 2048000,
      "rowLimit": 10000
     },
     "inputWidgets": {},
     "nuid": "93985215-93bd-4f5b-aa54-3077a0209ef1",
     "showTitle": false,
     "tableResultSettingsMap": {},
     "title": ""
    }
   },
   "outputs": [],
   "source": [
    "retail_data_cleaned.createOrReplaceTempView(\"retail_data_cleaned\")"
   ]
  },
  {
   "cell_type": "code",
   "execution_count": 0,
   "metadata": {
    "application/vnd.databricks.v1+cell": {
     "cellMetadata": {
      "byteLimit": 2048000,
      "rowLimit": 10000
     },
     "inputWidgets": {},
     "nuid": "a4dcb304-441b-439c-b3af-f5b127a0d5de",
     "showTitle": false,
     "tableResultSettingsMap": {},
     "title": ""
    }
   },
   "outputs": [],
   "source": [
    "# Silver Layer: Cleaned Data (after feature engineering and filtering)\n",
    "retail_data_cleaned.write.format(\"delta\").mode(\"overwrite\").saveAsTable(\"retail_pipeline.retail_silver\")"
   ]
  },
  {
   "cell_type": "code",
   "execution_count": 0,
   "metadata": {
    "application/vnd.databricks.v1+cell": {
     "cellMetadata": {
      "byteLimit": 2048000,
      "rowLimit": 10000
     },
     "inputWidgets": {},
     "nuid": "a4fdece8-cd77-41fc-977d-a559d295a04d",
     "showTitle": false,
     "tableResultSettingsMap": {},
     "title": ""
    }
   },
   "outputs": [
    {
     "output_type": "display_data",
     "data": {
      "text/html": [
       "<style scoped>\n",
       "  .table-result-container {\n",
       "    max-height: 300px;\n",
       "    overflow: auto;\n",
       "  }\n",
       "  table, th, td {\n",
       "    border: 1px solid black;\n",
       "    border-collapse: collapse;\n",
       "  }\n",
       "  th, td {\n",
       "    padding: 5px;\n",
       "  }\n",
       "  th {\n",
       "    text-align: left;\n",
       "  }\n",
       "</style><div class='table-result-container'><table class='table-result'><thead style='background-color: white'><tr><th>Total_Revenue</th><th>Total_Discount_Given</th><th>Total_Transactions</th></tr></thead><tbody><tr><td>3.788406375E7</td><td>126417.15</td><td>100000</td></tr></tbody></table></div>"
      ]
     },
     "metadata": {
      "application/vnd.databricks.v1+output": {
       "addedWidgets": {},
       "aggData": [],
       "aggError": "",
       "aggOverflow": false,
       "aggSchema": [],
       "aggSeriesLimitReached": false,
       "aggType": "",
       "arguments": {},
       "columnCustomDisplayInfos": {},
       "data": [
        [
         3.788406375E7,
         126417.15,
         100000
        ]
       ],
       "datasetInfos": [],
       "dbfsResultPath": null,
       "isJsonSchema": true,
       "metadata": {},
       "overflow": false,
       "plotOptions": {
        "customPlotOptions": {},
        "displayType": "table",
        "pivotAggregation": null,
        "pivotColumns": null,
        "xColumns": null,
        "yColumns": null
       },
       "removedWidgets": [],
       "schema": [
        {
         "metadata": "{}",
         "name": "Total_Revenue",
         "type": "\"double\""
        },
        {
         "metadata": "{}",
         "name": "Total_Discount_Given",
         "type": "\"double\""
        },
        {
         "metadata": "{}",
         "name": "Total_Transactions",
         "type": "\"long\""
        }
       ],
       "type": "table"
      }
     },
     "output_type": "display_data"
    }
   ],
   "source": [
    "# Calculate Total Sales, Discounts, and Units\n",
    "query = \"\"\"\n",
    "SELECT\n",
    "  ROUND(SUM(Final_Price), 2) AS Total_Revenue,\n",
    "  ROUND(SUM(Discount_Amount), 2) AS Total_Discount_Given,\n",
    "  COUNT(*) AS Total_Transactions\n",
    "FROM retail_data_cleaned\n",
    "\"\"\"\n",
    "\n",
    "# Execute the query\n",
    "result_df = spark.sql(query)\n",
    "\n",
    "# Display the result\n",
    "display(result_df)"
   ]
  },
  {
   "cell_type": "code",
   "execution_count": 0,
   "metadata": {
    "application/vnd.databricks.v1+cell": {
     "cellMetadata": {
      "byteLimit": 2048000,
      "rowLimit": 10000
     },
     "inputWidgets": {},
     "nuid": "f060cb2d-cb66-489b-add8-cc6fef47d2f2",
     "showTitle": false,
     "tableResultSettingsMap": {},
     "title": ""
    }
   },
   "outputs": [
    {
     "output_type": "display_data",
     "data": {
      "text/html": [
       "<style scoped>\n",
       "  .table-result-container {\n",
       "    max-height: 300px;\n",
       "    overflow: auto;\n",
       "  }\n",
       "  table, th, td {\n",
       "    border: 1px solid black;\n",
       "    border-collapse: collapse;\n",
       "  }\n",
       "  th, td {\n",
       "    padding: 5px;\n",
       "  }\n",
       "  th {\n",
       "    text-align: left;\n",
       "  }\n",
       "</style><div class='table-result-container'><table class='table-result'><thead style='background-color: white'><tr><th>Year</th><th>Month</th><th>Monthly_Revenue</th></tr></thead><tbody><tr><td>2023</td><td>6</td><td>480340.54</td></tr><tr><td>2023</td><td>7</td><td>1600947.64</td></tr><tr><td>2023</td><td>8</td><td>1622559.62</td></tr><tr><td>2023</td><td>9</td><td>1524438.2</td></tr><tr><td>2023</td><td>10</td><td>1660197.75</td></tr><tr><td>2023</td><td>11</td><td>1539039.13</td></tr><tr><td>2023</td><td>12</td><td>1625710.26</td></tr><tr><td>2024</td><td>1</td><td>1602949.9</td></tr><tr><td>2024</td><td>2</td><td>1486739.63</td></tr><tr><td>2024</td><td>3</td><td>1609237.69</td></tr><tr><td>2024</td><td>4</td><td>1551700.36</td></tr><tr><td>2024</td><td>5</td><td>1582012.4</td></tr><tr><td>2024</td><td>6</td><td>1556425.37</td></tr><tr><td>2024</td><td>7</td><td>1682192.64</td></tr><tr><td>2024</td><td>8</td><td>1589168.78</td></tr><tr><td>2024</td><td>9</td><td>1582160.07</td></tr><tr><td>2024</td><td>10</td><td>1644831.74</td></tr><tr><td>2024</td><td>11</td><td>1554960.06</td></tr><tr><td>2024</td><td>12</td><td>1584165.89</td></tr><tr><td>2025</td><td>1</td><td>1635623.34</td></tr><tr><td>2025</td><td>2</td><td>1449715.22</td></tr><tr><td>2025</td><td>3</td><td>1561134.37</td></tr><tr><td>2025</td><td>4</td><td>1579237.87</td></tr><tr><td>2025</td><td>5</td><td>1573016.83</td></tr><tr><td>2025</td><td>6</td><td>1005558.45</td></tr></tbody></table></div>"
      ]
     },
     "metadata": {
      "application/vnd.databricks.v1+output": {
       "addedWidgets": {},
       "aggData": [],
       "aggError": "",
       "aggOverflow": false,
       "aggSchema": [],
       "aggSeriesLimitReached": false,
       "aggType": "",
       "arguments": {},
       "columnCustomDisplayInfos": {},
       "data": [
        [
         2023,
         6,
         480340.54
        ],
        [
         2023,
         7,
         1600947.64
        ],
        [
         2023,
         8,
         1622559.62
        ],
        [
         2023,
         9,
         1524438.2
        ],
        [
         2023,
         10,
         1660197.75
        ],
        [
         2023,
         11,
         1539039.13
        ],
        [
         2023,
         12,
         1625710.26
        ],
        [
         2024,
         1,
         1602949.9
        ],
        [
         2024,
         2,
         1486739.63
        ],
        [
         2024,
         3,
         1609237.69
        ],
        [
         2024,
         4,
         1551700.36
        ],
        [
         2024,
         5,
         1582012.4
        ],
        [
         2024,
         6,
         1556425.37
        ],
        [
         2024,
         7,
         1682192.64
        ],
        [
         2024,
         8,
         1589168.78
        ],
        [
         2024,
         9,
         1582160.07
        ],
        [
         2024,
         10,
         1644831.74
        ],
        [
         2024,
         11,
         1554960.06
        ],
        [
         2024,
         12,
         1584165.89
        ],
        [
         2025,
         1,
         1635623.34
        ],
        [
         2025,
         2,
         1449715.22
        ],
        [
         2025,
         3,
         1561134.37
        ],
        [
         2025,
         4,
         1579237.87
        ],
        [
         2025,
         5,
         1573016.83
        ],
        [
         2025,
         6,
         1005558.45
        ]
       ],
       "datasetInfos": [],
       "dbfsResultPath": null,
       "isJsonSchema": true,
       "metadata": {},
       "overflow": false,
       "plotOptions": {
        "customPlotOptions": {},
        "displayType": "table",
        "pivotAggregation": null,
        "pivotColumns": null,
        "xColumns": null,
        "yColumns": null
       },
       "removedWidgets": [],
       "schema": [
        {
         "metadata": "{}",
         "name": "Year",
         "type": "\"integer\""
        },
        {
         "metadata": "{}",
         "name": "Month",
         "type": "\"integer\""
        },
        {
         "metadata": "{}",
         "name": "Monthly_Revenue",
         "type": "\"double\""
        }
       ],
       "type": "table"
      }
     },
     "output_type": "display_data"
    }
   ],
   "source": [
    "# Monthly Revenue Trend\n",
    "monthly_query = \"\"\"\n",
    "SELECT\n",
    "  Year,\n",
    "  Month,\n",
    "  ROUND(SUM(Final_Price), 2) AS Monthly_Revenue\n",
    "FROM retail_data_cleaned\n",
    "GROUP BY Year, Month\n",
    "ORDER BY Year, Month\n",
    "\"\"\"\n",
    "\n",
    "monthly_df = spark.sql(monthly_query)\n",
    "display(monthly_df)"
   ]
  },
  {
   "cell_type": "code",
   "execution_count": 0,
   "metadata": {
    "application/vnd.databricks.v1+cell": {
     "cellMetadata": {
      "byteLimit": 2048000,
      "rowLimit": 10000
     },
     "inputWidgets": {},
     "nuid": "1d5ad0e6-0964-4740-a2f3-80bc4f21c5da",
     "showTitle": false,
     "tableResultSettingsMap": {},
     "title": ""
    }
   },
   "outputs": [
    {
     "output_type": "display_data",
     "data": {
      "text/html": [
       "<style scoped>\n",
       "  .table-result-container {\n",
       "    max-height: 300px;\n",
       "    overflow: auto;\n",
       "  }\n",
       "  table, th, td {\n",
       "    border: 1px solid black;\n",
       "    border-collapse: collapse;\n",
       "  }\n",
       "  th, td {\n",
       "    padding: 5px;\n",
       "  }\n",
       "  th {\n",
       "    text-align: left;\n",
       "  }\n",
       "</style><div class='table-result-container'><table class='table-result'><thead style='background-color: white'><tr><th>Category</th><th>Total_Revenue</th><th>Number_of_Transactions</th></tr></thead><tbody><tr><td>Clothing</td><td>6342671.95</td><td>16632</td></tr><tr><td>Home</td><td>6332215.78</td><td>16743</td></tr><tr><td>Electronics</td><td>6326943.59</td><td>16698</td></tr><tr><td>Beauty</td><td>6321260.49</td><td>16661</td></tr><tr><td>Toys</td><td>6285589.32</td><td>16624</td></tr><tr><td>Books</td><td>6275382.62</td><td>16642</td></tr></tbody></table></div>"
      ]
     },
     "metadata": {
      "application/vnd.databricks.v1+output": {
       "addedWidgets": {},
       "aggData": [],
       "aggError": "",
       "aggOverflow": false,
       "aggSchema": [],
       "aggSeriesLimitReached": false,
       "aggType": "",
       "arguments": {},
       "columnCustomDisplayInfos": {},
       "data": [
        [
         "Clothing",
         6342671.95,
         16632
        ],
        [
         "Home",
         6332215.78,
         16743
        ],
        [
         "Electronics",
         6326943.59,
         16698
        ],
        [
         "Beauty",
         6321260.49,
         16661
        ],
        [
         "Toys",
         6285589.32,
         16624
        ],
        [
         "Books",
         6275382.62,
         16642
        ]
       ],
       "datasetInfos": [],
       "dbfsResultPath": null,
       "isJsonSchema": true,
       "metadata": {},
       "overflow": false,
       "plotOptions": {
        "customPlotOptions": {},
        "displayType": "table",
        "pivotAggregation": null,
        "pivotColumns": null,
        "xColumns": null,
        "yColumns": null
       },
       "removedWidgets": [],
       "schema": [
        {
         "metadata": "{}",
         "name": "Category",
         "type": "\"string\""
        },
        {
         "metadata": "{}",
         "name": "Total_Revenue",
         "type": "\"double\""
        },
        {
         "metadata": "{}",
         "name": "Number_of_Transactions",
         "type": "\"long\""
        }
       ],
       "type": "table"
      }
     },
     "output_type": "display_data"
    }
   ],
   "source": [
    "# Revenue by Product Category\n",
    "category_query = \"\"\"\n",
    "SELECT\n",
    "  Category,\n",
    "  ROUND(SUM(Final_Price), 2) AS Total_Revenue,\n",
    "  COUNT(*) AS Number_of_Transactions\n",
    "FROM retail_data_cleaned\n",
    "GROUP BY Category\n",
    "ORDER BY Total_Revenue DESC\n",
    "\"\"\"\n",
    "\n",
    "category_df = spark.sql(category_query)\n",
    "display(category_df)"
   ]
  },
  {
   "cell_type": "code",
   "execution_count": 0,
   "metadata": {
    "application/vnd.databricks.v1+cell": {
     "cellMetadata": {
      "byteLimit": 2048000,
      "rowLimit": 10000
     },
     "inputWidgets": {},
     "nuid": "6a756b3d-de6b-4857-beec-9ff465d595df",
     "showTitle": false,
     "tableResultSettingsMap": {},
     "title": ""
    }
   },
   "outputs": [
    {
     "output_type": "display_data",
     "data": {
      "text/html": [
       "<style scoped>\n",
       "  .table-result-container {\n",
       "    max-height: 300px;\n",
       "    overflow: auto;\n",
       "  }\n",
       "  table, th, td {\n",
       "    border: 1px solid black;\n",
       "    border-collapse: collapse;\n",
       "  }\n",
       "  th, td {\n",
       "    padding: 5px;\n",
       "  }\n",
       "  th {\n",
       "    text-align: left;\n",
       "  }\n",
       "</style><div class='table-result-container'><table class='table-result'><thead style='background-color: white'><tr><th>Year</th><th>Month</th><th>Monthly_Revenue</th></tr></thead><tbody><tr><td>2023</td><td>6</td><td>480340.54</td></tr><tr><td>2023</td><td>7</td><td>1600947.64</td></tr><tr><td>2023</td><td>8</td><td>1622559.62</td></tr><tr><td>2023</td><td>9</td><td>1524438.2</td></tr><tr><td>2023</td><td>10</td><td>1660197.75</td></tr><tr><td>2023</td><td>11</td><td>1539039.13</td></tr><tr><td>2023</td><td>12</td><td>1625710.26</td></tr><tr><td>2024</td><td>1</td><td>1602949.9</td></tr><tr><td>2024</td><td>2</td><td>1486739.63</td></tr><tr><td>2024</td><td>3</td><td>1609237.69</td></tr><tr><td>2024</td><td>4</td><td>1551700.36</td></tr><tr><td>2024</td><td>5</td><td>1582012.4</td></tr><tr><td>2024</td><td>6</td><td>1556425.37</td></tr><tr><td>2024</td><td>7</td><td>1682192.64</td></tr><tr><td>2024</td><td>8</td><td>1589168.78</td></tr><tr><td>2024</td><td>9</td><td>1582160.07</td></tr><tr><td>2024</td><td>10</td><td>1644831.74</td></tr><tr><td>2024</td><td>11</td><td>1554960.06</td></tr><tr><td>2024</td><td>12</td><td>1584165.89</td></tr><tr><td>2025</td><td>1</td><td>1635623.34</td></tr><tr><td>2025</td><td>2</td><td>1449715.22</td></tr><tr><td>2025</td><td>3</td><td>1561134.37</td></tr><tr><td>2025</td><td>4</td><td>1579237.87</td></tr><tr><td>2025</td><td>5</td><td>1573016.83</td></tr><tr><td>2025</td><td>6</td><td>1005558.45</td></tr></tbody></table></div>"
      ]
     },
     "metadata": {
      "application/vnd.databricks.v1+output": {
       "addedWidgets": {},
       "aggData": [],
       "aggError": "",
       "aggOverflow": false,
       "aggSchema": [],
       "aggSeriesLimitReached": false,
       "aggType": "",
       "arguments": {},
       "columnCustomDisplayInfos": {},
       "data": [
        [
         2023,
         6,
         480340.54
        ],
        [
         2023,
         7,
         1600947.64
        ],
        [
         2023,
         8,
         1622559.62
        ],
        [
         2023,
         9,
         1524438.2
        ],
        [
         2023,
         10,
         1660197.75
        ],
        [
         2023,
         11,
         1539039.13
        ],
        [
         2023,
         12,
         1625710.26
        ],
        [
         2024,
         1,
         1602949.9
        ],
        [
         2024,
         2,
         1486739.63
        ],
        [
         2024,
         3,
         1609237.69
        ],
        [
         2024,
         4,
         1551700.36
        ],
        [
         2024,
         5,
         1582012.4
        ],
        [
         2024,
         6,
         1556425.37
        ],
        [
         2024,
         7,
         1682192.64
        ],
        [
         2024,
         8,
         1589168.78
        ],
        [
         2024,
         9,
         1582160.07
        ],
        [
         2024,
         10,
         1644831.74
        ],
        [
         2024,
         11,
         1554960.06
        ],
        [
         2024,
         12,
         1584165.89
        ],
        [
         2025,
         1,
         1635623.34
        ],
        [
         2025,
         2,
         1449715.22
        ],
        [
         2025,
         3,
         1561134.37
        ],
        [
         2025,
         4,
         1579237.87
        ],
        [
         2025,
         5,
         1573016.83
        ],
        [
         2025,
         6,
         1005558.45
        ]
       ],
       "datasetInfos": [],
       "dbfsResultPath": null,
       "isJsonSchema": true,
       "metadata": {},
       "overflow": false,
       "plotOptions": {
        "customPlotOptions": {},
        "displayType": "table",
        "pivotAggregation": null,
        "pivotColumns": null,
        "xColumns": null,
        "yColumns": null
       },
       "removedWidgets": [],
       "schema": [
        {
         "metadata": "{}",
         "name": "Year",
         "type": "\"integer\""
        },
        {
         "metadata": "{}",
         "name": "Month",
         "type": "\"integer\""
        },
        {
         "metadata": "{}",
         "name": "Monthly_Revenue",
         "type": "\"double\""
        }
       ],
       "type": "table"
      }
     },
     "output_type": "display_data"
    }
   ],
   "source": [
    "# Create a temporary view with Month and Year extracted\n",
    "monthly_trend_df = retail_data_cleaned.withColumn(\"month\", F.month(\"purchase_date\")) \\\n",
    "                                    .withColumn(\"year\", F.year(\"purchase_date\"))\n",
    "monthly_trend_df.createOrReplaceTempView(\"retail_data_monthly\")\n",
    "\n",
    "# SQL query for monthly revenue\n",
    "monthly_query = \"\"\"\n",
    "SELECT\n",
    "  Year,\n",
    "  Month,\n",
    "  ROUND(SUM(Final_Price), 2) AS Monthly_Revenue\n",
    "FROM retail_data_monthly\n",
    "GROUP BY Year, Month\n",
    "ORDER BY Year, Month\n",
    "\"\"\"\n",
    "\n",
    "monthly_sales_df = spark.sql(monthly_query)\n",
    "display(monthly_sales_df)"
   ]
  },
  {
   "cell_type": "markdown",
   "metadata": {
    "application/vnd.databricks.v1+cell": {
     "cellMetadata": {},
     "inputWidgets": {},
     "nuid": "3ac882fc-20c6-4188-9fe7-03bac144c45c",
     "showTitle": false,
     "tableResultSettingsMap": {},
     "title": ""
    }
   },
   "source": [
    "-  Average Order Value (AOV): Total Revenue / Number of Transactions\n",
    "-  Average Discount Rate: Total Discount Given / Total Revenue"
   ]
  },
  {
   "cell_type": "code",
   "execution_count": 0,
   "metadata": {
    "application/vnd.databricks.v1+cell": {
     "cellMetadata": {
      "byteLimit": 2048000,
      "rowLimit": 10000
     },
     "inputWidgets": {},
     "nuid": "709b66be-fe32-4420-8fb2-54ad03663f87",
     "showTitle": false,
     "tableResultSettingsMap": {},
     "title": ""
    }
   },
   "outputs": [
    {
     "output_type": "display_data",
     "data": {
      "text/html": [
       "<style scoped>\n",
       "  .table-result-container {\n",
       "    max-height: 300px;\n",
       "    overflow: auto;\n",
       "  }\n",
       "  table, th, td {\n",
       "    border: 1px solid black;\n",
       "    border-collapse: collapse;\n",
       "  }\n",
       "  th, td {\n",
       "    padding: 5px;\n",
       "  }\n",
       "  th {\n",
       "    text-align: left;\n",
       "  }\n",
       "</style><div class='table-result-container'><table class='table-result'><thead style='background-color: white'><tr><th>Total_Revenue</th><th>Total_Transactions</th><th>Average_Order_Value</th><th>Average_Discount_Percentage</th></tr></thead><tbody><tr><td>3.788406375E7</td><td>100000</td><td>378.84</td><td>0.33</td></tr></tbody></table></div>"
      ]
     },
     "metadata": {
      "application/vnd.databricks.v1+output": {
       "addedWidgets": {},
       "aggData": [],
       "aggError": "",
       "aggOverflow": false,
       "aggSchema": [],
       "aggSeriesLimitReached": false,
       "aggType": "",
       "arguments": {},
       "columnCustomDisplayInfos": {},
       "data": [
        [
         3.788406375E7,
         100000,
         378.84,
         0.33
        ]
       ],
       "datasetInfos": [],
       "dbfsResultPath": null,
       "isJsonSchema": true,
       "metadata": {},
       "overflow": false,
       "plotOptions": {
        "customPlotOptions": {},
        "displayType": "table",
        "pivotAggregation": null,
        "pivotColumns": null,
        "xColumns": null,
        "yColumns": null
       },
       "removedWidgets": [],
       "schema": [
        {
         "metadata": "{}",
         "name": "Total_Revenue",
         "type": "\"double\""
        },
        {
         "metadata": "{}",
         "name": "Total_Transactions",
         "type": "\"long\""
        },
        {
         "metadata": "{}",
         "name": "Average_Order_Value",
         "type": "\"double\""
        },
        {
         "metadata": "{}",
         "name": "Average_Discount_Percentage",
         "type": "\"double\""
        }
       ],
       "type": "table"
      }
     },
     "output_type": "display_data"
    }
   ],
   "source": [
    "# Average Order Value (AOV) and Discount Rate\n",
    "\n",
    "query = \"\"\"\n",
    "SELECT\n",
    "  ROUND(SUM(final_price), 2) AS Total_Revenue,\n",
    "  COUNT(*) AS Total_Transactions,\n",
    "  ROUND(SUM(final_price) / COUNT(*), 2) AS Average_Order_Value,\n",
    "  ROUND(SUM(discount_amount) / SUM(final_price), 4) * 100 AS Average_Discount_Percentage\n",
    "FROM retail_data_cleaned\n",
    "\"\"\"\n",
    "\n",
    "aov_df = spark.sql(query)\n",
    "display(aov_df)"
   ]
  },
  {
   "cell_type": "code",
   "execution_count": 0,
   "metadata": {
    "application/vnd.databricks.v1+cell": {
     "cellMetadata": {
      "byteLimit": 2048000,
      "rowLimit": 10000
     },
     "inputWidgets": {},
     "nuid": "75545947-d30d-4726-8ccd-67fa3be880fe",
     "showTitle": false,
     "tableResultSettingsMap": {},
     "title": ""
    }
   },
   "outputs": [
    {
     "output_type": "display_data",
     "data": {
      "text/html": [
       "<style scoped>\n",
       "  .table-result-container {\n",
       "    max-height: 300px;\n",
       "    overflow: auto;\n",
       "  }\n",
       "  table, th, td {\n",
       "    border: 1px solid black;\n",
       "    border-collapse: collapse;\n",
       "  }\n",
       "  th, td {\n",
       "    padding: 5px;\n",
       "  }\n",
       "  th {\n",
       "    text-align: left;\n",
       "  }\n",
       "</style><div class='table-result-container'><table class='table-result'><thead style='background-color: white'><tr><th>category</th><th>Total_Transactions</th><th>Total_Revenue</th><th>Avg_Revenue_per_Transaction</th><th>Avg_Discount</th></tr></thead><tbody><tr><td>Clothing</td><td>16632</td><td>6342671.95</td><td>381.35</td><td>1.29</td></tr><tr><td>Home</td><td>16743</td><td>6332215.78</td><td>378.2</td><td>1.27</td></tr><tr><td>Electronics</td><td>16698</td><td>6326943.59</td><td>378.9</td><td>1.26</td></tr><tr><td>Beauty</td><td>16661</td><td>6321260.49</td><td>379.4</td><td>1.25</td></tr><tr><td>Toys</td><td>16624</td><td>6285589.32</td><td>378.1</td><td>1.26</td></tr><tr><td>Books</td><td>16642</td><td>6275382.62</td><td>377.08</td><td>1.26</td></tr></tbody></table></div>"
      ]
     },
     "metadata": {
      "application/vnd.databricks.v1+output": {
       "addedWidgets": {},
       "aggData": [],
       "aggError": "",
       "aggOverflow": false,
       "aggSchema": [],
       "aggSeriesLimitReached": false,
       "aggType": "",
       "arguments": {},
       "columnCustomDisplayInfos": {},
       "data": [
        [
         "Clothing",
         16632,
         6342671.95,
         381.35,
         1.29
        ],
        [
         "Home",
         16743,
         6332215.78,
         378.2,
         1.27
        ],
        [
         "Electronics",
         16698,
         6326943.59,
         378.9,
         1.26
        ],
        [
         "Beauty",
         16661,
         6321260.49,
         379.4,
         1.25
        ],
        [
         "Toys",
         16624,
         6285589.32,
         378.1,
         1.26
        ],
        [
         "Books",
         16642,
         6275382.62,
         377.08,
         1.26
        ]
       ],
       "datasetInfos": [],
       "dbfsResultPath": null,
       "isJsonSchema": true,
       "metadata": {},
       "overflow": false,
       "plotOptions": {
        "customPlotOptions": {},
        "displayType": "table",
        "pivotAggregation": null,
        "pivotColumns": null,
        "xColumns": null,
        "yColumns": null
       },
       "removedWidgets": [],
       "schema": [
        {
         "metadata": "{}",
         "name": "category",
         "type": "\"string\""
        },
        {
         "metadata": "{}",
         "name": "Total_Transactions",
         "type": "\"long\""
        },
        {
         "metadata": "{}",
         "name": "Total_Revenue",
         "type": "\"double\""
        },
        {
         "metadata": "{}",
         "name": "Avg_Revenue_per_Transaction",
         "type": "\"double\""
        },
        {
         "metadata": "{}",
         "name": "Avg_Discount",
         "type": "\"double\""
        }
       ],
       "type": "table"
      }
     },
     "output_type": "display_data"
    }
   ],
   "source": [
    "# Key Performance By Category\n",
    "query = \"\"\"\n",
    "SELECT\n",
    "  category,\n",
    "  COUNT(*) AS Total_Transactions,\n",
    "  ROUND(SUM(final_price), 2) AS Total_Revenue,\n",
    "  ROUND(AVG(final_price), 2) AS Avg_Revenue_per_Transaction,\n",
    "  ROUND(AVG(discount_amount), 2) AS Avg_Discount\n",
    "FROM retail_data_cleaned\n",
    "GROUP BY category\n",
    "ORDER BY Total_Revenue DESC\n",
    "\"\"\"\n",
    "\n",
    "category_perf_df = spark.sql(query)\n",
    "display(category_perf_df)"
   ]
  },
  {
   "cell_type": "code",
   "execution_count": 0,
   "metadata": {
    "application/vnd.databricks.v1+cell": {
     "cellMetadata": {
      "byteLimit": 2048000,
      "rowLimit": 10000
     },
     "inputWidgets": {},
     "nuid": "47fa6018-a5ac-42e1-aab2-358c6539bf8b",
     "showTitle": false,
     "tableResultSettingsMap": {},
     "title": ""
    }
   },
   "outputs": [
    {
     "output_type": "display_data",
     "data": {
      "text/html": [
       "<style scoped>\n",
       "  .table-result-container {\n",
       "    max-height: 300px;\n",
       "    overflow: auto;\n",
       "  }\n",
       "  table, th, td {\n",
       "    border: 1px solid black;\n",
       "    border-collapse: collapse;\n",
       "  }\n",
       "  th, td {\n",
       "    padding: 5px;\n",
       "  }\n",
       "  th {\n",
       "    text-align: left;\n",
       "  }\n",
       "</style><div class='table-result-container'><table class='table-result'><thead style='background-color: white'><tr><th>year</th><th>month</th><th>total_transactions</th><th>total_revenue</th><th>total_discount_given</th></tr></thead><tbody><tr><td>2023</td><td>6</td><td>1249</td><td>480340.54</td><td>1631.73</td></tr><tr><td>2023</td><td>7</td><td>4231</td><td>1600947.64</td><td>5277.4</td></tr><tr><td>2023</td><td>8</td><td>4242</td><td>1622559.62</td><td>5421.45</td></tr><tr><td>2023</td><td>9</td><td>4106</td><td>1524438.2</td><td>5188.44</td></tr><tr><td>2023</td><td>10</td><td>4326</td><td>1660197.75</td><td>5422.0</td></tr><tr><td>2023</td><td>11</td><td>4057</td><td>1539039.13</td><td>5201.5</td></tr><tr><td>2023</td><td>12</td><td>4271</td><td>1625710.26</td><td>5487.45</td></tr><tr><td>2024</td><td>1</td><td>4199</td><td>1602949.9</td><td>5277.42</td></tr><tr><td>2024</td><td>2</td><td>3962</td><td>1486739.63</td><td>4874.68</td></tr><tr><td>2024</td><td>3</td><td>4209</td><td>1609237.69</td><td>5343.06</td></tr><tr><td>2024</td><td>4</td><td>4135</td><td>1551700.36</td><td>5223.27</td></tr><tr><td>2024</td><td>5</td><td>4200</td><td>1582012.4</td><td>5262.83</td></tr><tr><td>2024</td><td>6</td><td>4097</td><td>1556425.37</td><td>5124.59</td></tr><tr><td>2024</td><td>7</td><td>4404</td><td>1682192.64</td><td>5592.59</td></tr><tr><td>2024</td><td>8</td><td>4227</td><td>1589168.78</td><td>5394.34</td></tr><tr><td>2024</td><td>9</td><td>4184</td><td>1582160.07</td><td>5236.03</td></tr><tr><td>2024</td><td>10</td><td>4279</td><td>1644831.74</td><td>5421.97</td></tr><tr><td>2024</td><td>11</td><td>4134</td><td>1554960.06</td><td>5265.2</td></tr><tr><td>2024</td><td>12</td><td>4163</td><td>1584165.89</td><td>5290.0</td></tr><tr><td>2025</td><td>1</td><td>4285</td><td>1635623.34</td><td>5464.28</td></tr><tr><td>2025</td><td>2</td><td>3858</td><td>1449715.22</td><td>4890.12</td></tr><tr><td>2025</td><td>3</td><td>4221</td><td>1561134.37</td><td>5319.55</td></tr><tr><td>2025</td><td>4</td><td>4172</td><td>1579237.87</td><td>5223.92</td></tr><tr><td>2025</td><td>5</td><td>4124</td><td>1573016.83</td><td>5218.07</td></tr><tr><td>2025</td><td>6</td><td>2665</td><td>1005558.45</td><td>3365.27</td></tr></tbody></table></div>"
      ]
     },
     "metadata": {
      "application/vnd.databricks.v1+output": {
       "addedWidgets": {},
       "aggData": [],
       "aggError": "",
       "aggOverflow": false,
       "aggSchema": [],
       "aggSeriesLimitReached": false,
       "aggType": "",
       "arguments": {},
       "columnCustomDisplayInfos": {},
       "data": [
        [
         2023,
         6,
         1249,
         480340.54,
         1631.73
        ],
        [
         2023,
         7,
         4231,
         1600947.64,
         5277.4
        ],
        [
         2023,
         8,
         4242,
         1622559.62,
         5421.45
        ],
        [
         2023,
         9,
         4106,
         1524438.2,
         5188.44
        ],
        [
         2023,
         10,
         4326,
         1660197.75,
         5422.0
        ],
        [
         2023,
         11,
         4057,
         1539039.13,
         5201.5
        ],
        [
         2023,
         12,
         4271,
         1625710.26,
         5487.45
        ],
        [
         2024,
         1,
         4199,
         1602949.9,
         5277.42
        ],
        [
         2024,
         2,
         3962,
         1486739.63,
         4874.68
        ],
        [
         2024,
         3,
         4209,
         1609237.69,
         5343.06
        ],
        [
         2024,
         4,
         4135,
         1551700.36,
         5223.27
        ],
        [
         2024,
         5,
         4200,
         1582012.4,
         5262.83
        ],
        [
         2024,
         6,
         4097,
         1556425.37,
         5124.59
        ],
        [
         2024,
         7,
         4404,
         1682192.64,
         5592.59
        ],
        [
         2024,
         8,
         4227,
         1589168.78,
         5394.34
        ],
        [
         2024,
         9,
         4184,
         1582160.07,
         5236.03
        ],
        [
         2024,
         10,
         4279,
         1644831.74,
         5421.97
        ],
        [
         2024,
         11,
         4134,
         1554960.06,
         5265.2
        ],
        [
         2024,
         12,
         4163,
         1584165.89,
         5290.0
        ],
        [
         2025,
         1,
         4285,
         1635623.34,
         5464.28
        ],
        [
         2025,
         2,
         3858,
         1449715.22,
         4890.12
        ],
        [
         2025,
         3,
         4221,
         1561134.37,
         5319.55
        ],
        [
         2025,
         4,
         4172,
         1579237.87,
         5223.92
        ],
        [
         2025,
         5,
         4124,
         1573016.83,
         5218.07
        ],
        [
         2025,
         6,
         2665,
         1005558.45,
         3365.27
        ]
       ],
       "datasetInfos": [],
       "dbfsResultPath": null,
       "isJsonSchema": true,
       "metadata": {},
       "overflow": false,
       "plotOptions": {
        "customPlotOptions": {},
        "displayType": "table",
        "pivotAggregation": null,
        "pivotColumns": null,
        "xColumns": null,
        "yColumns": null
       },
       "removedWidgets": [],
       "schema": [
        {
         "metadata": "{}",
         "name": "year",
         "type": "\"integer\""
        },
        {
         "metadata": "{}",
         "name": "month",
         "type": "\"integer\""
        },
        {
         "metadata": "{}",
         "name": "total_transactions",
         "type": "\"long\""
        },
        {
         "metadata": "{}",
         "name": "total_revenue",
         "type": "\"double\""
        },
        {
         "metadata": "{}",
         "name": "total_discount_given",
         "type": "\"double\""
        }
       ],
       "type": "table"
      }
     },
     "output_type": "display_data"
    }
   ],
   "source": [
    "# Monthly Sales Trend Analysis\n",
    "query = \"\"\"\n",
    "SELECT\n",
    "  YEAR(purchase_date) AS year,\n",
    "  MONTH(purchase_date) AS month,\n",
    "  COUNT(*) AS total_transactions,\n",
    "  ROUND(SUM(final_price), 2) AS total_revenue,\n",
    "  ROUND(SUM(discount_amount), 2) AS total_discount_given\n",
    "FROM retail_data_cleaned\n",
    "GROUP BY YEAR(purchase_date), MONTH(purchase_date)\n",
    "ORDER BY year, month\n",
    "\"\"\"\n",
    "\n",
    "monthly_trend_df = spark.sql(query)\n",
    "display(monthly_trend_df)"
   ]
  },
  {
   "cell_type": "code",
   "execution_count": 0,
   "metadata": {
    "application/vnd.databricks.v1+cell": {
     "cellMetadata": {
      "byteLimit": 2048000,
      "rowLimit": 10000
     },
     "inputWidgets": {},
     "nuid": "612e6667-08c4-4e74-b25c-2ae58379fa60",
     "showTitle": false,
     "tableResultSettingsMap": {},
     "title": ""
    }
   },
   "outputs": [
    {
     "output_type": "display_data",
     "data": {
      "text/html": [
       "<style scoped>\n",
       "  .table-result-container {\n",
       "    max-height: 300px;\n",
       "    overflow: auto;\n",
       "  }\n",
       "  table, th, td {\n",
       "    border: 1px solid black;\n",
       "    border-collapse: collapse;\n",
       "  }\n",
       "  th, td {\n",
       "    padding: 5px;\n",
       "  }\n",
       "  th {\n",
       "    text-align: left;\n",
       "  }\n",
       "</style><div class='table-result-container'><table class='table-result'><thead style='background-color: white'><tr><th>Date</th><th>Total_Transactions</th><th>Revenue</th><th>Avg_Discount_Percentage</th></tr></thead><tbody><tr><td>2023-06-21</td><td>62</td><td>24921.78</td><td>0.24</td></tr><tr><td>2023-06-22</td><td>124</td><td>53062.32</td><td>0.26</td></tr><tr><td>2023-06-23</td><td>137</td><td>48926.57</td><td>0.26</td></tr><tr><td>2023-06-24</td><td>148</td><td>54528.05</td><td>0.25</td></tr><tr><td>2023-06-25</td><td>125</td><td>46683.67</td><td>0.25</td></tr><tr><td>2023-06-26</td><td>139</td><td>56030.13</td><td>0.24</td></tr><tr><td>2023-06-27</td><td>132</td><td>48433.0</td><td>0.25</td></tr><tr><td>2023-06-28</td><td>109</td><td>40875.52</td><td>0.26</td></tr><tr><td>2023-06-29</td><td>142</td><td>55923.06</td><td>0.25</td></tr><tr><td>2023-06-30</td><td>131</td><td>50956.44</td><td>0.23</td></tr><tr><td>2023-07-01</td><td>154</td><td>58360.99</td><td>0.24</td></tr><tr><td>2023-07-02</td><td>129</td><td>48306.05</td><td>0.24</td></tr><tr><td>2023-07-03</td><td>139</td><td>52652.78</td><td>0.25</td></tr><tr><td>2023-07-04</td><td>131</td><td>45770.32</td><td>0.25</td></tr><tr><td>2023-07-05</td><td>147</td><td>53949.26</td><td>0.24</td></tr><tr><td>2023-07-06</td><td>141</td><td>52226.85</td><td>0.26</td></tr><tr><td>2023-07-07</td><td>133</td><td>47025.93</td><td>0.25</td></tr><tr><td>2023-07-08</td><td>137</td><td>49485.27</td><td>0.26</td></tr><tr><td>2023-07-09</td><td>123</td><td>52409.89</td><td>0.24</td></tr><tr><td>2023-07-10</td><td>120</td><td>43383.85</td><td>0.24</td></tr><tr><td>2023-07-11</td><td>141</td><td>52584.19</td><td>0.25</td></tr><tr><td>2023-07-12</td><td>111</td><td>43686.8</td><td>0.26</td></tr><tr><td>2023-07-13</td><td>135</td><td>49176.48</td><td>0.25</td></tr><tr><td>2023-07-14</td><td>144</td><td>54545.12</td><td>0.25</td></tr><tr><td>2023-07-15</td><td>132</td><td>45962.9</td><td>0.24</td></tr><tr><td>2023-07-16</td><td>147</td><td>60397.63</td><td>0.25</td></tr><tr><td>2023-07-17</td><td>134</td><td>50752.78</td><td>0.25</td></tr><tr><td>2023-07-18</td><td>150</td><td>55964.33</td><td>0.25</td></tr><tr><td>2023-07-19</td><td>145</td><td>52183.4</td><td>0.24</td></tr><tr><td>2023-07-20</td><td>126</td><td>47693.72</td><td>0.25</td></tr><tr><td>2023-07-21</td><td>150</td><td>57963.44</td><td>0.24</td></tr><tr><td>2023-07-22</td><td>146</td><td>55874.71</td><td>0.26</td></tr><tr><td>2023-07-23</td><td>132</td><td>49841.06</td><td>0.25</td></tr><tr><td>2023-07-24</td><td>138</td><td>51185.43</td><td>0.25</td></tr><tr><td>2023-07-25</td><td>126</td><td>47711.62</td><td>0.25</td></tr><tr><td>2023-07-26</td><td>134</td><td>51073.41</td><td>0.26</td></tr><tr><td>2023-07-27</td><td>112</td><td>44448.58</td><td>0.24</td></tr><tr><td>2023-07-28</td><td>152</td><td>58433.32</td><td>0.25</td></tr><tr><td>2023-07-29</td><td>143</td><td>56553.57</td><td>0.24</td></tr><tr><td>2023-07-30</td><td>137</td><td>57037.66</td><td>0.23</td></tr><tr><td>2023-07-31</td><td>142</td><td>54306.3</td><td>0.24</td></tr><tr><td>2023-08-01</td><td>134</td><td>49050.23</td><td>0.26</td></tr><tr><td>2023-08-02</td><td>116</td><td>44238.66</td><td>0.25</td></tr><tr><td>2023-08-03</td><td>133</td><td>54392.84</td><td>0.24</td></tr><tr><td>2023-08-04</td><td>125</td><td>47688.97</td><td>0.25</td></tr><tr><td>2023-08-05</td><td>117</td><td>42732.82</td><td>0.25</td></tr><tr><td>2023-08-06</td><td>140</td><td>52156.51</td><td>0.24</td></tr><tr><td>2023-08-07</td><td>135</td><td>50487.51</td><td>0.27</td></tr><tr><td>2023-08-08</td><td>165</td><td>60218.84</td><td>0.25</td></tr><tr><td>2023-08-09</td><td>128</td><td>48290.49</td><td>0.26</td></tr><tr><td>2023-08-10</td><td>135</td><td>51949.76</td><td>0.25</td></tr><tr><td>2023-08-11</td><td>157</td><td>60884.6</td><td>0.24</td></tr><tr><td>2023-08-12</td><td>138</td><td>52651.16</td><td>0.24</td></tr><tr><td>2023-08-13</td><td>139</td><td>52859.46</td><td>0.25</td></tr><tr><td>2023-08-14</td><td>135</td><td>50615.75</td><td>0.25</td></tr><tr><td>2023-08-15</td><td>135</td><td>50744.31</td><td>0.23</td></tr><tr><td>2023-08-16</td><td>123</td><td>46142.12</td><td>0.25</td></tr><tr><td>2023-08-17</td><td>140</td><td>52013.83</td><td>0.25</td></tr><tr><td>2023-08-18</td><td>156</td><td>62384.3</td><td>0.24</td></tr><tr><td>2023-08-19</td><td>133</td><td>48580.53</td><td>0.26</td></tr><tr><td>2023-08-20</td><td>142</td><td>58985.15</td><td>0.25</td></tr><tr><td>2023-08-21</td><td>112</td><td>44739.15</td><td>0.26</td></tr><tr><td>2023-08-22</td><td>149</td><td>54090.62</td><td>0.24</td></tr><tr><td>2023-08-23</td><td>138</td><td>53895.42</td><td>0.25</td></tr><tr><td>2023-08-24</td><td>154</td><td>56534.19</td><td>0.26</td></tr><tr><td>2023-08-25</td><td>153</td><td>58725.97</td><td>0.25</td></tr><tr><td>2023-08-26</td><td>113</td><td>44981.69</td><td>0.24</td></tr><tr><td>2023-08-27</td><td>136</td><td>54594.74</td><td>0.26</td></tr><tr><td>2023-08-28</td><td>156</td><td>61815.0</td><td>0.26</td></tr><tr><td>2023-08-29</td><td>132</td><td>48902.31</td><td>0.26</td></tr><tr><td>2023-08-30</td><td>131</td><td>54147.76</td><td>0.24</td></tr><tr><td>2023-08-31</td><td>142</td><td>53064.93</td><td>0.26</td></tr><tr><td>2023-09-01</td><td>131</td><td>47965.83</td><td>0.27</td></tr><tr><td>2023-09-02</td><td>140</td><td>54487.84</td><td>0.25</td></tr><tr><td>2023-09-03</td><td>152</td><td>63094.75</td><td>0.23</td></tr><tr><td>2023-09-04</td><td>128</td><td>47370.53</td><td>0.27</td></tr><tr><td>2023-09-05</td><td>124</td><td>46877.92</td><td>0.26</td></tr><tr><td>2023-09-06</td><td>134</td><td>54002.53</td><td>0.25</td></tr><tr><td>2023-09-07</td><td>145</td><td>50744.09</td><td>0.23</td></tr><tr><td>2023-09-08</td><td>155</td><td>59043.48</td><td>0.24</td></tr><tr><td>2023-09-09</td><td>159</td><td>60197.53</td><td>0.25</td></tr><tr><td>2023-09-10</td><td>158</td><td>63098.5</td><td>0.24</td></tr><tr><td>2023-09-11</td><td>135</td><td>49794.69</td><td>0.23</td></tr><tr><td>2023-09-12</td><td>119</td><td>43541.81</td><td>0.24</td></tr><tr><td>2023-09-13</td><td>129</td><td>46858.31</td><td>0.28</td></tr><tr><td>2023-09-14</td><td>149</td><td>53781.98</td><td>0.24</td></tr><tr><td>2023-09-15</td><td>120</td><td>43780.3</td><td>0.25</td></tr><tr><td>2023-09-16</td><td>131</td><td>47577.09</td><td>0.27</td></tr><tr><td>2023-09-17</td><td>119</td><td>45466.52</td><td>0.27</td></tr><tr><td>2023-09-18</td><td>133</td><td>43645.43</td><td>0.29</td></tr><tr><td>2023-09-19</td><td>121</td><td>47621.08</td><td>0.26</td></tr><tr><td>2023-09-20</td><td>133</td><td>42957.97</td><td>0.26</td></tr><tr><td>2023-09-21</td><td>124</td><td>49082.54</td><td>0.24</td></tr><tr><td>2023-09-22</td><td>141</td><td>55253.65</td><td>0.25</td></tr><tr><td>2023-09-23</td><td>150</td><td>57059.04</td><td>0.26</td></tr><tr><td>2023-09-24</td><td>144</td><td>51869.72</td><td>0.23</td></tr><tr><td>2023-09-25</td><td>139</td><td>47641.88</td><td>0.26</td></tr><tr><td>2023-09-26</td><td>129</td><td>42333.96</td><td>0.26</td></tr><tr><td>2023-09-27</td><td>130</td><td>50125.74</td><td>0.26</td></tr><tr><td>2023-09-28</td><td>146</td><td>56917.16</td><td>0.25</td></tr><tr><td>2023-09-29</td><td>149</td><td>52985.51</td><td>0.29</td></tr><tr><td>2023-09-30</td><td>139</td><td>49260.82</td><td>0.27</td></tr><tr><td>2023-10-01</td><td>152</td><td>57124.79</td><td>0.26</td></tr><tr><td>2023-10-02</td><td>128</td><td>50677.22</td><td>0.24</td></tr><tr><td>2023-10-03</td><td>148</td><td>58057.6</td><td>0.26</td></tr><tr><td>2023-10-04</td><td>154</td><td>60672.31</td><td>0.26</td></tr><tr><td>2023-10-05</td><td>120</td><td>48163.6</td><td>0.23</td></tr><tr><td>2023-10-06</td><td>137</td><td>51639.75</td><td>0.25</td></tr><tr><td>2023-10-07</td><td>139</td><td>52450.12</td><td>0.25</td></tr><tr><td>2023-10-08</td><td>139</td><td>54104.49</td><td>0.24</td></tr><tr><td>2023-10-09</td><td>149</td><td>60976.62</td><td>0.23</td></tr><tr><td>2023-10-10</td><td>145</td><td>50942.21</td><td>0.25</td></tr><tr><td>2023-10-11</td><td>141</td><td>53596.58</td><td>0.24</td></tr><tr><td>2023-10-12</td><td>138</td><td>53021.83</td><td>0.25</td></tr><tr><td>2023-10-13</td><td>115</td><td>41555.7</td><td>0.24</td></tr><tr><td>2023-10-14</td><td>157</td><td>57249.62</td><td>0.25</td></tr><tr><td>2023-10-15</td><td>145</td><td>53274.36</td><td>0.23</td></tr><tr><td>2023-10-16</td><td>135</td><td>53755.5</td><td>0.24</td></tr><tr><td>2023-10-17</td><td>143</td><td>53784.69</td><td>0.25</td></tr><tr><td>2023-10-18</td><td>150</td><td>53940.53</td><td>0.25</td></tr><tr><td>2023-10-19</td><td>142</td><td>57093.66</td><td>0.24</td></tr><tr><td>2023-10-20</td><td>158</td><td>59384.11</td><td>0.26</td></tr><tr><td>2023-10-21</td><td>161</td><td>62789.83</td><td>0.26</td></tr><tr><td>2023-10-22</td><td>121</td><td>47420.08</td><td>0.24</td></tr><tr><td>2023-10-23</td><td>152</td><td>60320.77</td><td>0.25</td></tr><tr><td>2023-10-24</td><td>137</td><td>52463.27</td><td>0.25</td></tr><tr><td>2023-10-25</td><td>128</td><td>49302.35</td><td>0.25</td></tr><tr><td>2023-10-26</td><td>121</td><td>48603.43</td><td>0.25</td></tr><tr><td>2023-10-27</td><td>143</td><td>50090.54</td><td>0.27</td></tr><tr><td>2023-10-28</td><td>150</td><td>58752.66</td><td>0.25</td></tr><tr><td>2023-10-29</td><td>140</td><td>54724.34</td><td>0.24</td></tr><tr><td>2023-10-30</td><td>124</td><td>47697.0</td><td>0.23</td></tr><tr><td>2023-10-31</td><td>114</td><td>46568.19</td><td>0.24</td></tr><tr><td>2023-11-01</td><td>138</td><td>51918.57</td><td>0.26</td></tr><tr><td>2023-11-02</td><td>123</td><td>49744.41</td><td>0.22</td></tr><tr><td>2023-11-03</td><td>150</td><td>55924.79</td><td>0.27</td></tr><tr><td>2023-11-04</td><td>154</td><td>51689.3</td><td>0.25</td></tr><tr><td>2023-11-05</td><td>122</td><td>47692.54</td><td>0.25</td></tr><tr><td>2023-11-06</td><td>121</td><td>45344.14</td><td>0.24</td></tr><tr><td>2023-11-07</td><td>126</td><td>46468.79</td><td>0.25</td></tr><tr><td>2023-11-08</td><td>148</td><td>51648.81</td><td>0.26</td></tr><tr><td>2023-11-09</td><td>143</td><td>58542.06</td><td>0.25</td></tr><tr><td>2023-11-10</td><td>119</td><td>43248.97</td><td>0.26</td></tr><tr><td>2023-11-11</td><td>115</td><td>44044.71</td><td>0.26</td></tr><tr><td>2023-11-12</td><td>141</td><td>53980.34</td><td>0.26</td></tr><tr><td>2023-11-13</td><td>147</td><td>56201.41</td><td>0.25</td></tr><tr><td>2023-11-14</td><td>140</td><td>53627.79</td><td>0.26</td></tr><tr><td>2023-11-15</td><td>133</td><td>49161.55</td><td>0.26</td></tr><tr><td>2023-11-16</td><td>126</td><td>45692.31</td><td>0.25</td></tr><tr><td>2023-11-17</td><td>139</td><td>53252.94</td><td>0.25</td></tr><tr><td>2023-11-18</td><td>138</td><td>51562.13</td><td>0.26</td></tr><tr><td>2023-11-19</td><td>135</td><td>51069.6</td><td>0.27</td></tr><tr><td>2023-11-20</td><td>118</td><td>44245.42</td><td>0.27</td></tr><tr><td>2023-11-21</td><td>116</td><td>46520.33</td><td>0.23</td></tr><tr><td>2023-11-22</td><td>140</td><td>53703.54</td><td>0.23</td></tr><tr><td>2023-11-23</td><td>155</td><td>59779.05</td><td>0.27</td></tr><tr><td>2023-11-24</td><td>150</td><td>56924.85</td><td>0.26</td></tr><tr><td>2023-11-25</td><td>138</td><td>51281.94</td><td>0.26</td></tr><tr><td>2023-11-26</td><td>115</td><td>45574.87</td><td>0.25</td></tr><tr><td>2023-11-27</td><td>163</td><td>58928.26</td><td>0.25</td></tr><tr><td>2023-11-28</td><td>127</td><td>51155.45</td><td>0.25</td></tr><tr><td>2023-11-29</td><td>146</td><td>56485.76</td><td>0.25</td></tr><tr><td>2023-11-30</td><td>131</td><td>53624.5</td><td>0.23</td></tr><tr><td>2023-12-01</td><td>137</td><td>50400.34</td><td>0.25</td></tr><tr><td>2023-12-02</td><td>135</td><td>47546.79</td><td>0.28</td></tr><tr><td>2023-12-03</td><td>143</td><td>51538.28</td><td>0.25</td></tr><tr><td>2023-12-04</td><td>123</td><td>46019.62</td><td>0.24</td></tr><tr><td>2023-12-05</td><td>122</td><td>46490.36</td><td>0.25</td></tr><tr><td>2023-12-06</td><td>151</td><td>58551.73</td><td>0.26</td></tr><tr><td>2023-12-07</td><td>145</td><td>60009.89</td><td>0.26</td></tr><tr><td>2023-12-08</td><td>163</td><td>61553.01</td><td>0.25</td></tr><tr><td>2023-12-09</td><td>147</td><td>59952.71</td><td>0.24</td></tr><tr><td>2023-12-10</td><td>140</td><td>50947.32</td><td>0.22</td></tr><tr><td>2023-12-11</td><td>137</td><td>52237.6</td><td>0.26</td></tr><tr><td>2023-12-12</td><td>137</td><td>46518.24</td><td>0.27</td></tr><tr><td>2023-12-13</td><td>137</td><td>55258.9</td><td>0.26</td></tr><tr><td>2023-12-14</td><td>139</td><td>52003.1</td><td>0.25</td></tr><tr><td>2023-12-15</td><td>129</td><td>48223.15</td><td>0.25</td></tr><tr><td>2023-12-16</td><td>154</td><td>54940.37</td><td>0.25</td></tr><tr><td>2023-12-17</td><td>135</td><td>47443.52</td><td>0.24</td></tr><tr><td>2023-12-18</td><td>125</td><td>48083.23</td><td>0.26</td></tr><tr><td>2023-12-19</td><td>129</td><td>45424.08</td><td>0.24</td></tr><tr><td>2023-12-20</td><td>152</td><td>55645.05</td><td>0.27</td></tr><tr><td>2023-12-21</td><td>124</td><td>47375.25</td><td>0.25</td></tr><tr><td>2023-12-22</td><td>134</td><td>53908.2</td><td>0.24</td></tr><tr><td>2023-12-23</td><td>143</td><td>55244.11</td><td>0.24</td></tr><tr><td>2023-12-24</td><td>168</td><td>65080.56</td><td>0.24</td></tr><tr><td>2023-12-25</td><td>134</td><td>56080.89</td><td>0.23</td></tr><tr><td>2023-12-26</td><td>139</td><td>54812.66</td><td>0.25</td></tr><tr><td>2023-12-27</td><td>114</td><td>42496.85</td><td>0.25</td></tr><tr><td>2023-12-28</td><td>122</td><td>48482.6</td><td>0.25</td></tr><tr><td>2023-12-29</td><td>151</td><td>60578.51</td><td>0.25</td></tr><tr><td>2023-12-30</td><td>126</td><td>50820.97</td><td>0.24</td></tr><tr><td>2023-12-31</td><td>136</td><td>52042.37</td><td>0.26</td></tr><tr><td>2024-01-01</td><td>137</td><td>47797.96</td><td>0.26</td></tr><tr><td>2024-01-02</td><td>136</td><td>52426.31</td><td>0.25</td></tr><tr><td>2024-01-03</td><td>130</td><td>50188.98</td><td>0.27</td></tr><tr><td>2024-01-04</td><td>119</td><td>46605.32</td><td>0.27</td></tr><tr><td>2024-01-05</td><td>138</td><td>53284.5</td><td>0.25</td></tr><tr><td>2024-01-06</td><td>128</td><td>51914.16</td><td>0.25</td></tr><tr><td>2024-01-07</td><td>109</td><td>39958.17</td><td>0.25</td></tr><tr><td>2024-01-08</td><td>139</td><td>53945.73</td><td>0.24</td></tr><tr><td>2024-01-09</td><td>138</td><td>48696.67</td><td>0.26</td></tr><tr><td>2024-01-10</td><td>138</td><td>55925.03</td><td>0.22</td></tr><tr><td>2024-01-11</td><td>139</td><td>60647.22</td><td>0.24</td></tr><tr><td>2024-01-12</td><td>143</td><td>54952.83</td><td>0.25</td></tr><tr><td>2024-01-13</td><td>130</td><td>48745.07</td><td>0.25</td></tr><tr><td>2024-01-14</td><td>130</td><td>48891.83</td><td>0.24</td></tr><tr><td>2024-01-15</td><td>179</td><td>66770.34</td><td>0.24</td></tr><tr><td>2024-01-16</td><td>129</td><td>50023.9</td><td>0.26</td></tr><tr><td>2024-01-17</td><td>128</td><td>52492.54</td><td>0.24</td></tr><tr><td>2024-01-18</td><td>130</td><td>47712.62</td><td>0.26</td></tr><tr><td>2024-01-19</td><td>122</td><td>49115.25</td><td>0.25</td></tr><tr><td>2024-01-20</td><td>143</td><td>55504.07</td><td>0.26</td></tr><tr><td>2024-01-21</td><td>119</td><td>42190.39</td><td>0.25</td></tr><tr><td>2024-01-22</td><td>120</td><td>47742.02</td><td>0.23</td></tr><tr><td>2024-01-23</td><td>164</td><td>61885.21</td><td>0.25</td></tr><tr><td>2024-01-24</td><td>130</td><td>49539.1</td><td>0.24</td></tr><tr><td>2024-01-25</td><td>126</td><td>48076.57</td><td>0.26</td></tr><tr><td>2024-01-26</td><td>142</td><td>55300.19</td><td>0.26</td></tr><tr><td>2024-01-27</td><td>143</td><td>51621.73</td><td>0.24</td></tr><tr><td>2024-01-28</td><td>136</td><td>52840.01</td><td>0.23</td></tr><tr><td>2024-01-29</td><td>144</td><td>54057.92</td><td>0.26</td></tr><tr><td>2024-01-30</td><td>168</td><td>59955.32</td><td>0.26</td></tr><tr><td>2024-01-31</td><td>122</td><td>44142.94</td><td>0.25</td></tr><tr><td>2024-02-01</td><td>147</td><td>50733.44</td><td>0.26</td></tr><tr><td>2024-02-02</td><td>130</td><td>51522.08</td><td>0.24</td></tr><tr><td>2024-02-03</td><td>140</td><td>52933.86</td><td>0.26</td></tr><tr><td>2024-02-04</td><td>147</td><td>61773.0</td><td>0.24</td></tr><tr><td>2024-02-05</td><td>122</td><td>48604.14</td><td>0.24</td></tr><tr><td>2024-02-06</td><td>122</td><td>44271.28</td><td>0.25</td></tr><tr><td>2024-02-07</td><td>133</td><td>54337.38</td><td>0.24</td></tr><tr><td>2024-02-08</td><td>129</td><td>49525.25</td><td>0.24</td></tr><tr><td>2024-02-09</td><td>125</td><td>42005.21</td><td>0.25</td></tr><tr><td>2024-02-10</td><td>120</td><td>39972.3</td><td>0.26</td></tr><tr><td>2024-02-11</td><td>158</td><td>61887.84</td><td>0.26</td></tr><tr><td>2024-02-12</td><td>144</td><td>49979.21</td><td>0.26</td></tr><tr><td>2024-02-13</td><td>140</td><td>56323.72</td><td>0.25</td></tr><tr><td>2024-02-14</td><td>138</td><td>52662.37</td><td>0.25</td></tr><tr><td>2024-02-15</td><td>143</td><td>54004.07</td><td>0.23</td></tr><tr><td>2024-02-16</td><td>133</td><td>50140.97</td><td>0.26</td></tr><tr><td>2024-02-17</td><td>143</td><td>53182.55</td><td>0.25</td></tr><tr><td>2024-02-18</td><td>144</td><td>50415.99</td><td>0.25</td></tr><tr><td>2024-02-19</td><td>140</td><td>55547.63</td><td>0.24</td></tr><tr><td>2024-02-20</td><td>125</td><td>42454.32</td><td>0.27</td></tr><tr><td>2024-02-21</td><td>147</td><td>50193.1</td><td>0.26</td></tr><tr><td>2024-02-22</td><td>133</td><td>49947.32</td><td>0.25</td></tr><tr><td>2024-02-23</td><td>152</td><td>56353.06</td><td>0.25</td></tr><tr><td>2024-02-24</td><td>131</td><td>47787.21</td><td>0.23</td></tr><tr><td>2024-02-25</td><td>140</td><td>57781.06</td><td>0.23</td></tr><tr><td>2024-02-26</td><td>133</td><td>52627.92</td><td>0.23</td></tr><tr><td>2024-02-27</td><td>135</td><td>45803.48</td><td>0.24</td></tr><tr><td>2024-02-28</td><td>125</td><td>49699.24</td><td>0.24</td></tr><tr><td>2024-02-29</td><td>143</td><td>54270.63</td><td>0.25</td></tr><tr><td>2024-03-01</td><td>161</td><td>60837.21</td><td>0.25</td></tr><tr><td>2024-03-02</td><td>126</td><td>50601.47</td><td>0.23</td></tr><tr><td>2024-03-03</td><td>127</td><td>45688.28</td><td>0.23</td></tr><tr><td>2024-03-04</td><td>129</td><td>49828.8</td><td>0.27</td></tr><tr><td>2024-03-05</td><td>133</td><td>46197.61</td><td>0.27</td></tr><tr><td>2024-03-06</td><td>144</td><td>56987.36</td><td>0.25</td></tr><tr><td>2024-03-07</td><td>146</td><td>50709.7</td><td>0.26</td></tr><tr><td>2024-03-08</td><td>130</td><td>49190.87</td><td>0.24</td></tr><tr><td>2024-03-09</td><td>141</td><td>51470.29</td><td>0.27</td></tr><tr><td>2024-03-10</td><td>146</td><td>59192.37</td><td>0.25</td></tr><tr><td>2024-03-11</td><td>133</td><td>47611.11</td><td>0.27</td></tr><tr><td>2024-03-12</td><td>122</td><td>49339.21</td><td>0.27</td></tr><tr><td>2024-03-13</td><td>143</td><td>57688.17</td><td>0.24</td></tr><tr><td>2024-03-14</td><td>133</td><td>51293.36</td><td>0.22</td></tr><tr><td>2024-03-15</td><td>137</td><td>50393.48</td><td>0.25</td></tr><tr><td>2024-03-16</td><td>133</td><td>51998.27</td><td>0.24</td></tr><tr><td>2024-03-17</td><td>117</td><td>46635.81</td><td>0.25</td></tr><tr><td>2024-03-18</td><td>117</td><td>43392.79</td><td>0.25</td></tr><tr><td>2024-03-19</td><td>137</td><td>49930.45</td><td>0.26</td></tr><tr><td>2024-03-20</td><td>117</td><td>42346.8</td><td>0.24</td></tr><tr><td>2024-03-21</td><td>170</td><td>69778.11</td><td>0.26</td></tr><tr><td>2024-03-22</td><td>119</td><td>47304.84</td><td>0.26</td></tr><tr><td>2024-03-23</td><td>121</td><td>49720.47</td><td>0.24</td></tr><tr><td>2024-03-24</td><td>136</td><td>46593.04</td><td>0.27</td></tr><tr><td>2024-03-25</td><td>128</td><td>52198.47</td><td>0.23</td></tr><tr><td>2024-03-26</td><td>138</td><td>53185.52</td><td>0.25</td></tr><tr><td>2024-03-27</td><td>134</td><td>52417.88</td><td>0.24</td></tr><tr><td>2024-03-28</td><td>133</td><td>45212.36</td><td>0.27</td></tr><tr><td>2024-03-29</td><td>142</td><td>58167.39</td><td>0.25</td></tr><tr><td>2024-03-30</td><td>156</td><td>60470.82</td><td>0.25</td></tr><tr><td>2024-03-31</td><td>160</td><td>62855.38</td><td>0.25</td></tr><tr><td>2024-04-01</td><td>141</td><td>54323.6</td><td>0.24</td></tr><tr><td>2024-04-02</td><td>124</td><td>45811.36</td><td>0.25</td></tr><tr><td>2024-04-03</td><td>132</td><td>47446.46</td><td>0.26</td></tr><tr><td>2024-04-04</td><td>123</td><td>44479.97</td><td>0.25</td></tr><tr><td>2024-04-05</td><td>133</td><td>52140.39</td><td>0.26</td></tr><tr><td>2024-04-06</td><td>162</td><td>58117.45</td><td>0.27</td></tr><tr><td>2024-04-07</td><td>113</td><td>46794.19</td><td>0.24</td></tr><tr><td>2024-04-08</td><td>151</td><td>56209.2</td><td>0.24</td></tr><tr><td>2024-04-09</td><td>136</td><td>50356.51</td><td>0.25</td></tr><tr><td>2024-04-10</td><td>135</td><td>49370.62</td><td>0.26</td></tr><tr><td>2024-04-11</td><td>131</td><td>45280.03</td><td>0.25</td></tr><tr><td>2024-04-12</td><td>141</td><td>55787.27</td><td>0.27</td></tr><tr><td>2024-04-13</td><td>167</td><td>65735.75</td><td>0.25</td></tr><tr><td>2024-04-14</td><td>150</td><td>55764.61</td><td>0.25</td></tr><tr><td>2024-04-15</td><td>122</td><td>45063.05</td><td>0.26</td></tr><tr><td>2024-04-16</td><td>131</td><td>52555.95</td><td>0.25</td></tr><tr><td>2024-04-17</td><td>114</td><td>38390.63</td><td>0.27</td></tr><tr><td>2024-04-18</td><td>139</td><td>53357.66</td><td>0.27</td></tr><tr><td>2024-04-19</td><td>137</td><td>55698.89</td><td>0.26</td></tr><tr><td>2024-04-20</td><td>146</td><td>53158.86</td><td>0.27</td></tr><tr><td>2024-04-21</td><td>160</td><td>58188.88</td><td>0.26</td></tr><tr><td>2024-04-22</td><td>145</td><td>54984.78</td><td>0.26</td></tr><tr><td>2024-04-23</td><td>149</td><td>56465.47</td><td>0.25</td></tr><tr><td>2024-04-24</td><td>126</td><td>49152.41</td><td>0.26</td></tr><tr><td>2024-04-25</td><td>137</td><td>54024.8</td><td>0.25</td></tr><tr><td>2024-04-26</td><td>139</td><td>49373.7</td><td>0.28</td></tr><tr><td>2024-04-27</td><td>134</td><td>50120.71</td><td>0.25</td></tr><tr><td>2024-04-28</td><td>140</td><td>51215.79</td><td>0.24</td></tr><tr><td>2024-04-29</td><td>133</td><td>47740.28</td><td>0.23</td></tr><tr><td>2024-04-30</td><td>144</td><td>54591.09</td><td>0.24</td></tr><tr><td>2024-05-01</td><td>132</td><td>46128.04</td><td>0.25</td></tr><tr><td>2024-05-02</td><td>131</td><td>48271.98</td><td>0.24</td></tr><tr><td>2024-05-03</td><td>133</td><td>48172.86</td><td>0.24</td></tr><tr><td>2024-05-04</td><td>146</td><td>55364.02</td><td>0.26</td></tr><tr><td>2024-05-05</td><td>146</td><td>52260.56</td><td>0.24</td></tr><tr><td>2024-05-06</td><td>134</td><td>56391.3</td><td>0.24</td></tr><tr><td>2024-05-07</td><td>126</td><td>48158.54</td><td>0.26</td></tr><tr><td>2024-05-08</td><td>140</td><td>55312.36</td><td>0.25</td></tr><tr><td>2024-05-09</td><td>130</td><td>49805.77</td><td>0.26</td></tr><tr><td>2024-05-10</td><td>132</td><td>49051.05</td><td>0.27</td></tr><tr><td>2024-05-11</td><td>135</td><td>48132.61</td><td>0.26</td></tr><tr><td>2024-05-12</td><td>129</td><td>48289.08</td><td>0.26</td></tr><tr><td>2024-05-13</td><td>135</td><td>50330.73</td><td>0.25</td></tr><tr><td>2024-05-14</td><td>137</td><td>51049.42</td><td>0.25</td></tr><tr><td>2024-05-15</td><td>129</td><td>51888.75</td><td>0.26</td></tr><tr><td>2024-05-16</td><td>123</td><td>47682.76</td><td>0.24</td></tr><tr><td>2024-05-17</td><td>137</td><td>50349.53</td><td>0.27</td></tr><tr><td>2024-05-18</td><td>132</td><td>49548.19</td><td>0.25</td></tr><tr><td>2024-05-19</td><td>134</td><td>49313.55</td><td>0.27</td></tr><tr><td>2024-05-20</td><td>126</td><td>50383.89</td><td>0.24</td></tr><tr><td>2024-05-21</td><td>140</td><td>55140.72</td><td>0.22</td></tr><tr><td>2024-05-22</td><td>131</td><td>46938.28</td><td>0.25</td></tr><tr><td>2024-05-23</td><td>154</td><td>59710.33</td><td>0.24</td></tr><tr><td>2024-05-24</td><td>122</td><td>46842.24</td><td>0.23</td></tr><tr><td>2024-05-25</td><td>167</td><td>62237.11</td><td>0.23</td></tr><tr><td>2024-05-26</td><td>148</td><td>58725.53</td><td>0.26</td></tr><tr><td>2024-05-27</td><td>166</td><td>63485.65</td><td>0.25</td></tr><tr><td>2024-05-28</td><td>141</td><td>53538.78</td><td>0.25</td></tr><tr><td>2024-05-29</td><td>108</td><td>39091.18</td><td>0.24</td></tr><tr><td>2024-05-30</td><td>129</td><td>43887.76</td><td>0.27</td></tr><tr><td>2024-05-31</td><td>127</td><td>46529.83</td><td>0.27</td></tr><tr><td>2024-06-01</td><td>138</td><td>52962.39</td><td>0.24</td></tr><tr><td>2024-06-02</td><td>127</td><td>44296.17</td><td>0.23</td></tr><tr><td>2024-06-03</td><td>126</td><td>48157.42</td><td>0.25</td></tr><tr><td>2024-06-04</td><td>145</td><td>54302.6</td><td>0.24</td></tr><tr><td>2024-06-05</td><td>127</td><td>45695.55</td><td>0.25</td></tr><tr><td>2024-06-06</td><td>133</td><td>55520.67</td><td>0.23</td></tr><tr><td>2024-06-07</td><td>145</td><td>53331.35</td><td>0.26</td></tr><tr><td>2024-06-08</td><td>151</td><td>55704.77</td><td>0.28</td></tr><tr><td>2024-06-09</td><td>123</td><td>45814.38</td><td>0.26</td></tr><tr><td>2024-06-10</td><td>128</td><td>50960.21</td><td>0.25</td></tr><tr><td>2024-06-11</td><td>150</td><td>59295.99</td><td>0.24</td></tr><tr><td>2024-06-12</td><td>133</td><td>45223.76</td><td>0.25</td></tr><tr><td>2024-06-13</td><td>153</td><td>54689.77</td><td>0.25</td></tr><tr><td>2024-06-14</td><td>127</td><td>51253.84</td><td>0.25</td></tr><tr><td>2024-06-15</td><td>133</td><td>49433.47</td><td>0.26</td></tr><tr><td>2024-06-16</td><td>130</td><td>52897.19</td><td>0.26</td></tr><tr><td>2024-06-17</td><td>140</td><td>54674.88</td><td>0.25</td></tr><tr><td>2024-06-18</td><td>143</td><td>59278.9</td><td>0.24</td></tr><tr><td>2024-06-19</td><td>139</td><td>54755.56</td><td>0.23</td></tr><tr><td>2024-06-20</td><td>133</td><td>52358.99</td><td>0.25</td></tr><tr><td>2024-06-21</td><td>136</td><td>49835.06</td><td>0.28</td></tr><tr><td>2024-06-22</td><td>137</td><td>45680.11</td><td>0.24</td></tr><tr><td>2024-06-23</td><td>158</td><td>59714.71</td><td>0.26</td></tr><tr><td>2024-06-24</td><td>112</td><td>42720.43</td><td>0.23</td></tr><tr><td>2024-06-25</td><td>137</td><td>52784.14</td><td>0.25</td></tr><tr><td>2024-06-26</td><td>123</td><td>46746.92</td><td>0.25</td></tr><tr><td>2024-06-27</td><td>140</td><td>52500.62</td><td>0.21</td></tr><tr><td>2024-06-28</td><td>140</td><td>56208.08</td><td>0.24</td></tr><tr><td>2024-06-29</td><td>155</td><td>61019.04</td><td>0.25</td></tr><tr><td>2024-06-30</td><td>135</td><td>48608.4</td><td>0.25</td></tr><tr><td>2024-07-01</td><td>130</td><td>48603.98</td><td>0.26</td></tr><tr><td>2024-07-02</td><td>135</td><td>55273.72</td><td>0.24</td></tr><tr><td>2024-07-03</td><td>144</td><td>58384.08</td><td>0.23</td></tr><tr><td>2024-07-04</td><td>134</td><td>49795.36</td><td>0.25</td></tr><tr><td>2024-07-05</td><td>145</td><td>56060.12</td><td>0.24</td></tr><tr><td>2024-07-06</td><td>147</td><td>58395.76</td><td>0.26</td></tr><tr><td>2024-07-07</td><td>152</td><td>55179.3</td><td>0.24</td></tr><tr><td>2024-07-08</td><td>147</td><td>56288.63</td><td>0.26</td></tr><tr><td>2024-07-09</td><td>148</td><td>55501.16</td><td>0.25</td></tr><tr><td>2024-07-10</td><td>160</td><td>59454.47</td><td>0.24</td></tr><tr><td>2024-07-11</td><td>154</td><td>62394.84</td><td>0.23</td></tr><tr><td>2024-07-12</td><td>122</td><td>53029.94</td><td>0.24</td></tr><tr><td>2024-07-13</td><td>133</td><td>46641.86</td><td>0.27</td></tr><tr><td>2024-07-14</td><td>153</td><td>57217.9</td><td>0.26</td></tr><tr><td>2024-07-15</td><td>149</td><td>59538.75</td><td>0.26</td></tr><tr><td>2024-07-16</td><td>150</td><td>57033.71</td><td>0.25</td></tr><tr><td>2024-07-17</td><td>144</td><td>54335.11</td><td>0.26</td></tr><tr><td>2024-07-18</td><td>133</td><td>49146.7</td><td>0.25</td></tr><tr><td>2024-07-19</td><td>140</td><td>55055.26</td><td>0.23</td></tr><tr><td>2024-07-20</td><td>142</td><td>58277.4</td><td>0.24</td></tr><tr><td>2024-07-21</td><td>132</td><td>47693.11</td><td>0.25</td></tr><tr><td>2024-07-22</td><td>130</td><td>46036.09</td><td>0.25</td></tr><tr><td>2024-07-23</td><td>146</td><td>54362.67</td><td>0.23</td></tr><tr><td>2024-07-24</td><td>156</td><td>58630.33</td><td>0.25</td></tr><tr><td>2024-07-25</td><td>157</td><td>57565.49</td><td>0.24</td></tr><tr><td>2024-07-26</td><td>134</td><td>51018.09</td><td>0.25</td></tr><tr><td>2024-07-27</td><td>138</td><td>52146.2</td><td>0.25</td></tr><tr><td>2024-07-28</td><td>135</td><td>52180.58</td><td>0.25</td></tr><tr><td>2024-07-29</td><td>138</td><td>49910.76</td><td>0.26</td></tr><tr><td>2024-07-30</td><td>145</td><td>55748.34</td><td>0.24</td></tr><tr><td>2024-07-31</td><td>131</td><td>51292.93</td><td>0.25</td></tr><tr><td>2024-08-01</td><td>144</td><td>55766.42</td><td>0.25</td></tr><tr><td>2024-08-02</td><td>139</td><td>53057.09</td><td>0.27</td></tr><tr><td>2024-08-03</td><td>149</td><td>56176.61</td><td>0.26</td></tr><tr><td>2024-08-04</td><td>147</td><td>52643.99</td><td>0.24</td></tr><tr><td>2024-08-05</td><td>157</td><td>68583.5</td><td>0.22</td></tr><tr><td>2024-08-06</td><td>127</td><td>43697.99</td><td>0.26</td></tr><tr><td>2024-08-07</td><td>139</td><td>58217.79</td><td>0.25</td></tr><tr><td>2024-08-08</td><td>141</td><td>52286.14</td><td>0.26</td></tr><tr><td>2024-08-09</td><td>134</td><td>49635.54</td><td>0.24</td></tr><tr><td>2024-08-10</td><td>142</td><td>55785.01</td><td>0.26</td></tr><tr><td>2024-08-11</td><td>135</td><td>44001.52</td><td>0.27</td></tr><tr><td>2024-08-12</td><td>121</td><td>47380.01</td><td>0.25</td></tr><tr><td>2024-08-13</td><td>143</td><td>52002.1</td><td>0.26</td></tr><tr><td>2024-08-14</td><td>153</td><td>52477.88</td><td>0.24</td></tr><tr><td>2024-08-15</td><td>123</td><td>43381.37</td><td>0.25</td></tr><tr><td>2024-08-16</td><td>131</td><td>48038.6</td><td>0.25</td></tr><tr><td>2024-08-17</td><td>118</td><td>47347.21</td><td>0.26</td></tr><tr><td>2024-08-18</td><td>137</td><td>56216.7</td><td>0.25</td></tr><tr><td>2024-08-19</td><td>154</td><td>62107.39</td><td>0.24</td></tr><tr><td>2024-08-20</td><td>118</td><td>43933.69</td><td>0.25</td></tr><tr><td>2024-08-21</td><td>138</td><td>47406.27</td><td>0.28</td></tr><tr><td>2024-08-22</td><td>150</td><td>55719.93</td><td>0.27</td></tr><tr><td>2024-08-23</td><td>132</td><td>49953.09</td><td>0.25</td></tr><tr><td>2024-08-24</td><td>132</td><td>48752.75</td><td>0.26</td></tr><tr><td>2024-08-25</td><td>115</td><td>42051.01</td><td>0.24</td></tr><tr><td>2024-08-26</td><td>138</td><td>53978.24</td><td>0.26</td></tr><tr><td>2024-08-27</td><td>156</td><td>56318.72</td><td>0.26</td></tr><tr><td>2024-08-28</td><td>124</td><td>48128.31</td><td>0.25</td></tr><tr><td>2024-08-29</td><td>137</td><td>50164.82</td><td>0.25</td></tr><tr><td>2024-08-30</td><td>129</td><td>49687.53</td><td>0.26</td></tr><tr><td>2024-08-31</td><td>124</td><td>44271.56</td><td>0.26</td></tr><tr><td>2024-09-01</td><td>142</td><td>51129.21</td><td>0.26</td></tr><tr><td>2024-09-02</td><td>112</td><td>40281.77</td><td>0.24</td></tr><tr><td>2024-09-03</td><td>148</td><td>54448.08</td><td>0.26</td></tr><tr><td>2024-09-04</td><td>131</td><td>46411.35</td><td>0.25</td></tr><tr><td>2024-09-05</td><td>138</td><td>46694.36</td><td>0.26</td></tr><tr><td>2024-09-06</td><td>137</td><td>50006.74</td><td>0.26</td></tr><tr><td>2024-09-07</td><td>150</td><td>54782.57</td><td>0.27</td></tr><tr><td>2024-09-08</td><td>149</td><td>62269.41</td><td>0.23</td></tr><tr><td>2024-09-09</td><td>146</td><td>56936.29</td><td>0.24</td></tr><tr><td>2024-09-10</td><td>140</td><td>49310.56</td><td>0.26</td></tr><tr><td>2024-09-11</td><td>156</td><td>64477.18</td><td>0.25</td></tr><tr><td>2024-09-12</td><td>148</td><td>56035.02</td><td>0.25</td></tr><tr><td>2024-09-13</td><td>137</td><td>49542.34</td><td>0.25</td></tr><tr><td>2024-09-14</td><td>155</td><td>58982.87</td><td>0.25</td></tr><tr><td>2024-09-15</td><td>147</td><td>54301.65</td><td>0.23</td></tr><tr><td>2024-09-16</td><td>135</td><td>50397.26</td><td>0.27</td></tr><tr><td>2024-09-17</td><td>141</td><td>52485.82</td><td>0.25</td></tr><tr><td>2024-09-18</td><td>128</td><td>52696.83</td><td>0.23</td></tr><tr><td>2024-09-19</td><td>147</td><td>58656.24</td><td>0.26</td></tr><tr><td>2024-09-20</td><td>122</td><td>48788.24</td><td>0.26</td></tr><tr><td>2024-09-21</td><td>121</td><td>41856.67</td><td>0.27</td></tr><tr><td>2024-09-22</td><td>141</td><td>52695.4</td><td>0.25</td></tr><tr><td>2024-09-23</td><td>129</td><td>50645.97</td><td>0.24</td></tr><tr><td>2024-09-24</td><td>147</td><td>58148.82</td><td>0.24</td></tr><tr><td>2024-09-25</td><td>146</td><td>58053.66</td><td>0.24</td></tr><tr><td>2024-09-26</td><td>135</td><td>54362.08</td><td>0.23</td></tr><tr><td>2024-09-27</td><td>156</td><td>60724.62</td><td>0.24</td></tr><tr><td>2024-09-28</td><td>136</td><td>50644.5</td><td>0.25</td></tr><tr><td>2024-09-29</td><td>129</td><td>47838.49</td><td>0.23</td></tr><tr><td>2024-09-30</td><td>135</td><td>48556.07</td><td>0.25</td></tr><tr><td>2024-10-01</td><td>148</td><td>58725.18</td><td>0.25</td></tr><tr><td>2024-10-02</td><td>154</td><td>59209.68</td><td>0.24</td></tr><tr><td>2024-10-03</td><td>142</td><td>56887.41</td><td>0.24</td></tr><tr><td>2024-10-04</td><td>139</td><td>54299.05</td><td>0.25</td></tr><tr><td>2024-10-05</td><td>144</td><td>53468.87</td><td>0.26</td></tr><tr><td>2024-10-06</td><td>174</td><td>62852.41</td><td>0.24</td></tr><tr><td>2024-10-07</td><td>149</td><td>61521.97</td><td>0.24</td></tr><tr><td>2024-10-08</td><td>134</td><td>53448.4</td><td>0.26</td></tr><tr><td>2024-10-09</td><td>142</td><td>54920.83</td><td>0.27</td></tr><tr><td>2024-10-10</td><td>120</td><td>47712.48</td><td>0.24</td></tr><tr><td>2024-10-11</td><td>136</td><td>54226.41</td><td>0.24</td></tr><tr><td>2024-10-12</td><td>154</td><td>60520.04</td><td>0.25</td></tr><tr><td>2024-10-13</td><td>132</td><td>48288.22</td><td>0.24</td></tr><tr><td>2024-10-14</td><td>124</td><td>42718.73</td><td>0.26</td></tr><tr><td>2024-10-15</td><td>140</td><td>50554.71</td><td>0.25</td></tr><tr><td>2024-10-16</td><td>138</td><td>50510.36</td><td>0.24</td></tr><tr><td>2024-10-17</td><td>140</td><td>57618.76</td><td>0.25</td></tr><tr><td>2024-10-18</td><td>119</td><td>41382.46</td><td>0.27</td></tr><tr><td>2024-10-19</td><td>103</td><td>37339.05</td><td>0.22</td></tr><tr><td>2024-10-20</td><td>131</td><td>50851.69</td><td>0.26</td></tr><tr><td>2024-10-21</td><td>137</td><td>53471.8</td><td>0.25</td></tr><tr><td>2024-10-22</td><td>131</td><td>56442.01</td><td>0.25</td></tr><tr><td>2024-10-23</td><td>126</td><td>51055.21</td><td>0.23</td></tr><tr><td>2024-10-24</td><td>145</td><td>54353.93</td><td>0.25</td></tr><tr><td>2024-10-25</td><td>146</td><td>55903.87</td><td>0.25</td></tr><tr><td>2024-10-26</td><td>131</td><td>54102.37</td><td>0.26</td></tr><tr><td>2024-10-27</td><td>129</td><td>51283.99</td><td>0.24</td></tr><tr><td>2024-10-28</td><td>141</td><td>51071.88</td><td>0.26</td></tr><tr><td>2024-10-29</td><td>150</td><td>57493.95</td><td>0.23</td></tr><tr><td>2024-10-30</td><td>142</td><td>52748.9</td><td>0.26</td></tr><tr><td>2024-10-31</td><td>138</td><td>49847.12</td><td>0.25</td></tr><tr><td>2024-11-01</td><td>140</td><td>54190.7</td><td>0.23</td></tr><tr><td>2024-11-02</td><td>142</td><td>56941.29</td><td>0.26</td></tr><tr><td>2024-11-03</td><td>157</td><td>55330.4</td><td>0.25</td></tr><tr><td>2024-11-04</td><td>132</td><td>53434.84</td><td>0.24</td></tr><tr><td>2024-11-05</td><td>136</td><td>50281.41</td><td>0.27</td></tr><tr><td>2024-11-06</td><td>146</td><td>55426.24</td><td>0.25</td></tr><tr><td>2024-11-07</td><td>148</td><td>54485.95</td><td>0.27</td></tr><tr><td>2024-11-08</td><td>133</td><td>50542.76</td><td>0.24</td></tr><tr><td>2024-11-09</td><td>129</td><td>50186.11</td><td>0.25</td></tr><tr><td>2024-11-10</td><td>116</td><td>41660.08</td><td>0.27</td></tr><tr><td>2024-11-11</td><td>135</td><td>52720.1</td><td>0.24</td></tr><tr><td>2024-11-12</td><td>148</td><td>53924.04</td><td>0.28</td></tr><tr><td>2024-11-13</td><td>149</td><td>57749.7</td><td>0.26</td></tr><tr><td>2024-11-14</td><td>148</td><td>49216.5</td><td>0.25</td></tr><tr><td>2024-11-15</td><td>117</td><td>44259.42</td><td>0.25</td></tr><tr><td>2024-11-16</td><td>152</td><td>57540.49</td><td>0.25</td></tr><tr><td>2024-11-17</td><td>117</td><td>43577.12</td><td>0.26</td></tr><tr><td>2024-11-18</td><td>141</td><td>57262.11</td><td>0.25</td></tr><tr><td>2024-11-19</td><td>133</td><td>47333.1</td><td>0.26</td></tr><tr><td>2024-11-20</td><td>161</td><td>60181.83</td><td>0.25</td></tr><tr><td>2024-11-21</td><td>156</td><td>57967.57</td><td>0.24</td></tr><tr><td>2024-11-22</td><td>138</td><td>55590.29</td><td>0.24</td></tr><tr><td>2024-11-23</td><td>122</td><td>52155.21</td><td>0.23</td></tr><tr><td>2024-11-24</td><td>123</td><td>41861.68</td><td>0.28</td></tr><tr><td>2024-11-25</td><td>153</td><td>58068.03</td><td>0.26</td></tr><tr><td>2024-11-26</td><td>141</td><td>49528.48</td><td>0.24</td></tr><tr><td>2024-11-27</td><td>122</td><td>43341.68</td><td>0.24</td></tr><tr><td>2024-11-28</td><td>148</td><td>57270.43</td><td>0.26</td></tr><tr><td>2024-11-29</td><td>126</td><td>43551.9</td><td>0.27</td></tr><tr><td>2024-11-30</td><td>125</td><td>49380.6</td><td>0.24</td></tr><tr><td>2024-12-01</td><td>120</td><td>45580.64</td><td>0.26</td></tr><tr><td>2024-12-02</td><td>120</td><td>44450.27</td><td>0.27</td></tr><tr><td>2024-12-03</td><td>127</td><td>46603.91</td><td>0.24</td></tr><tr><td>2024-12-04</td><td>136</td><td>50221.43</td><td>0.25</td></tr><tr><td>2024-12-05</td><td>143</td><td>51406.35</td><td>0.23</td></tr><tr><td>2024-12-06</td><td>127</td><td>49239.1</td><td>0.24</td></tr><tr><td>2024-12-07</td><td>129</td><td>48745.09</td><td>0.26</td></tr><tr><td>2024-12-08</td><td>140</td><td>49605.57</td><td>0.26</td></tr><tr><td>2024-12-09</td><td>136</td><td>52072.8</td><td>0.25</td></tr><tr><td>2024-12-10</td><td>149</td><td>59151.82</td><td>0.27</td></tr><tr><td>2024-12-11</td><td>138</td><td>52990.09</td><td>0.25</td></tr><tr><td>2024-12-12</td><td>137</td><td>49105.3</td><td>0.25</td></tr><tr><td>2024-12-13</td><td>132</td><td>47534.92</td><td>0.25</td></tr><tr><td>2024-12-14</td><td>158</td><td>60846.82</td><td>0.24</td></tr><tr><td>2024-12-15</td><td>115</td><td>45517.8</td><td>0.25</td></tr><tr><td>2024-12-16</td><td>121</td><td>47403.8</td><td>0.26</td></tr><tr><td>2024-12-17</td><td>136</td><td>51962.04</td><td>0.26</td></tr><tr><td>2024-12-18</td><td>142</td><td>56749.78</td><td>0.26</td></tr><tr><td>2024-12-19</td><td>148</td><td>57889.54</td><td>0.24</td></tr><tr><td>2024-12-20</td><td>118</td><td>50597.97</td><td>0.25</td></tr><tr><td>2024-12-21</td><td>136</td><td>54029.25</td><td>0.24</td></tr><tr><td>2024-12-22</td><td>141</td><td>55800.14</td><td>0.25</td></tr><tr><td>2024-12-23</td><td>136</td><td>50579.15</td><td>0.24</td></tr><tr><td>2024-12-24</td><td>127</td><td>43835.48</td><td>0.24</td></tr><tr><td>2024-12-25</td><td>160</td><td>61197.77</td><td>0.25</td></tr><tr><td>2024-12-26</td><td>134</td><td>48333.7</td><td>0.27</td></tr><tr><td>2024-12-27</td><td>124</td><td>49850.62</td><td>0.24</td></tr><tr><td>2024-12-28</td><td>121</td><td>43859.68</td><td>0.26</td></tr><tr><td>2024-12-29</td><td>138</td><td>53074.25</td><td>0.26</td></tr><tr><td>2024-12-30</td><td>139</td><td>56111.38</td><td>0.23</td></tr><tr><td>2024-12-31</td><td>135</td><td>49819.43</td><td>0.25</td></tr><tr><td>2025-01-01</td><td>135</td><td>49843.88</td><td>0.24</td></tr><tr><td>2025-01-02</td><td>169</td><td>62825.2</td><td>0.25</td></tr><tr><td>2025-01-03</td><td>130</td><td>49773.75</td><td>0.26</td></tr><tr><td>2025-01-04</td><td>133</td><td>52157.66</td><td>0.24</td></tr><tr><td>2025-01-05</td><td>148</td><td>54090.91</td><td>0.25</td></tr><tr><td>2025-01-06</td><td>136</td><td>53555.69</td><td>0.25</td></tr><tr><td>2025-01-07</td><td>140</td><td>52690.18</td><td>0.26</td></tr><tr><td>2025-01-08</td><td>131</td><td>52252.77</td><td>0.26</td></tr><tr><td>2025-01-09</td><td>142</td><td>58294.01</td><td>0.24</td></tr><tr><td>2025-01-10</td><td>131</td><td>50416.91</td><td>0.24</td></tr><tr><td>2025-01-11</td><td>141</td><td>52047.3</td><td>0.25</td></tr><tr><td>2025-01-12</td><td>135</td><td>48306.3</td><td>0.26</td></tr><tr><td>2025-01-13</td><td>127</td><td>44992.46</td><td>0.24</td></tr><tr><td>2025-01-14</td><td>144</td><td>60648.67</td><td>0.24</td></tr><tr><td>2025-01-15</td><td>121</td><td>43745.46</td><td>0.26</td></tr><tr><td>2025-01-16</td><td>140</td><td>55395.23</td><td>0.26</td></tr><tr><td>2025-01-17</td><td>142</td><td>52133.0</td><td>0.24</td></tr><tr><td>2025-01-18</td><td>148</td><td>56442.79</td><td>0.27</td></tr><tr><td>2025-01-19</td><td>157</td><td>61896.4</td><td>0.25</td></tr><tr><td>2025-01-20</td><td>151</td><td>58115.88</td><td>0.26</td></tr><tr><td>2025-01-21</td><td>145</td><td>54802.71</td><td>0.26</td></tr><tr><td>2025-01-22</td><td>142</td><td>53267.97</td><td>0.26</td></tr><tr><td>2025-01-23</td><td>154</td><td>59464.78</td><td>0.23</td></tr><tr><td>2025-01-24</td><td>115</td><td>43948.74</td><td>0.24</td></tr><tr><td>2025-01-25</td><td>110</td><td>44298.9</td><td>0.23</td></tr><tr><td>2025-01-26</td><td>159</td><td>61326.13</td><td>0.25</td></tr><tr><td>2025-01-27</td><td>136</td><td>53289.13</td><td>0.26</td></tr><tr><td>2025-01-28</td><td>130</td><td>47111.4</td><td>0.27</td></tr><tr><td>2025-01-29</td><td>129</td><td>44469.6</td><td>0.27</td></tr><tr><td>2025-01-30</td><td>133</td><td>52191.79</td><td>0.25</td></tr><tr><td>2025-01-31</td><td>131</td><td>51827.74</td><td>0.24</td></tr><tr><td>2025-02-01</td><td>140</td><td>51169.01</td><td>0.24</td></tr><tr><td>2025-02-02</td><td>134</td><td>51997.68</td><td>0.24</td></tr><tr><td>2025-02-03</td><td>122</td><td>45503.86</td><td>0.26</td></tr><tr><td>2025-02-04</td><td>145</td><td>53581.27</td><td>0.25</td></tr><tr><td>2025-02-05</td><td>151</td><td>55735.51</td><td>0.26</td></tr><tr><td>2025-02-06</td><td>148</td><td>59093.69</td><td>0.24</td></tr><tr><td>2025-02-07</td><td>152</td><td>56411.54</td><td>0.27</td></tr><tr><td>2025-02-08</td><td>149</td><td>55802.94</td><td>0.25</td></tr><tr><td>2025-02-09</td><td>122</td><td>49278.64</td><td>0.25</td></tr><tr><td>2025-02-10</td><td>124</td><td>45419.79</td><td>0.25</td></tr><tr><td>2025-02-11</td><td>137</td><td>50676.69</td><td>0.26</td></tr><tr><td>2025-02-12</td><td>127</td><td>50294.63</td><td>0.24</td></tr><tr><td>2025-02-13</td><td>129</td><td>46104.24</td><td>0.25</td></tr><tr><td>2025-02-14</td><td>166</td><td>61844.3</td><td>0.24</td></tr><tr><td>2025-02-15</td><td>129</td><td>45796.09</td><td>0.25</td></tr><tr><td>2025-02-16</td><td>136</td><td>51437.52</td><td>0.27</td></tr><tr><td>2025-02-17</td><td>126</td><td>43830.56</td><td>0.26</td></tr><tr><td>2025-02-18</td><td>122</td><td>42667.88</td><td>0.26</td></tr><tr><td>2025-02-19</td><td>141</td><td>52916.27</td><td>0.24</td></tr><tr><td>2025-02-20</td><td>128</td><td>45117.18</td><td>0.26</td></tr><tr><td>2025-02-21</td><td>146</td><td>56164.91</td><td>0.25</td></tr><tr><td>2025-02-22</td><td>145</td><td>54863.35</td><td>0.26</td></tr><tr><td>2025-02-23</td><td>123</td><td>49452.11</td><td>0.25</td></tr><tr><td>2025-02-24</td><td>144</td><td>52307.07</td><td>0.26</td></tr><tr><td>2025-02-25</td><td>140</td><td>55063.15</td><td>0.26</td></tr><tr><td>2025-02-26</td><td>164</td><td>65040.42</td><td>0.24</td></tr><tr><td>2025-02-27</td><td>136</td><td>49301.44</td><td>0.25</td></tr><tr><td>2025-02-28</td><td>132</td><td>52843.48</td><td>0.23</td></tr><tr><td>2025-03-01</td><td>151</td><td>50490.04</td><td>0.24</td></tr><tr><td>2025-03-02</td><td>128</td><td>45928.01</td><td>0.25</td></tr><tr><td>2025-03-03</td><td>125</td><td>46855.64</td><td>0.25</td></tr><tr><td>2025-03-04</td><td>126</td><td>43868.45</td><td>0.23</td></tr><tr><td>2025-03-05</td><td>151</td><td>50254.55</td><td>0.25</td></tr><tr><td>2025-03-06</td><td>126</td><td>46746.9</td><td>0.24</td></tr><tr><td>2025-03-07</td><td>138</td><td>52048.15</td><td>0.27</td></tr><tr><td>2025-03-08</td><td>127</td><td>50722.63</td><td>0.26</td></tr><tr><td>2025-03-09</td><td>168</td><td>63388.07</td><td>0.24</td></tr><tr><td>2025-03-10</td><td>148</td><td>51853.36</td><td>0.27</td></tr><tr><td>2025-03-11</td><td>137</td><td>49283.08</td><td>0.25</td></tr><tr><td>2025-03-12</td><td>143</td><td>55505.97</td><td>0.26</td></tr><tr><td>2025-03-13</td><td>144</td><td>54662.28</td><td>0.25</td></tr><tr><td>2025-03-14</td><td>156</td><td>55599.68</td><td>0.25</td></tr><tr><td>2025-03-15</td><td>139</td><td>47686.31</td><td>0.24</td></tr><tr><td>2025-03-16</td><td>136</td><td>58733.13</td><td>0.23</td></tr><tr><td>2025-03-17</td><td>151</td><td>56466.77</td><td>0.25</td></tr><tr><td>2025-03-18</td><td>137</td><td>53820.05</td><td>0.26</td></tr><tr><td>2025-03-19</td><td>127</td><td>49552.01</td><td>0.25</td></tr><tr><td>2025-03-20</td><td>128</td><td>47289.01</td><td>0.26</td></tr><tr><td>2025-03-21</td><td>117</td><td>39976.72</td><td>0.25</td></tr><tr><td>2025-03-22</td><td>125</td><td>46209.14</td><td>0.26</td></tr><tr><td>2025-03-23</td><td>152</td><td>54364.21</td><td>0.27</td></tr><tr><td>2025-03-24</td><td>138</td><td>53298.28</td><td>0.24</td></tr><tr><td>2025-03-25</td><td>131</td><td>46208.89</td><td>0.28</td></tr><tr><td>2025-03-26</td><td>148</td><td>55456.78</td><td>0.25</td></tr><tr><td>2025-03-27</td><td>114</td><td>42780.09</td><td>0.27</td></tr><tr><td>2025-03-28</td><td>121</td><td>50462.77</td><td>0.24</td></tr><tr><td>2025-03-29</td><td>126</td><td>44324.46</td><td>0.25</td></tr><tr><td>2025-03-30</td><td>136</td><td>50935.9</td><td>0.27</td></tr><tr><td>2025-03-31</td><td>127</td><td>46363.04</td><td>0.27</td></tr><tr><td>2025-04-01</td><td>127</td><td>53310.0</td><td>0.24</td></tr><tr><td>2025-04-02</td><td>136</td><td>56311.81</td><td>0.24</td></tr><tr><td>2025-04-03</td><td>121</td><td>41688.47</td><td>0.25</td></tr><tr><td>2025-04-04</td><td>158</td><td>59885.97</td><td>0.27</td></tr><tr><td>2025-04-05</td><td>140</td><td>49218.76</td><td>0.25</td></tr><tr><td>2025-04-06</td><td>164</td><td>61318.51</td><td>0.26</td></tr><tr><td>2025-04-07</td><td>134</td><td>49062.69</td><td>0.26</td></tr><tr><td>2025-04-08</td><td>136</td><td>53515.08</td><td>0.27</td></tr><tr><td>2025-04-09</td><td>133</td><td>50502.04</td><td>0.24</td></tr><tr><td>2025-04-10</td><td>144</td><td>53670.66</td><td>0.25</td></tr><tr><td>2025-04-11</td><td>136</td><td>52276.88</td><td>0.24</td></tr><tr><td>2025-04-12</td><td>141</td><td>55960.91</td><td>0.24</td></tr><tr><td>2025-04-13</td><td>145</td><td>52792.27</td><td>0.25</td></tr><tr><td>2025-04-14</td><td>130</td><td>51094.77</td><td>0.24</td></tr><tr><td>2025-04-15</td><td>146</td><td>52762.48</td><td>0.22</td></tr><tr><td>2025-04-16</td><td>166</td><td>67776.91</td><td>0.24</td></tr><tr><td>2025-04-17</td><td>136</td><td>50661.92</td><td>0.27</td></tr><tr><td>2025-04-18</td><td>137</td><td>52280.31</td><td>0.25</td></tr><tr><td>2025-04-19</td><td>119</td><td>44773.5</td><td>0.25</td></tr><tr><td>2025-04-20</td><td>133</td><td>49310.05</td><td>0.24</td></tr><tr><td>2025-04-21</td><td>128</td><td>47685.76</td><td>0.25</td></tr><tr><td>2025-04-22</td><td>145</td><td>52886.53</td><td>0.25</td></tr><tr><td>2025-04-23</td><td>150</td><td>58833.27</td><td>0.25</td></tr><tr><td>2025-04-24</td><td>147</td><td>52893.62</td><td>0.25</td></tr><tr><td>2025-04-25</td><td>132</td><td>53371.17</td><td>0.25</td></tr><tr><td>2025-04-26</td><td>135</td><td>50517.58</td><td>0.26</td></tr><tr><td>2025-04-27</td><td>146</td><td>56472.83</td><td>0.26</td></tr><tr><td>2025-04-28</td><td>135</td><td>49885.62</td><td>0.24</td></tr><tr><td>2025-04-29</td><td>131</td><td>48469.03</td><td>0.26</td></tr><tr><td>2025-04-30</td><td>141</td><td>50048.47</td><td>0.23</td></tr><tr><td>2025-05-01</td><td>142</td><td>54154.47</td><td>0.24</td></tr><tr><td>2025-05-02</td><td>160</td><td>67385.32</td><td>0.26</td></tr><tr><td>2025-05-03</td><td>131</td><td>49451.26</td><td>0.23</td></tr><tr><td>2025-05-04</td><td>135</td><td>50097.5</td><td>0.27</td></tr><tr><td>2025-05-05</td><td>131</td><td>51860.07</td><td>0.25</td></tr><tr><td>2025-05-06</td><td>143</td><td>53138.79</td><td>0.26</td></tr><tr><td>2025-05-07</td><td>138</td><td>51537.81</td><td>0.25</td></tr><tr><td>2025-05-08</td><td>128</td><td>49365.57</td><td>0.25</td></tr><tr><td>2025-05-09</td><td>146</td><td>56458.03</td><td>0.26</td></tr><tr><td>2025-05-10</td><td>158</td><td>60532.57</td><td>0.25</td></tr><tr><td>2025-05-11</td><td>127</td><td>47762.97</td><td>0.26</td></tr><tr><td>2025-05-12</td><td>120</td><td>45733.17</td><td>0.29</td></tr><tr><td>2025-05-13</td><td>121</td><td>45708.68</td><td>0.25</td></tr><tr><td>2025-05-14</td><td>119</td><td>46590.76</td><td>0.25</td></tr><tr><td>2025-05-15</td><td>121</td><td>47729.77</td><td>0.23</td></tr><tr><td>2025-05-16</td><td>138</td><td>50579.12</td><td>0.25</td></tr><tr><td>2025-05-17</td><td>145</td><td>52304.41</td><td>0.25</td></tr><tr><td>2025-05-18</td><td>103</td><td>41452.25</td><td>0.24</td></tr><tr><td>2025-05-19</td><td>106</td><td>45395.87</td><td>0.24</td></tr><tr><td>2025-05-20</td><td>120</td><td>47843.78</td><td>0.23</td></tr><tr><td>2025-05-21</td><td>148</td><td>56923.38</td><td>0.24</td></tr><tr><td>2025-05-22</td><td>116</td><td>42870.63</td><td>0.25</td></tr><tr><td>2025-05-23</td><td>160</td><td>61691.95</td><td>0.26</td></tr><tr><td>2025-05-24</td><td>114</td><td>43162.14</td><td>0.24</td></tr><tr><td>2025-05-25</td><td>153</td><td>56303.4</td><td>0.26</td></tr><tr><td>2025-05-26</td><td>135</td><td>51395.24</td><td>0.23</td></tr><tr><td>2025-05-27</td><td>127</td><td>47991.95</td><td>0.25</td></tr><tr><td>2025-05-28</td><td>135</td><td>49138.58</td><td>0.23</td></tr><tr><td>2025-05-29</td><td>123</td><td>46863.98</td><td>0.26</td></tr><tr><td>2025-05-30</td><td>146</td><td>55877.31</td><td>0.26</td></tr><tr><td>2025-05-31</td><td>135</td><td>45716.1</td><td>0.25</td></tr><tr><td>2025-06-01</td><td>124</td><td>44604.15</td><td>0.27</td></tr><tr><td>2025-06-02</td><td>142</td><td>52303.59</td><td>0.25</td></tr><tr><td>2025-06-03</td><td>138</td><td>49941.5</td><td>0.24</td></tr><tr><td>2025-06-04</td><td>137</td><td>54134.91</td><td>0.24</td></tr><tr><td>2025-06-05</td><td>141</td><td>52395.49</td><td>0.27</td></tr><tr><td>2025-06-06</td><td>145</td><td>50070.75</td><td>0.25</td></tr><tr><td>2025-06-07</td><td>144</td><td>52458.4</td><td>0.26</td></tr><tr><td>2025-06-08</td><td>134</td><td>53433.94</td><td>0.27</td></tr><tr><td>2025-06-09</td><td>128</td><td>48866.04</td><td>0.26</td></tr><tr><td>2025-06-10</td><td>125</td><td>47654.57</td><td>0.24</td></tr><tr><td>2025-06-11</td><td>135</td><td>50388.07</td><td>0.25</td></tr><tr><td>2025-06-12</td><td>124</td><td>47787.34</td><td>0.26</td></tr><tr><td>2025-06-13</td><td>135</td><td>56928.51</td><td>0.23</td></tr><tr><td>2025-06-14</td><td>147</td><td>56371.84</td><td>0.25</td></tr><tr><td>2025-06-15</td><td>123</td><td>49077.31</td><td>0.24</td></tr><tr><td>2025-06-16</td><td>131</td><td>51060.3</td><td>0.25</td></tr><tr><td>2025-06-17</td><td>142</td><td>53067.08</td><td>0.26</td></tr><tr><td>2025-06-18</td><td>138</td><td>47452.45</td><td>0.26</td></tr><tr><td>2025-06-19</td><td>154</td><td>56325.74</td><td>0.26</td></tr><tr><td>2025-06-20</td><td>78</td><td>31236.47</td><td>0.24</td></tr></tbody></table></div>"
      ]
     },
     "metadata": {
      "application/vnd.databricks.v1+output": {
       "addedWidgets": {},
       "aggData": [],
       "aggError": "",
       "aggOverflow": false,
       "aggSchema": [],
       "aggSeriesLimitReached": false,
       "aggType": "",
       "arguments": {},
       "columnCustomDisplayInfos": {},
       "data": [
        [
         "2023-06-21",
         62,
         24921.78,
         0.24
        ],
        [
         "2023-06-22",
         124,
         53062.32,
         0.26
        ],
        [
         "2023-06-23",
         137,
         48926.57,
         0.26
        ],
        [
         "2023-06-24",
         148,
         54528.05,
         0.25
        ],
        [
         "2023-06-25",
         125,
         46683.67,
         0.25
        ],
        [
         "2023-06-26",
         139,
         56030.13,
         0.24
        ],
        [
         "2023-06-27",
         132,
         48433.0,
         0.25
        ],
        [
         "2023-06-28",
         109,
         40875.52,
         0.26
        ],
        [
         "2023-06-29",
         142,
         55923.06,
         0.25
        ],
        [
         "2023-06-30",
         131,
         50956.44,
         0.23
        ],
        [
         "2023-07-01",
         154,
         58360.99,
         0.24
        ],
        [
         "2023-07-02",
         129,
         48306.05,
         0.24
        ],
        [
         "2023-07-03",
         139,
         52652.78,
         0.25
        ],
        [
         "2023-07-04",
         131,
         45770.32,
         0.25
        ],
        [
         "2023-07-05",
         147,
         53949.26,
         0.24
        ],
        [
         "2023-07-06",
         141,
         52226.85,
         0.26
        ],
        [
         "2023-07-07",
         133,
         47025.93,
         0.25
        ],
        [
         "2023-07-08",
         137,
         49485.27,
         0.26
        ],
        [
         "2023-07-09",
         123,
         52409.89,
         0.24
        ],
        [
         "2023-07-10",
         120,
         43383.85,
         0.24
        ],
        [
         "2023-07-11",
         141,
         52584.19,
         0.25
        ],
        [
         "2023-07-12",
         111,
         43686.8,
         0.26
        ],
        [
         "2023-07-13",
         135,
         49176.48,
         0.25
        ],
        [
         "2023-07-14",
         144,
         54545.12,
         0.25
        ],
        [
         "2023-07-15",
         132,
         45962.9,
         0.24
        ],
        [
         "2023-07-16",
         147,
         60397.63,
         0.25
        ],
        [
         "2023-07-17",
         134,
         50752.78,
         0.25
        ],
        [
         "2023-07-18",
         150,
         55964.33,
         0.25
        ],
        [
         "2023-07-19",
         145,
         52183.4,
         0.24
        ],
        [
         "2023-07-20",
         126,
         47693.72,
         0.25
        ],
        [
         "2023-07-21",
         150,
         57963.44,
         0.24
        ],
        [
         "2023-07-22",
         146,
         55874.71,
         0.26
        ],
        [
         "2023-07-23",
         132,
         49841.06,
         0.25
        ],
        [
         "2023-07-24",
         138,
         51185.43,
         0.25
        ],
        [
         "2023-07-25",
         126,
         47711.62,
         0.25
        ],
        [
         "2023-07-26",
         134,
         51073.41,
         0.26
        ],
        [
         "2023-07-27",
         112,
         44448.58,
         0.24
        ],
        [
         "2023-07-28",
         152,
         58433.32,
         0.25
        ],
        [
         "2023-07-29",
         143,
         56553.57,
         0.24
        ],
        [
         "2023-07-30",
         137,
         57037.66,
         0.23
        ],
        [
         "2023-07-31",
         142,
         54306.3,
         0.24
        ],
        [
         "2023-08-01",
         134,
         49050.23,
         0.26
        ],
        [
         "2023-08-02",
         116,
         44238.66,
         0.25
        ],
        [
         "2023-08-03",
         133,
         54392.84,
         0.24
        ],
        [
         "2023-08-04",
         125,
         47688.97,
         0.25
        ],
        [
         "2023-08-05",
         117,
         42732.82,
         0.25
        ],
        [
         "2023-08-06",
         140,
         52156.51,
         0.24
        ],
        [
         "2023-08-07",
         135,
         50487.51,
         0.27
        ],
        [
         "2023-08-08",
         165,
         60218.84,
         0.25
        ],
        [
         "2023-08-09",
         128,
         48290.49,
         0.26
        ],
        [
         "2023-08-10",
         135,
         51949.76,
         0.25
        ],
        [
         "2023-08-11",
         157,
         60884.6,
         0.24
        ],
        [
         "2023-08-12",
         138,
         52651.16,
         0.24
        ],
        [
         "2023-08-13",
         139,
         52859.46,
         0.25
        ],
        [
         "2023-08-14",
         135,
         50615.75,
         0.25
        ],
        [
         "2023-08-15",
         135,
         50744.31,
         0.23
        ],
        [
         "2023-08-16",
         123,
         46142.12,
         0.25
        ],
        [
         "2023-08-17",
         140,
         52013.83,
         0.25
        ],
        [
         "2023-08-18",
         156,
         62384.3,
         0.24
        ],
        [
         "2023-08-19",
         133,
         48580.53,
         0.26
        ],
        [
         "2023-08-20",
         142,
         58985.15,
         0.25
        ],
        [
         "2023-08-21",
         112,
         44739.15,
         0.26
        ],
        [
         "2023-08-22",
         149,
         54090.62,
         0.24
        ],
        [
         "2023-08-23",
         138,
         53895.42,
         0.25
        ],
        [
         "2023-08-24",
         154,
         56534.19,
         0.26
        ],
        [
         "2023-08-25",
         153,
         58725.97,
         0.25
        ],
        [
         "2023-08-26",
         113,
         44981.69,
         0.24
        ],
        [
         "2023-08-27",
         136,
         54594.74,
         0.26
        ],
        [
         "2023-08-28",
         156,
         61815.0,
         0.26
        ],
        [
         "2023-08-29",
         132,
         48902.31,
         0.26
        ],
        [
         "2023-08-30",
         131,
         54147.76,
         0.24
        ],
        [
         "2023-08-31",
         142,
         53064.93,
         0.26
        ],
        [
         "2023-09-01",
         131,
         47965.83,
         0.27
        ],
        [
         "2023-09-02",
         140,
         54487.84,
         0.25
        ],
        [
         "2023-09-03",
         152,
         63094.75,
         0.23
        ],
        [
         "2023-09-04",
         128,
         47370.53,
         0.27
        ],
        [
         "2023-09-05",
         124,
         46877.92,
         0.26
        ],
        [
         "2023-09-06",
         134,
         54002.53,
         0.25
        ],
        [
         "2023-09-07",
         145,
         50744.09,
         0.23
        ],
        [
         "2023-09-08",
         155,
         59043.48,
         0.24
        ],
        [
         "2023-09-09",
         159,
         60197.53,
         0.25
        ],
        [
         "2023-09-10",
         158,
         63098.5,
         0.24
        ],
        [
         "2023-09-11",
         135,
         49794.69,
         0.23
        ],
        [
         "2023-09-12",
         119,
         43541.81,
         0.24
        ],
        [
         "2023-09-13",
         129,
         46858.31,
         0.28
        ],
        [
         "2023-09-14",
         149,
         53781.98,
         0.24
        ],
        [
         "2023-09-15",
         120,
         43780.3,
         0.25
        ],
        [
         "2023-09-16",
         131,
         47577.09,
         0.27
        ],
        [
         "2023-09-17",
         119,
         45466.52,
         0.27
        ],
        [
         "2023-09-18",
         133,
         43645.43,
         0.29
        ],
        [
         "2023-09-19",
         121,
         47621.08,
         0.26
        ],
        [
         "2023-09-20",
         133,
         42957.97,
         0.26
        ],
        [
         "2023-09-21",
         124,
         49082.54,
         0.24
        ],
        [
         "2023-09-22",
         141,
         55253.65,
         0.25
        ],
        [
         "2023-09-23",
         150,
         57059.04,
         0.26
        ],
        [
         "2023-09-24",
         144,
         51869.72,
         0.23
        ],
        [
         "2023-09-25",
         139,
         47641.88,
         0.26
        ],
        [
         "2023-09-26",
         129,
         42333.96,
         0.26
        ],
        [
         "2023-09-27",
         130,
         50125.74,
         0.26
        ],
        [
         "2023-09-28",
         146,
         56917.16,
         0.25
        ],
        [
         "2023-09-29",
         149,
         52985.51,
         0.29
        ],
        [
         "2023-09-30",
         139,
         49260.82,
         0.27
        ],
        [
         "2023-10-01",
         152,
         57124.79,
         0.26
        ],
        [
         "2023-10-02",
         128,
         50677.22,
         0.24
        ],
        [
         "2023-10-03",
         148,
         58057.6,
         0.26
        ],
        [
         "2023-10-04",
         154,
         60672.31,
         0.26
        ],
        [
         "2023-10-05",
         120,
         48163.6,
         0.23
        ],
        [
         "2023-10-06",
         137,
         51639.75,
         0.25
        ],
        [
         "2023-10-07",
         139,
         52450.12,
         0.25
        ],
        [
         "2023-10-08",
         139,
         54104.49,
         0.24
        ],
        [
         "2023-10-09",
         149,
         60976.62,
         0.23
        ],
        [
         "2023-10-10",
         145,
         50942.21,
         0.25
        ],
        [
         "2023-10-11",
         141,
         53596.58,
         0.24
        ],
        [
         "2023-10-12",
         138,
         53021.83,
         0.25
        ],
        [
         "2023-10-13",
         115,
         41555.7,
         0.24
        ],
        [
         "2023-10-14",
         157,
         57249.62,
         0.25
        ],
        [
         "2023-10-15",
         145,
         53274.36,
         0.23
        ],
        [
         "2023-10-16",
         135,
         53755.5,
         0.24
        ],
        [
         "2023-10-17",
         143,
         53784.69,
         0.25
        ],
        [
         "2023-10-18",
         150,
         53940.53,
         0.25
        ],
        [
         "2023-10-19",
         142,
         57093.66,
         0.24
        ],
        [
         "2023-10-20",
         158,
         59384.11,
         0.26
        ],
        [
         "2023-10-21",
         161,
         62789.83,
         0.26
        ],
        [
         "2023-10-22",
         121,
         47420.08,
         0.24
        ],
        [
         "2023-10-23",
         152,
         60320.77,
         0.25
        ],
        [
         "2023-10-24",
         137,
         52463.27,
         0.25
        ],
        [
         "2023-10-25",
         128,
         49302.35,
         0.25
        ],
        [
         "2023-10-26",
         121,
         48603.43,
         0.25
        ],
        [
         "2023-10-27",
         143,
         50090.54,
         0.27
        ],
        [
         "2023-10-28",
         150,
         58752.66,
         0.25
        ],
        [
         "2023-10-29",
         140,
         54724.34,
         0.24
        ],
        [
         "2023-10-30",
         124,
         47697.0,
         0.23
        ],
        [
         "2023-10-31",
         114,
         46568.19,
         0.24
        ],
        [
         "2023-11-01",
         138,
         51918.57,
         0.26
        ],
        [
         "2023-11-02",
         123,
         49744.41,
         0.22
        ],
        [
         "2023-11-03",
         150,
         55924.79,
         0.27
        ],
        [
         "2023-11-04",
         154,
         51689.3,
         0.25
        ],
        [
         "2023-11-05",
         122,
         47692.54,
         0.25
        ],
        [
         "2023-11-06",
         121,
         45344.14,
         0.24
        ],
        [
         "2023-11-07",
         126,
         46468.79,
         0.25
        ],
        [
         "2023-11-08",
         148,
         51648.81,
         0.26
        ],
        [
         "2023-11-09",
         143,
         58542.06,
         0.25
        ],
        [
         "2023-11-10",
         119,
         43248.97,
         0.26
        ],
        [
         "2023-11-11",
         115,
         44044.71,
         0.26
        ],
        [
         "2023-11-12",
         141,
         53980.34,
         0.26
        ],
        [
         "2023-11-13",
         147,
         56201.41,
         0.25
        ],
        [
         "2023-11-14",
         140,
         53627.79,
         0.26
        ],
        [
         "2023-11-15",
         133,
         49161.55,
         0.26
        ],
        [
         "2023-11-16",
         126,
         45692.31,
         0.25
        ],
        [
         "2023-11-17",
         139,
         53252.94,
         0.25
        ],
        [
         "2023-11-18",
         138,
         51562.13,
         0.26
        ],
        [
         "2023-11-19",
         135,
         51069.6,
         0.27
        ],
        [
         "2023-11-20",
         118,
         44245.42,
         0.27
        ],
        [
         "2023-11-21",
         116,
         46520.33,
         0.23
        ],
        [
         "2023-11-22",
         140,
         53703.54,
         0.23
        ],
        [
         "2023-11-23",
         155,
         59779.05,
         0.27
        ],
        [
         "2023-11-24",
         150,
         56924.85,
         0.26
        ],
        [
         "2023-11-25",
         138,
         51281.94,
         0.26
        ],
        [
         "2023-11-26",
         115,
         45574.87,
         0.25
        ],
        [
         "2023-11-27",
         163,
         58928.26,
         0.25
        ],
        [
         "2023-11-28",
         127,
         51155.45,
         0.25
        ],
        [
         "2023-11-29",
         146,
         56485.76,
         0.25
        ],
        [
         "2023-11-30",
         131,
         53624.5,
         0.23
        ],
        [
         "2023-12-01",
         137,
         50400.34,
         0.25
        ],
        [
         "2023-12-02",
         135,
         47546.79,
         0.28
        ],
        [
         "2023-12-03",
         143,
         51538.28,
         0.25
        ],
        [
         "2023-12-04",
         123,
         46019.62,
         0.24
        ],
        [
         "2023-12-05",
         122,
         46490.36,
         0.25
        ],
        [
         "2023-12-06",
         151,
         58551.73,
         0.26
        ],
        [
         "2023-12-07",
         145,
         60009.89,
         0.26
        ],
        [
         "2023-12-08",
         163,
         61553.01,
         0.25
        ],
        [
         "2023-12-09",
         147,
         59952.71,
         0.24
        ],
        [
         "2023-12-10",
         140,
         50947.32,
         0.22
        ],
        [
         "2023-12-11",
         137,
         52237.6,
         0.26
        ],
        [
         "2023-12-12",
         137,
         46518.24,
         0.27
        ],
        [
         "2023-12-13",
         137,
         55258.9,
         0.26
        ],
        [
         "2023-12-14",
         139,
         52003.1,
         0.25
        ],
        [
         "2023-12-15",
         129,
         48223.15,
         0.25
        ],
        [
         "2023-12-16",
         154,
         54940.37,
         0.25
        ],
        [
         "2023-12-17",
         135,
         47443.52,
         0.24
        ],
        [
         "2023-12-18",
         125,
         48083.23,
         0.26
        ],
        [
         "2023-12-19",
         129,
         45424.08,
         0.24
        ],
        [
         "2023-12-20",
         152,
         55645.05,
         0.27
        ],
        [
         "2023-12-21",
         124,
         47375.25,
         0.25
        ],
        [
         "2023-12-22",
         134,
         53908.2,
         0.24
        ],
        [
         "2023-12-23",
         143,
         55244.11,
         0.24
        ],
        [
         "2023-12-24",
         168,
         65080.56,
         0.24
        ],
        [
         "2023-12-25",
         134,
         56080.89,
         0.23
        ],
        [
         "2023-12-26",
         139,
         54812.66,
         0.25
        ],
        [
         "2023-12-27",
         114,
         42496.85,
         0.25
        ],
        [
         "2023-12-28",
         122,
         48482.6,
         0.25
        ],
        [
         "2023-12-29",
         151,
         60578.51,
         0.25
        ],
        [
         "2023-12-30",
         126,
         50820.97,
         0.24
        ],
        [
         "2023-12-31",
         136,
         52042.37,
         0.26
        ],
        [
         "2024-01-01",
         137,
         47797.96,
         0.26
        ],
        [
         "2024-01-02",
         136,
         52426.31,
         0.25
        ],
        [
         "2024-01-03",
         130,
         50188.98,
         0.27
        ],
        [
         "2024-01-04",
         119,
         46605.32,
         0.27
        ],
        [
         "2024-01-05",
         138,
         53284.5,
         0.25
        ],
        [
         "2024-01-06",
         128,
         51914.16,
         0.25
        ],
        [
         "2024-01-07",
         109,
         39958.17,
         0.25
        ],
        [
         "2024-01-08",
         139,
         53945.73,
         0.24
        ],
        [
         "2024-01-09",
         138,
         48696.67,
         0.26
        ],
        [
         "2024-01-10",
         138,
         55925.03,
         0.22
        ],
        [
         "2024-01-11",
         139,
         60647.22,
         0.24
        ],
        [
         "2024-01-12",
         143,
         54952.83,
         0.25
        ],
        [
         "2024-01-13",
         130,
         48745.07,
         0.25
        ],
        [
         "2024-01-14",
         130,
         48891.83,
         0.24
        ],
        [
         "2024-01-15",
         179,
         66770.34,
         0.24
        ],
        [
         "2024-01-16",
         129,
         50023.9,
         0.26
        ],
        [
         "2024-01-17",
         128,
         52492.54,
         0.24
        ],
        [
         "2024-01-18",
         130,
         47712.62,
         0.26
        ],
        [
         "2024-01-19",
         122,
         49115.25,
         0.25
        ],
        [
         "2024-01-20",
         143,
         55504.07,
         0.26
        ],
        [
         "2024-01-21",
         119,
         42190.39,
         0.25
        ],
        [
         "2024-01-22",
         120,
         47742.02,
         0.23
        ],
        [
         "2024-01-23",
         164,
         61885.21,
         0.25
        ],
        [
         "2024-01-24",
         130,
         49539.1,
         0.24
        ],
        [
         "2024-01-25",
         126,
         48076.57,
         0.26
        ],
        [
         "2024-01-26",
         142,
         55300.19,
         0.26
        ],
        [
         "2024-01-27",
         143,
         51621.73,
         0.24
        ],
        [
         "2024-01-28",
         136,
         52840.01,
         0.23
        ],
        [
         "2024-01-29",
         144,
         54057.92,
         0.26
        ],
        [
         "2024-01-30",
         168,
         59955.32,
         0.26
        ],
        [
         "2024-01-31",
         122,
         44142.94,
         0.25
        ],
        [
         "2024-02-01",
         147,
         50733.44,
         0.26
        ],
        [
         "2024-02-02",
         130,
         51522.08,
         0.24
        ],
        [
         "2024-02-03",
         140,
         52933.86,
         0.26
        ],
        [
         "2024-02-04",
         147,
         61773.0,
         0.24
        ],
        [
         "2024-02-05",
         122,
         48604.14,
         0.24
        ],
        [
         "2024-02-06",
         122,
         44271.28,
         0.25
        ],
        [
         "2024-02-07",
         133,
         54337.38,
         0.24
        ],
        [
         "2024-02-08",
         129,
         49525.25,
         0.24
        ],
        [
         "2024-02-09",
         125,
         42005.21,
         0.25
        ],
        [
         "2024-02-10",
         120,
         39972.3,
         0.26
        ],
        [
         "2024-02-11",
         158,
         61887.84,
         0.26
        ],
        [
         "2024-02-12",
         144,
         49979.21,
         0.26
        ],
        [
         "2024-02-13",
         140,
         56323.72,
         0.25
        ],
        [
         "2024-02-14",
         138,
         52662.37,
         0.25
        ],
        [
         "2024-02-15",
         143,
         54004.07,
         0.23
        ],
        [
         "2024-02-16",
         133,
         50140.97,
         0.26
        ],
        [
         "2024-02-17",
         143,
         53182.55,
         0.25
        ],
        [
         "2024-02-18",
         144,
         50415.99,
         0.25
        ],
        [
         "2024-02-19",
         140,
         55547.63,
         0.24
        ],
        [
         "2024-02-20",
         125,
         42454.32,
         0.27
        ],
        [
         "2024-02-21",
         147,
         50193.1,
         0.26
        ],
        [
         "2024-02-22",
         133,
         49947.32,
         0.25
        ],
        [
         "2024-02-23",
         152,
         56353.06,
         0.25
        ],
        [
         "2024-02-24",
         131,
         47787.21,
         0.23
        ],
        [
         "2024-02-25",
         140,
         57781.06,
         0.23
        ],
        [
         "2024-02-26",
         133,
         52627.92,
         0.23
        ],
        [
         "2024-02-27",
         135,
         45803.48,
         0.24
        ],
        [
         "2024-02-28",
         125,
         49699.24,
         0.24
        ],
        [
         "2024-02-29",
         143,
         54270.63,
         0.25
        ],
        [
         "2024-03-01",
         161,
         60837.21,
         0.25
        ],
        [
         "2024-03-02",
         126,
         50601.47,
         0.23
        ],
        [
         "2024-03-03",
         127,
         45688.28,
         0.23
        ],
        [
         "2024-03-04",
         129,
         49828.8,
         0.27
        ],
        [
         "2024-03-05",
         133,
         46197.61,
         0.27
        ],
        [
         "2024-03-06",
         144,
         56987.36,
         0.25
        ],
        [
         "2024-03-07",
         146,
         50709.7,
         0.26
        ],
        [
         "2024-03-08",
         130,
         49190.87,
         0.24
        ],
        [
         "2024-03-09",
         141,
         51470.29,
         0.27
        ],
        [
         "2024-03-10",
         146,
         59192.37,
         0.25
        ],
        [
         "2024-03-11",
         133,
         47611.11,
         0.27
        ],
        [
         "2024-03-12",
         122,
         49339.21,
         0.27
        ],
        [
         "2024-03-13",
         143,
         57688.17,
         0.24
        ],
        [
         "2024-03-14",
         133,
         51293.36,
         0.22
        ],
        [
         "2024-03-15",
         137,
         50393.48,
         0.25
        ],
        [
         "2024-03-16",
         133,
         51998.27,
         0.24
        ],
        [
         "2024-03-17",
         117,
         46635.81,
         0.25
        ],
        [
         "2024-03-18",
         117,
         43392.79,
         0.25
        ],
        [
         "2024-03-19",
         137,
         49930.45,
         0.26
        ],
        [
         "2024-03-20",
         117,
         42346.8,
         0.24
        ],
        [
         "2024-03-21",
         170,
         69778.11,
         0.26
        ],
        [
         "2024-03-22",
         119,
         47304.84,
         0.26
        ],
        [
         "2024-03-23",
         121,
         49720.47,
         0.24
        ],
        [
         "2024-03-24",
         136,
         46593.04,
         0.27
        ],
        [
         "2024-03-25",
         128,
         52198.47,
         0.23
        ],
        [
         "2024-03-26",
         138,
         53185.52,
         0.25
        ],
        [
         "2024-03-27",
         134,
         52417.88,
         0.24
        ],
        [
         "2024-03-28",
         133,
         45212.36,
         0.27
        ],
        [
         "2024-03-29",
         142,
         58167.39,
         0.25
        ],
        [
         "2024-03-30",
         156,
         60470.82,
         0.25
        ],
        [
         "2024-03-31",
         160,
         62855.38,
         0.25
        ],
        [
         "2024-04-01",
         141,
         54323.6,
         0.24
        ],
        [
         "2024-04-02",
         124,
         45811.36,
         0.25
        ],
        [
         "2024-04-03",
         132,
         47446.46,
         0.26
        ],
        [
         "2024-04-04",
         123,
         44479.97,
         0.25
        ],
        [
         "2024-04-05",
         133,
         52140.39,
         0.26
        ],
        [
         "2024-04-06",
         162,
         58117.45,
         0.27
        ],
        [
         "2024-04-07",
         113,
         46794.19,
         0.24
        ],
        [
         "2024-04-08",
         151,
         56209.2,
         0.24
        ],
        [
         "2024-04-09",
         136,
         50356.51,
         0.25
        ],
        [
         "2024-04-10",
         135,
         49370.62,
         0.26
        ],
        [
         "2024-04-11",
         131,
         45280.03,
         0.25
        ],
        [
         "2024-04-12",
         141,
         55787.27,
         0.27
        ],
        [
         "2024-04-13",
         167,
         65735.75,
         0.25
        ],
        [
         "2024-04-14",
         150,
         55764.61,
         0.25
        ],
        [
         "2024-04-15",
         122,
         45063.05,
         0.26
        ],
        [
         "2024-04-16",
         131,
         52555.95,
         0.25
        ],
        [
         "2024-04-17",
         114,
         38390.63,
         0.27
        ],
        [
         "2024-04-18",
         139,
         53357.66,
         0.27
        ],
        [
         "2024-04-19",
         137,
         55698.89,
         0.26
        ],
        [
         "2024-04-20",
         146,
         53158.86,
         0.27
        ],
        [
         "2024-04-21",
         160,
         58188.88,
         0.26
        ],
        [
         "2024-04-22",
         145,
         54984.78,
         0.26
        ],
        [
         "2024-04-23",
         149,
         56465.47,
         0.25
        ],
        [
         "2024-04-24",
         126,
         49152.41,
         0.26
        ],
        [
         "2024-04-25",
         137,
         54024.8,
         0.25
        ],
        [
         "2024-04-26",
         139,
         49373.7,
         0.28
        ],
        [
         "2024-04-27",
         134,
         50120.71,
         0.25
        ],
        [
         "2024-04-28",
         140,
         51215.79,
         0.24
        ],
        [
         "2024-04-29",
         133,
         47740.28,
         0.23
        ],
        [
         "2024-04-30",
         144,
         54591.09,
         0.24
        ],
        [
         "2024-05-01",
         132,
         46128.04,
         0.25
        ],
        [
         "2024-05-02",
         131,
         48271.98,
         0.24
        ],
        [
         "2024-05-03",
         133,
         48172.86,
         0.24
        ],
        [
         "2024-05-04",
         146,
         55364.02,
         0.26
        ],
        [
         "2024-05-05",
         146,
         52260.56,
         0.24
        ],
        [
         "2024-05-06",
         134,
         56391.3,
         0.24
        ],
        [
         "2024-05-07",
         126,
         48158.54,
         0.26
        ],
        [
         "2024-05-08",
         140,
         55312.36,
         0.25
        ],
        [
         "2024-05-09",
         130,
         49805.77,
         0.26
        ],
        [
         "2024-05-10",
         132,
         49051.05,
         0.27
        ],
        [
         "2024-05-11",
         135,
         48132.61,
         0.26
        ],
        [
         "2024-05-12",
         129,
         48289.08,
         0.26
        ],
        [
         "2024-05-13",
         135,
         50330.73,
         0.25
        ],
        [
         "2024-05-14",
         137,
         51049.42,
         0.25
        ],
        [
         "2024-05-15",
         129,
         51888.75,
         0.26
        ],
        [
         "2024-05-16",
         123,
         47682.76,
         0.24
        ],
        [
         "2024-05-17",
         137,
         50349.53,
         0.27
        ],
        [
         "2024-05-18",
         132,
         49548.19,
         0.25
        ],
        [
         "2024-05-19",
         134,
         49313.55,
         0.27
        ],
        [
         "2024-05-20",
         126,
         50383.89,
         0.24
        ],
        [
         "2024-05-21",
         140,
         55140.72,
         0.22
        ],
        [
         "2024-05-22",
         131,
         46938.28,
         0.25
        ],
        [
         "2024-05-23",
         154,
         59710.33,
         0.24
        ],
        [
         "2024-05-24",
         122,
         46842.24,
         0.23
        ],
        [
         "2024-05-25",
         167,
         62237.11,
         0.23
        ],
        [
         "2024-05-26",
         148,
         58725.53,
         0.26
        ],
        [
         "2024-05-27",
         166,
         63485.65,
         0.25
        ],
        [
         "2024-05-28",
         141,
         53538.78,
         0.25
        ],
        [
         "2024-05-29",
         108,
         39091.18,
         0.24
        ],
        [
         "2024-05-30",
         129,
         43887.76,
         0.27
        ],
        [
         "2024-05-31",
         127,
         46529.83,
         0.27
        ],
        [
         "2024-06-01",
         138,
         52962.39,
         0.24
        ],
        [
         "2024-06-02",
         127,
         44296.17,
         0.23
        ],
        [
         "2024-06-03",
         126,
         48157.42,
         0.25
        ],
        [
         "2024-06-04",
         145,
         54302.6,
         0.24
        ],
        [
         "2024-06-05",
         127,
         45695.55,
         0.25
        ],
        [
         "2024-06-06",
         133,
         55520.67,
         0.23
        ],
        [
         "2024-06-07",
         145,
         53331.35,
         0.26
        ],
        [
         "2024-06-08",
         151,
         55704.77,
         0.28
        ],
        [
         "2024-06-09",
         123,
         45814.38,
         0.26
        ],
        [
         "2024-06-10",
         128,
         50960.21,
         0.25
        ],
        [
         "2024-06-11",
         150,
         59295.99,
         0.24
        ],
        [
         "2024-06-12",
         133,
         45223.76,
         0.25
        ],
        [
         "2024-06-13",
         153,
         54689.77,
         0.25
        ],
        [
         "2024-06-14",
         127,
         51253.84,
         0.25
        ],
        [
         "2024-06-15",
         133,
         49433.47,
         0.26
        ],
        [
         "2024-06-16",
         130,
         52897.19,
         0.26
        ],
        [
         "2024-06-17",
         140,
         54674.88,
         0.25
        ],
        [
         "2024-06-18",
         143,
         59278.9,
         0.24
        ],
        [
         "2024-06-19",
         139,
         54755.56,
         0.23
        ],
        [
         "2024-06-20",
         133,
         52358.99,
         0.25
        ],
        [
         "2024-06-21",
         136,
         49835.06,
         0.28
        ],
        [
         "2024-06-22",
         137,
         45680.11,
         0.24
        ],
        [
         "2024-06-23",
         158,
         59714.71,
         0.26
        ],
        [
         "2024-06-24",
         112,
         42720.43,
         0.23
        ],
        [
         "2024-06-25",
         137,
         52784.14,
         0.25
        ],
        [
         "2024-06-26",
         123,
         46746.92,
         0.25
        ],
        [
         "2024-06-27",
         140,
         52500.62,
         0.21
        ],
        [
         "2024-06-28",
         140,
         56208.08,
         0.24
        ],
        [
         "2024-06-29",
         155,
         61019.04,
         0.25
        ],
        [
         "2024-06-30",
         135,
         48608.4,
         0.25
        ],
        [
         "2024-07-01",
         130,
         48603.98,
         0.26
        ],
        [
         "2024-07-02",
         135,
         55273.72,
         0.24
        ],
        [
         "2024-07-03",
         144,
         58384.08,
         0.23
        ],
        [
         "2024-07-04",
         134,
         49795.36,
         0.25
        ],
        [
         "2024-07-05",
         145,
         56060.12,
         0.24
        ],
        [
         "2024-07-06",
         147,
         58395.76,
         0.26
        ],
        [
         "2024-07-07",
         152,
         55179.3,
         0.24
        ],
        [
         "2024-07-08",
         147,
         56288.63,
         0.26
        ],
        [
         "2024-07-09",
         148,
         55501.16,
         0.25
        ],
        [
         "2024-07-10",
         160,
         59454.47,
         0.24
        ],
        [
         "2024-07-11",
         154,
         62394.84,
         0.23
        ],
        [
         "2024-07-12",
         122,
         53029.94,
         0.24
        ],
        [
         "2024-07-13",
         133,
         46641.86,
         0.27
        ],
        [
         "2024-07-14",
         153,
         57217.9,
         0.26
        ],
        [
         "2024-07-15",
         149,
         59538.75,
         0.26
        ],
        [
         "2024-07-16",
         150,
         57033.71,
         0.25
        ],
        [
         "2024-07-17",
         144,
         54335.11,
         0.26
        ],
        [
         "2024-07-18",
         133,
         49146.7,
         0.25
        ],
        [
         "2024-07-19",
         140,
         55055.26,
         0.23
        ],
        [
         "2024-07-20",
         142,
         58277.4,
         0.24
        ],
        [
         "2024-07-21",
         132,
         47693.11,
         0.25
        ],
        [
         "2024-07-22",
         130,
         46036.09,
         0.25
        ],
        [
         "2024-07-23",
         146,
         54362.67,
         0.23
        ],
        [
         "2024-07-24",
         156,
         58630.33,
         0.25
        ],
        [
         "2024-07-25",
         157,
         57565.49,
         0.24
        ],
        [
         "2024-07-26",
         134,
         51018.09,
         0.25
        ],
        [
         "2024-07-27",
         138,
         52146.2,
         0.25
        ],
        [
         "2024-07-28",
         135,
         52180.58,
         0.25
        ],
        [
         "2024-07-29",
         138,
         49910.76,
         0.26
        ],
        [
         "2024-07-30",
         145,
         55748.34,
         0.24
        ],
        [
         "2024-07-31",
         131,
         51292.93,
         0.25
        ],
        [
         "2024-08-01",
         144,
         55766.42,
         0.25
        ],
        [
         "2024-08-02",
         139,
         53057.09,
         0.27
        ],
        [
         "2024-08-03",
         149,
         56176.61,
         0.26
        ],
        [
         "2024-08-04",
         147,
         52643.99,
         0.24
        ],
        [
         "2024-08-05",
         157,
         68583.5,
         0.22
        ],
        [
         "2024-08-06",
         127,
         43697.99,
         0.26
        ],
        [
         "2024-08-07",
         139,
         58217.79,
         0.25
        ],
        [
         "2024-08-08",
         141,
         52286.14,
         0.26
        ],
        [
         "2024-08-09",
         134,
         49635.54,
         0.24
        ],
        [
         "2024-08-10",
         142,
         55785.01,
         0.26
        ],
        [
         "2024-08-11",
         135,
         44001.52,
         0.27
        ],
        [
         "2024-08-12",
         121,
         47380.01,
         0.25
        ],
        [
         "2024-08-13",
         143,
         52002.1,
         0.26
        ],
        [
         "2024-08-14",
         153,
         52477.88,
         0.24
        ],
        [
         "2024-08-15",
         123,
         43381.37,
         0.25
        ],
        [
         "2024-08-16",
         131,
         48038.6,
         0.25
        ],
        [
         "2024-08-17",
         118,
         47347.21,
         0.26
        ],
        [
         "2024-08-18",
         137,
         56216.7,
         0.25
        ],
        [
         "2024-08-19",
         154,
         62107.39,
         0.24
        ],
        [
         "2024-08-20",
         118,
         43933.69,
         0.25
        ],
        [
         "2024-08-21",
         138,
         47406.27,
         0.28
        ],
        [
         "2024-08-22",
         150,
         55719.93,
         0.27
        ],
        [
         "2024-08-23",
         132,
         49953.09,
         0.25
        ],
        [
         "2024-08-24",
         132,
         48752.75,
         0.26
        ],
        [
         "2024-08-25",
         115,
         42051.01,
         0.24
        ],
        [
         "2024-08-26",
         138,
         53978.24,
         0.26
        ],
        [
         "2024-08-27",
         156,
         56318.72,
         0.26
        ],
        [
         "2024-08-28",
         124,
         48128.31,
         0.25
        ],
        [
         "2024-08-29",
         137,
         50164.82,
         0.25
        ],
        [
         "2024-08-30",
         129,
         49687.53,
         0.26
        ],
        [
         "2024-08-31",
         124,
         44271.56,
         0.26
        ],
        [
         "2024-09-01",
         142,
         51129.21,
         0.26
        ],
        [
         "2024-09-02",
         112,
         40281.77,
         0.24
        ],
        [
         "2024-09-03",
         148,
         54448.08,
         0.26
        ],
        [
         "2024-09-04",
         131,
         46411.35,
         0.25
        ],
        [
         "2024-09-05",
         138,
         46694.36,
         0.26
        ],
        [
         "2024-09-06",
         137,
         50006.74,
         0.26
        ],
        [
         "2024-09-07",
         150,
         54782.57,
         0.27
        ],
        [
         "2024-09-08",
         149,
         62269.41,
         0.23
        ],
        [
         "2024-09-09",
         146,
         56936.29,
         0.24
        ],
        [
         "2024-09-10",
         140,
         49310.56,
         0.26
        ],
        [
         "2024-09-11",
         156,
         64477.18,
         0.25
        ],
        [
         "2024-09-12",
         148,
         56035.02,
         0.25
        ],
        [
         "2024-09-13",
         137,
         49542.34,
         0.25
        ],
        [
         "2024-09-14",
         155,
         58982.87,
         0.25
        ],
        [
         "2024-09-15",
         147,
         54301.65,
         0.23
        ],
        [
         "2024-09-16",
         135,
         50397.26,
         0.27
        ],
        [
         "2024-09-17",
         141,
         52485.82,
         0.25
        ],
        [
         "2024-09-18",
         128,
         52696.83,
         0.23
        ],
        [
         "2024-09-19",
         147,
         58656.24,
         0.26
        ],
        [
         "2024-09-20",
         122,
         48788.24,
         0.26
        ],
        [
         "2024-09-21",
         121,
         41856.67,
         0.27
        ],
        [
         "2024-09-22",
         141,
         52695.4,
         0.25
        ],
        [
         "2024-09-23",
         129,
         50645.97,
         0.24
        ],
        [
         "2024-09-24",
         147,
         58148.82,
         0.24
        ],
        [
         "2024-09-25",
         146,
         58053.66,
         0.24
        ],
        [
         "2024-09-26",
         135,
         54362.08,
         0.23
        ],
        [
         "2024-09-27",
         156,
         60724.62,
         0.24
        ],
        [
         "2024-09-28",
         136,
         50644.5,
         0.25
        ],
        [
         "2024-09-29",
         129,
         47838.49,
         0.23
        ],
        [
         "2024-09-30",
         135,
         48556.07,
         0.25
        ],
        [
         "2024-10-01",
         148,
         58725.18,
         0.25
        ],
        [
         "2024-10-02",
         154,
         59209.68,
         0.24
        ],
        [
         "2024-10-03",
         142,
         56887.41,
         0.24
        ],
        [
         "2024-10-04",
         139,
         54299.05,
         0.25
        ],
        [
         "2024-10-05",
         144,
         53468.87,
         0.26
        ],
        [
         "2024-10-06",
         174,
         62852.41,
         0.24
        ],
        [
         "2024-10-07",
         149,
         61521.97,
         0.24
        ],
        [
         "2024-10-08",
         134,
         53448.4,
         0.26
        ],
        [
         "2024-10-09",
         142,
         54920.83,
         0.27
        ],
        [
         "2024-10-10",
         120,
         47712.48,
         0.24
        ],
        [
         "2024-10-11",
         136,
         54226.41,
         0.24
        ],
        [
         "2024-10-12",
         154,
         60520.04,
         0.25
        ],
        [
         "2024-10-13",
         132,
         48288.22,
         0.24
        ],
        [
         "2024-10-14",
         124,
         42718.73,
         0.26
        ],
        [
         "2024-10-15",
         140,
         50554.71,
         0.25
        ],
        [
         "2024-10-16",
         138,
         50510.36,
         0.24
        ],
        [
         "2024-10-17",
         140,
         57618.76,
         0.25
        ],
        [
         "2024-10-18",
         119,
         41382.46,
         0.27
        ],
        [
         "2024-10-19",
         103,
         37339.05,
         0.22
        ],
        [
         "2024-10-20",
         131,
         50851.69,
         0.26
        ],
        [
         "2024-10-21",
         137,
         53471.8,
         0.25
        ],
        [
         "2024-10-22",
         131,
         56442.01,
         0.25
        ],
        [
         "2024-10-23",
         126,
         51055.21,
         0.23
        ],
        [
         "2024-10-24",
         145,
         54353.93,
         0.25
        ],
        [
         "2024-10-25",
         146,
         55903.87,
         0.25
        ],
        [
         "2024-10-26",
         131,
         54102.37,
         0.26
        ],
        [
         "2024-10-27",
         129,
         51283.99,
         0.24
        ],
        [
         "2024-10-28",
         141,
         51071.88,
         0.26
        ],
        [
         "2024-10-29",
         150,
         57493.95,
         0.23
        ],
        [
         "2024-10-30",
         142,
         52748.9,
         0.26
        ],
        [
         "2024-10-31",
         138,
         49847.12,
         0.25
        ],
        [
         "2024-11-01",
         140,
         54190.7,
         0.23
        ],
        [
         "2024-11-02",
         142,
         56941.29,
         0.26
        ],
        [
         "2024-11-03",
         157,
         55330.4,
         0.25
        ],
        [
         "2024-11-04",
         132,
         53434.84,
         0.24
        ],
        [
         "2024-11-05",
         136,
         50281.41,
         0.27
        ],
        [
         "2024-11-06",
         146,
         55426.24,
         0.25
        ],
        [
         "2024-11-07",
         148,
         54485.95,
         0.27
        ],
        [
         "2024-11-08",
         133,
         50542.76,
         0.24
        ],
        [
         "2024-11-09",
         129,
         50186.11,
         0.25
        ],
        [
         "2024-11-10",
         116,
         41660.08,
         0.27
        ],
        [
         "2024-11-11",
         135,
         52720.1,
         0.24
        ],
        [
         "2024-11-12",
         148,
         53924.04,
         0.28
        ],
        [
         "2024-11-13",
         149,
         57749.7,
         0.26
        ],
        [
         "2024-11-14",
         148,
         49216.5,
         0.25
        ],
        [
         "2024-11-15",
         117,
         44259.42,
         0.25
        ],
        [
         "2024-11-16",
         152,
         57540.49,
         0.25
        ],
        [
         "2024-11-17",
         117,
         43577.12,
         0.26
        ],
        [
         "2024-11-18",
         141,
         57262.11,
         0.25
        ],
        [
         "2024-11-19",
         133,
         47333.1,
         0.26
        ],
        [
         "2024-11-20",
         161,
         60181.83,
         0.25
        ],
        [
         "2024-11-21",
         156,
         57967.57,
         0.24
        ],
        [
         "2024-11-22",
         138,
         55590.29,
         0.24
        ],
        [
         "2024-11-23",
         122,
         52155.21,
         0.23
        ],
        [
         "2024-11-24",
         123,
         41861.68,
         0.28
        ],
        [
         "2024-11-25",
         153,
         58068.03,
         0.26
        ],
        [
         "2024-11-26",
         141,
         49528.48,
         0.24
        ],
        [
         "2024-11-27",
         122,
         43341.68,
         0.24
        ],
        [
         "2024-11-28",
         148,
         57270.43,
         0.26
        ],
        [
         "2024-11-29",
         126,
         43551.9,
         0.27
        ],
        [
         "2024-11-30",
         125,
         49380.6,
         0.24
        ],
        [
         "2024-12-01",
         120,
         45580.64,
         0.26
        ],
        [
         "2024-12-02",
         120,
         44450.27,
         0.27
        ],
        [
         "2024-12-03",
         127,
         46603.91,
         0.24
        ],
        [
         "2024-12-04",
         136,
         50221.43,
         0.25
        ],
        [
         "2024-12-05",
         143,
         51406.35,
         0.23
        ],
        [
         "2024-12-06",
         127,
         49239.1,
         0.24
        ],
        [
         "2024-12-07",
         129,
         48745.09,
         0.26
        ],
        [
         "2024-12-08",
         140,
         49605.57,
         0.26
        ],
        [
         "2024-12-09",
         136,
         52072.8,
         0.25
        ],
        [
         "2024-12-10",
         149,
         59151.82,
         0.27
        ],
        [
         "2024-12-11",
         138,
         52990.09,
         0.25
        ],
        [
         "2024-12-12",
         137,
         49105.3,
         0.25
        ],
        [
         "2024-12-13",
         132,
         47534.92,
         0.25
        ],
        [
         "2024-12-14",
         158,
         60846.82,
         0.24
        ],
        [
         "2024-12-15",
         115,
         45517.8,
         0.25
        ],
        [
         "2024-12-16",
         121,
         47403.8,
         0.26
        ],
        [
         "2024-12-17",
         136,
         51962.04,
         0.26
        ],
        [
         "2024-12-18",
         142,
         56749.78,
         0.26
        ],
        [
         "2024-12-19",
         148,
         57889.54,
         0.24
        ],
        [
         "2024-12-20",
         118,
         50597.97,
         0.25
        ],
        [
         "2024-12-21",
         136,
         54029.25,
         0.24
        ],
        [
         "2024-12-22",
         141,
         55800.14,
         0.25
        ],
        [
         "2024-12-23",
         136,
         50579.15,
         0.24
        ],
        [
         "2024-12-24",
         127,
         43835.48,
         0.24
        ],
        [
         "2024-12-25",
         160,
         61197.77,
         0.25
        ],
        [
         "2024-12-26",
         134,
         48333.7,
         0.27
        ],
        [
         "2024-12-27",
         124,
         49850.62,
         0.24
        ],
        [
         "2024-12-28",
         121,
         43859.68,
         0.26
        ],
        [
         "2024-12-29",
         138,
         53074.25,
         0.26
        ],
        [
         "2024-12-30",
         139,
         56111.38,
         0.23
        ],
        [
         "2024-12-31",
         135,
         49819.43,
         0.25
        ],
        [
         "2025-01-01",
         135,
         49843.88,
         0.24
        ],
        [
         "2025-01-02",
         169,
         62825.2,
         0.25
        ],
        [
         "2025-01-03",
         130,
         49773.75,
         0.26
        ],
        [
         "2025-01-04",
         133,
         52157.66,
         0.24
        ],
        [
         "2025-01-05",
         148,
         54090.91,
         0.25
        ],
        [
         "2025-01-06",
         136,
         53555.69,
         0.25
        ],
        [
         "2025-01-07",
         140,
         52690.18,
         0.26
        ],
        [
         "2025-01-08",
         131,
         52252.77,
         0.26
        ],
        [
         "2025-01-09",
         142,
         58294.01,
         0.24
        ],
        [
         "2025-01-10",
         131,
         50416.91,
         0.24
        ],
        [
         "2025-01-11",
         141,
         52047.3,
         0.25
        ],
        [
         "2025-01-12",
         135,
         48306.3,
         0.26
        ],
        [
         "2025-01-13",
         127,
         44992.46,
         0.24
        ],
        [
         "2025-01-14",
         144,
         60648.67,
         0.24
        ],
        [
         "2025-01-15",
         121,
         43745.46,
         0.26
        ],
        [
         "2025-01-16",
         140,
         55395.23,
         0.26
        ],
        [
         "2025-01-17",
         142,
         52133.0,
         0.24
        ],
        [
         "2025-01-18",
         148,
         56442.79,
         0.27
        ],
        [
         "2025-01-19",
         157,
         61896.4,
         0.25
        ],
        [
         "2025-01-20",
         151,
         58115.88,
         0.26
        ],
        [
         "2025-01-21",
         145,
         54802.71,
         0.26
        ],
        [
         "2025-01-22",
         142,
         53267.97,
         0.26
        ],
        [
         "2025-01-23",
         154,
         59464.78,
         0.23
        ],
        [
         "2025-01-24",
         115,
         43948.74,
         0.24
        ],
        [
         "2025-01-25",
         110,
         44298.9,
         0.23
        ],
        [
         "2025-01-26",
         159,
         61326.13,
         0.25
        ],
        [
         "2025-01-27",
         136,
         53289.13,
         0.26
        ],
        [
         "2025-01-28",
         130,
         47111.4,
         0.27
        ],
        [
         "2025-01-29",
         129,
         44469.6,
         0.27
        ],
        [
         "2025-01-30",
         133,
         52191.79,
         0.25
        ],
        [
         "2025-01-31",
         131,
         51827.74,
         0.24
        ],
        [
         "2025-02-01",
         140,
         51169.01,
         0.24
        ],
        [
         "2025-02-02",
         134,
         51997.68,
         0.24
        ],
        [
         "2025-02-03",
         122,
         45503.86,
         0.26
        ],
        [
         "2025-02-04",
         145,
         53581.27,
         0.25
        ],
        [
         "2025-02-05",
         151,
         55735.51,
         0.26
        ],
        [
         "2025-02-06",
         148,
         59093.69,
         0.24
        ],
        [
         "2025-02-07",
         152,
         56411.54,
         0.27
        ],
        [
         "2025-02-08",
         149,
         55802.94,
         0.25
        ],
        [
         "2025-02-09",
         122,
         49278.64,
         0.25
        ],
        [
         "2025-02-10",
         124,
         45419.79,
         0.25
        ],
        [
         "2025-02-11",
         137,
         50676.69,
         0.26
        ],
        [
         "2025-02-12",
         127,
         50294.63,
         0.24
        ],
        [
         "2025-02-13",
         129,
         46104.24,
         0.25
        ],
        [
         "2025-02-14",
         166,
         61844.3,
         0.24
        ],
        [
         "2025-02-15",
         129,
         45796.09,
         0.25
        ],
        [
         "2025-02-16",
         136,
         51437.52,
         0.27
        ],
        [
         "2025-02-17",
         126,
         43830.56,
         0.26
        ],
        [
         "2025-02-18",
         122,
         42667.88,
         0.26
        ],
        [
         "2025-02-19",
         141,
         52916.27,
         0.24
        ],
        [
         "2025-02-20",
         128,
         45117.18,
         0.26
        ],
        [
         "2025-02-21",
         146,
         56164.91,
         0.25
        ],
        [
         "2025-02-22",
         145,
         54863.35,
         0.26
        ],
        [
         "2025-02-23",
         123,
         49452.11,
         0.25
        ],
        [
         "2025-02-24",
         144,
         52307.07,
         0.26
        ],
        [
         "2025-02-25",
         140,
         55063.15,
         0.26
        ],
        [
         "2025-02-26",
         164,
         65040.42,
         0.24
        ],
        [
         "2025-02-27",
         136,
         49301.44,
         0.25
        ],
        [
         "2025-02-28",
         132,
         52843.48,
         0.23
        ],
        [
         "2025-03-01",
         151,
         50490.04,
         0.24
        ],
        [
         "2025-03-02",
         128,
         45928.01,
         0.25
        ],
        [
         "2025-03-03",
         125,
         46855.64,
         0.25
        ],
        [
         "2025-03-04",
         126,
         43868.45,
         0.23
        ],
        [
         "2025-03-05",
         151,
         50254.55,
         0.25
        ],
        [
         "2025-03-06",
         126,
         46746.9,
         0.24
        ],
        [
         "2025-03-07",
         138,
         52048.15,
         0.27
        ],
        [
         "2025-03-08",
         127,
         50722.63,
         0.26
        ],
        [
         "2025-03-09",
         168,
         63388.07,
         0.24
        ],
        [
         "2025-03-10",
         148,
         51853.36,
         0.27
        ],
        [
         "2025-03-11",
         137,
         49283.08,
         0.25
        ],
        [
         "2025-03-12",
         143,
         55505.97,
         0.26
        ],
        [
         "2025-03-13",
         144,
         54662.28,
         0.25
        ],
        [
         "2025-03-14",
         156,
         55599.68,
         0.25
        ],
        [
         "2025-03-15",
         139,
         47686.31,
         0.24
        ],
        [
         "2025-03-16",
         136,
         58733.13,
         0.23
        ],
        [
         "2025-03-17",
         151,
         56466.77,
         0.25
        ],
        [
         "2025-03-18",
         137,
         53820.05,
         0.26
        ],
        [
         "2025-03-19",
         127,
         49552.01,
         0.25
        ],
        [
         "2025-03-20",
         128,
         47289.01,
         0.26
        ],
        [
         "2025-03-21",
         117,
         39976.72,
         0.25
        ],
        [
         "2025-03-22",
         125,
         46209.14,
         0.26
        ],
        [
         "2025-03-23",
         152,
         54364.21,
         0.27
        ],
        [
         "2025-03-24",
         138,
         53298.28,
         0.24
        ],
        [
         "2025-03-25",
         131,
         46208.89,
         0.28
        ],
        [
         "2025-03-26",
         148,
         55456.78,
         0.25
        ],
        [
         "2025-03-27",
         114,
         42780.09,
         0.27
        ],
        [
         "2025-03-28",
         121,
         50462.77,
         0.24
        ],
        [
         "2025-03-29",
         126,
         44324.46,
         0.25
        ],
        [
         "2025-03-30",
         136,
         50935.9,
         0.27
        ],
        [
         "2025-03-31",
         127,
         46363.04,
         0.27
        ],
        [
         "2025-04-01",
         127,
         53310.0,
         0.24
        ],
        [
         "2025-04-02",
         136,
         56311.81,
         0.24
        ],
        [
         "2025-04-03",
         121,
         41688.47,
         0.25
        ],
        [
         "2025-04-04",
         158,
         59885.97,
         0.27
        ],
        [
         "2025-04-05",
         140,
         49218.76,
         0.25
        ],
        [
         "2025-04-06",
         164,
         61318.51,
         0.26
        ],
        [
         "2025-04-07",
         134,
         49062.69,
         0.26
        ],
        [
         "2025-04-08",
         136,
         53515.08,
         0.27
        ],
        [
         "2025-04-09",
         133,
         50502.04,
         0.24
        ],
        [
         "2025-04-10",
         144,
         53670.66,
         0.25
        ],
        [
         "2025-04-11",
         136,
         52276.88,
         0.24
        ],
        [
         "2025-04-12",
         141,
         55960.91,
         0.24
        ],
        [
         "2025-04-13",
         145,
         52792.27,
         0.25
        ],
        [
         "2025-04-14",
         130,
         51094.77,
         0.24
        ],
        [
         "2025-04-15",
         146,
         52762.48,
         0.22
        ],
        [
         "2025-04-16",
         166,
         67776.91,
         0.24
        ],
        [
         "2025-04-17",
         136,
         50661.92,
         0.27
        ],
        [
         "2025-04-18",
         137,
         52280.31,
         0.25
        ],
        [
         "2025-04-19",
         119,
         44773.5,
         0.25
        ],
        [
         "2025-04-20",
         133,
         49310.05,
         0.24
        ],
        [
         "2025-04-21",
         128,
         47685.76,
         0.25
        ],
        [
         "2025-04-22",
         145,
         52886.53,
         0.25
        ],
        [
         "2025-04-23",
         150,
         58833.27,
         0.25
        ],
        [
         "2025-04-24",
         147,
         52893.62,
         0.25
        ],
        [
         "2025-04-25",
         132,
         53371.17,
         0.25
        ],
        [
         "2025-04-26",
         135,
         50517.58,
         0.26
        ],
        [
         "2025-04-27",
         146,
         56472.83,
         0.26
        ],
        [
         "2025-04-28",
         135,
         49885.62,
         0.24
        ],
        [
         "2025-04-29",
         131,
         48469.03,
         0.26
        ],
        [
         "2025-04-30",
         141,
         50048.47,
         0.23
        ],
        [
         "2025-05-01",
         142,
         54154.47,
         0.24
        ],
        [
         "2025-05-02",
         160,
         67385.32,
         0.26
        ],
        [
         "2025-05-03",
         131,
         49451.26,
         0.23
        ],
        [
         "2025-05-04",
         135,
         50097.5,
         0.27
        ],
        [
         "2025-05-05",
         131,
         51860.07,
         0.25
        ],
        [
         "2025-05-06",
         143,
         53138.79,
         0.26
        ],
        [
         "2025-05-07",
         138,
         51537.81,
         0.25
        ],
        [
         "2025-05-08",
         128,
         49365.57,
         0.25
        ],
        [
         "2025-05-09",
         146,
         56458.03,
         0.26
        ],
        [
         "2025-05-10",
         158,
         60532.57,
         0.25
        ],
        [
         "2025-05-11",
         127,
         47762.97,
         0.26
        ],
        [
         "2025-05-12",
         120,
         45733.17,
         0.29
        ],
        [
         "2025-05-13",
         121,
         45708.68,
         0.25
        ],
        [
         "2025-05-14",
         119,
         46590.76,
         0.25
        ],
        [
         "2025-05-15",
         121,
         47729.77,
         0.23
        ],
        [
         "2025-05-16",
         138,
         50579.12,
         0.25
        ],
        [
         "2025-05-17",
         145,
         52304.41,
         0.25
        ],
        [
         "2025-05-18",
         103,
         41452.25,
         0.24
        ],
        [
         "2025-05-19",
         106,
         45395.87,
         0.24
        ],
        [
         "2025-05-20",
         120,
         47843.78,
         0.23
        ],
        [
         "2025-05-21",
         148,
         56923.38,
         0.24
        ],
        [
         "2025-05-22",
         116,
         42870.63,
         0.25
        ],
        [
         "2025-05-23",
         160,
         61691.95,
         0.26
        ],
        [
         "2025-05-24",
         114,
         43162.14,
         0.24
        ],
        [
         "2025-05-25",
         153,
         56303.4,
         0.26
        ],
        [
         "2025-05-26",
         135,
         51395.24,
         0.23
        ],
        [
         "2025-05-27",
         127,
         47991.95,
         0.25
        ],
        [
         "2025-05-28",
         135,
         49138.58,
         0.23
        ],
        [
         "2025-05-29",
         123,
         46863.98,
         0.26
        ],
        [
         "2025-05-30",
         146,
         55877.31,
         0.26
        ],
        [
         "2025-05-31",
         135,
         45716.1,
         0.25
        ],
        [
         "2025-06-01",
         124,
         44604.15,
         0.27
        ],
        [
         "2025-06-02",
         142,
         52303.59,
         0.25
        ],
        [
         "2025-06-03",
         138,
         49941.5,
         0.24
        ],
        [
         "2025-06-04",
         137,
         54134.91,
         0.24
        ],
        [
         "2025-06-05",
         141,
         52395.49,
         0.27
        ],
        [
         "2025-06-06",
         145,
         50070.75,
         0.25
        ],
        [
         "2025-06-07",
         144,
         52458.4,
         0.26
        ],
        [
         "2025-06-08",
         134,
         53433.94,
         0.27
        ],
        [
         "2025-06-09",
         128,
         48866.04,
         0.26
        ],
        [
         "2025-06-10",
         125,
         47654.57,
         0.24
        ],
        [
         "2025-06-11",
         135,
         50388.07,
         0.25
        ],
        [
         "2025-06-12",
         124,
         47787.34,
         0.26
        ],
        [
         "2025-06-13",
         135,
         56928.51,
         0.23
        ],
        [
         "2025-06-14",
         147,
         56371.84,
         0.25
        ],
        [
         "2025-06-15",
         123,
         49077.31,
         0.24
        ],
        [
         "2025-06-16",
         131,
         51060.3,
         0.25
        ],
        [
         "2025-06-17",
         142,
         53067.08,
         0.26
        ],
        [
         "2025-06-18",
         138,
         47452.45,
         0.26
        ],
        [
         "2025-06-19",
         154,
         56325.74,
         0.26
        ],
        [
         "2025-06-20",
         78,
         31236.47,
         0.24
        ]
       ],
       "datasetInfos": [],
       "dbfsResultPath": null,
       "isJsonSchema": true,
       "metadata": {},
       "overflow": false,
       "plotOptions": {
        "customPlotOptions": {},
        "displayType": "table",
        "pivotAggregation": null,
        "pivotColumns": null,
        "xColumns": null,
        "yColumns": null
       },
       "removedWidgets": [],
       "schema": [
        {
         "metadata": "{}",
         "name": "Date",
         "type": "\"date\""
        },
        {
         "metadata": "{}",
         "name": "Total_Transactions",
         "type": "\"long\""
        },
        {
         "metadata": "{}",
         "name": "Revenue",
         "type": "\"double\""
        },
        {
         "metadata": "{}",
         "name": "Avg_Discount_Percentage",
         "type": "\"double\""
        }
       ],
       "type": "table"
      }
     },
     "output_type": "display_data"
    }
   ],
   "source": [
    "# Daily Trends (Granular View)\n",
    "query = \"\"\"\n",
    "SELECT  \n",
    "  DATE(purchase_date) AS Date,  \n",
    "  COUNT(*) AS Total_Transactions,  \n",
    "  ROUND(SUM(final_price), 2) AS Revenue,  \n",
    "  ROUND(AVG(discount), 2) AS Avg_Discount_Percentage\n",
    "FROM retail_data_cleaned\n",
    "GROUP BY DATE(purchase_date)\n",
    "ORDER BY Date\n",
    "\"\"\"\n",
    "\n",
    "daily_trend_df = spark.sql(query)\n",
    "display(daily_trend_df)"
   ]
  },
  {
   "cell_type": "code",
   "execution_count": 0,
   "metadata": {
    "application/vnd.databricks.v1+cell": {
     "cellMetadata": {
      "byteLimit": 2048000,
      "rowLimit": 10000
     },
     "inputWidgets": {},
     "nuid": "d8664844-b853-4e8e-859b-477990ba9a98",
     "showTitle": false,
     "tableResultSettingsMap": {},
     "title": ""
    }
   },
   "outputs": [
    {
     "output_type": "display_data",
     "data": {
      "text/html": [
       "<style scoped>\n",
       "  .table-result-container {\n",
       "    max-height: 300px;\n",
       "    overflow: auto;\n",
       "  }\n",
       "  table, th, td {\n",
       "    border: 1px solid black;\n",
       "    border-collapse: collapse;\n",
       "  }\n",
       "  th, td {\n",
       "    padding: 5px;\n",
       "  }\n",
       "  th {\n",
       "    text-align: left;\n",
       "  }\n",
       "</style><div class='table-result-container'><table class='table-result'><thead style='background-color: white'><tr><th>category</th><th>Total_Transactions</th><th>Total_Revenue</th><th>Avg_Order_Value</th></tr></thead><tbody><tr><td>Clothing</td><td>16632</td><td>6342671.95</td><td>381.35</td></tr><tr><td>Home</td><td>16743</td><td>6332215.78</td><td>378.2</td></tr><tr><td>Electronics</td><td>16698</td><td>6326943.59</td><td>378.9</td></tr><tr><td>Beauty</td><td>16661</td><td>6321260.49</td><td>379.4</td></tr><tr><td>Toys</td><td>16624</td><td>6285589.32</td><td>378.1</td></tr><tr><td>Books</td><td>16642</td><td>6275382.62</td><td>377.08</td></tr></tbody></table></div>"
      ]
     },
     "metadata": {
      "application/vnd.databricks.v1+output": {
       "addedWidgets": {},
       "aggData": [],
       "aggError": "",
       "aggOverflow": false,
       "aggSchema": [],
       "aggSeriesLimitReached": false,
       "aggType": "",
       "arguments": {},
       "columnCustomDisplayInfos": {},
       "data": [
        [
         "Clothing",
         16632,
         6342671.95,
         381.35
        ],
        [
         "Home",
         16743,
         6332215.78,
         378.2
        ],
        [
         "Electronics",
         16698,
         6326943.59,
         378.9
        ],
        [
         "Beauty",
         16661,
         6321260.49,
         379.4
        ],
        [
         "Toys",
         16624,
         6285589.32,
         378.1
        ],
        [
         "Books",
         16642,
         6275382.62,
         377.08
        ]
       ],
       "datasetInfos": [],
       "dbfsResultPath": null,
       "isJsonSchema": true,
       "metadata": {},
       "overflow": false,
       "plotOptions": {
        "customPlotOptions": {},
        "displayType": "table",
        "pivotAggregation": null,
        "pivotColumns": null,
        "xColumns": null,
        "yColumns": null
       },
       "removedWidgets": [],
       "schema": [
        {
         "metadata": "{}",
         "name": "category",
         "type": "\"string\""
        },
        {
         "metadata": "{}",
         "name": "Total_Transactions",
         "type": "\"long\""
        },
        {
         "metadata": "{}",
         "name": "Total_Revenue",
         "type": "\"double\""
        },
        {
         "metadata": "{}",
         "name": "Avg_Order_Value",
         "type": "\"double\""
        }
       ],
       "type": "table"
      }
     },
     "output_type": "display_data"
    }
   ],
   "source": [
    "# Category-Level Performance Analysis\n",
    "query = \"\"\"\n",
    "SELECT\n",
    "  category,\n",
    "  COUNT(*) AS Total_Transactions,\n",
    "  ROUND(SUM(final_price), 2) AS Total_Revenue,\n",
    "  ROUND(AVG(final_price), 2) AS Avg_Order_Value\n",
    "FROM retail_data_cleaned\n",
    "GROUP BY category\n",
    "ORDER BY Total_Revenue DESC\n",
    "\"\"\"\n",
    "\n",
    "category_perf_df = spark.sql(query)\n",
    "display(category_perf_df)"
   ]
  },
  {
   "cell_type": "code",
   "execution_count": 0,
   "metadata": {
    "application/vnd.databricks.v1+cell": {
     "cellMetadata": {
      "byteLimit": 2048000,
      "rowLimit": 10000
     },
     "inputWidgets": {},
     "nuid": "c3aac5de-21b6-4c16-8df7-151d82a1fef1",
     "showTitle": false,
     "tableResultSettingsMap": {},
     "title": ""
    }
   },
   "outputs": [
    {
     "output_type": "display_data",
     "data": {
      "text/html": [
       "<style scoped>\n",
       "  .table-result-container {\n",
       "    max-height: 300px;\n",
       "    overflow: auto;\n",
       "  }\n",
       "  table, th, td {\n",
       "    border: 1px solid black;\n",
       "    border-collapse: collapse;\n",
       "  }\n",
       "  th, td {\n",
       "    padding: 5px;\n",
       "  }\n",
       "  th {\n",
       "    text-align: left;\n",
       "  }\n",
       "</style><div class='table-result-container'><table class='table-result'><thead style='background-color: white'><tr><th>payment_method</th><th>total_transactions</th><th>total_revenue</th><th>avg_order_value</th></tr></thead><tbody><tr><td>Card</td><td>25161</td><td>9556737.41</td><td>379.82</td></tr><tr><td>COD</td><td>25103</td><td>9543604.53</td><td>380.18</td></tr><tr><td>Wallet</td><td>24925</td><td>9426279.01</td><td>378.19</td></tr><tr><td>UPI</td><td>24811</td><td>9357442.8</td><td>377.15</td></tr></tbody></table></div>"
      ]
     },
     "metadata": {
      "application/vnd.databricks.v1+output": {
       "addedWidgets": {},
       "aggData": [],
       "aggError": "",
       "aggOverflow": false,
       "aggSchema": [],
       "aggSeriesLimitReached": false,
       "aggType": "",
       "arguments": {},
       "columnCustomDisplayInfos": {},
       "data": [
        [
         "Card",
         25161,
         9556737.41,
         379.82
        ],
        [
         "COD",
         25103,
         9543604.53,
         380.18
        ],
        [
         "Wallet",
         24925,
         9426279.01,
         378.19
        ],
        [
         "UPI",
         24811,
         9357442.8,
         377.15
        ]
       ],
       "datasetInfos": [],
       "dbfsResultPath": null,
       "isJsonSchema": true,
       "metadata": {},
       "overflow": false,
       "plotOptions": {
        "customPlotOptions": {},
        "displayType": "table",
        "pivotAggregation": null,
        "pivotColumns": null,
        "xColumns": null,
        "yColumns": null
       },
       "removedWidgets": [],
       "schema": [
        {
         "metadata": "{}",
         "name": "payment_method",
         "type": "\"string\""
        },
        {
         "metadata": "{}",
         "name": "total_transactions",
         "type": "\"long\""
        },
        {
         "metadata": "{}",
         "name": "total_revenue",
         "type": "\"double\""
        },
        {
         "metadata": "{}",
         "name": "avg_order_value",
         "type": "\"double\""
        }
       ],
       "type": "table"
      }
     },
     "output_type": "display_data"
    }
   ],
   "source": [
    "# Top Payment Methods\n",
    "query = \"\"\"\n",
    "SELECT\n",
    "  payment_method,\n",
    "  COUNT(*) AS total_transactions,\n",
    "  ROUND(SUM(final_price), 2) AS total_revenue,\n",
    "  ROUND(AVG(final_price), 2) AS avg_order_value\n",
    "FROM retail_data_cleaned\n",
    "GROUP BY payment_method\n",
    "ORDER BY total_revenue DESC\n",
    "\"\"\"\n",
    "\n",
    "payment_stats_df = spark.sql(query)\n",
    "display(payment_stats_df)"
   ]
  },
  {
   "cell_type": "code",
   "execution_count": 0,
   "metadata": {
    "application/vnd.databricks.v1+cell": {
     "cellMetadata": {
      "byteLimit": 2048000,
      "rowLimit": 10000
     },
     "inputWidgets": {},
     "nuid": "9e93233b-c314-4884-932c-bedc2c28358b",
     "showTitle": false,
     "tableResultSettingsMap": {},
     "title": ""
    }
   },
   "outputs": [
    {
     "output_type": "display_data",
     "data": {
      "text/html": [
       "<style scoped>\n",
       "  .table-result-container {\n",
       "    max-height: 300px;\n",
       "    overflow: auto;\n",
       "  }\n",
       "  table, th, td {\n",
       "    border: 1px solid black;\n",
       "    border-collapse: collapse;\n",
       "  }\n",
       "  th, td {\n",
       "    padding: 5px;\n",
       "  }\n",
       "  th {\n",
       "    text-align: left;\n",
       "  }\n",
       "</style><div class='table-result-container'><table class='table-result'><thead style='background-color: white'><tr><th>high_discount_flag</th><th>transaction_count</th><th>total_revenue</th><th>avg_discount_amount</th></tr></thead><tbody><tr><td>0</td><td>100000</td><td>3.788406375E7</td><td>1.26</td></tr></tbody></table></div>"
      ]
     },
     "metadata": {
      "application/vnd.databricks.v1+output": {
       "addedWidgets": {},
       "aggData": [],
       "aggError": "",
       "aggOverflow": false,
       "aggSchema": [],
       "aggSeriesLimitReached": false,
       "aggType": "",
       "arguments": {},
       "columnCustomDisplayInfos": {},
       "data": [
        [
         0,
         100000,
         3.788406375E7,
         1.26
        ]
       ],
       "datasetInfos": [],
       "dbfsResultPath": null,
       "isJsonSchema": true,
       "metadata": {},
       "overflow": false,
       "plotOptions": {
        "customPlotOptions": {},
        "displayType": "table",
        "pivotAggregation": null,
        "pivotColumns": null,
        "xColumns": null,
        "yColumns": null
       },
       "removedWidgets": [],
       "schema": [
        {
         "metadata": "{}",
         "name": "high_discount_flag",
         "type": "\"integer\""
        },
        {
         "metadata": "{}",
         "name": "transaction_count",
         "type": "\"long\""
        },
        {
         "metadata": "{}",
         "name": "total_revenue",
         "type": "\"double\""
        },
        {
         "metadata": "{}",
         "name": "avg_discount_amount",
         "type": "\"double\""
        }
       ],
       "type": "table"
      }
     },
     "output_type": "display_data"
    }
   ],
   "source": [
    "# High Discount Purchase Behavior\n",
    "query = \"\"\"\n",
    "SELECT\n",
    "  high_discount_flag,\n",
    "  COUNT(*) AS transaction_count,\n",
    "  ROUND(SUM(final_price), 2) AS total_revenue,\n",
    "  ROUND(AVG(discount_amount), 2) AS avg_discount_amount\n",
    "FROM retail_data_cleaned\n",
    "GROUP BY high_discount_flag\n",
    "ORDER BY transaction_count DESC\n",
    "\"\"\"\n",
    "\n",
    "discount_imp_df = spark.sql(query)\n",
    "display(discount_imp_df)"
   ]
  },
  {
   "cell_type": "code",
   "execution_count": 0,
   "metadata": {
    "application/vnd.databricks.v1+cell": {
     "cellMetadata": {
      "byteLimit": 2048000,
      "rowLimit": 10000
     },
     "inputWidgets": {},
     "nuid": "a65f3c62-666d-4a74-84f3-ac80c26ac821",
     "showTitle": false,
     "tableResultSettingsMap": {},
     "title": ""
    }
   },
   "outputs": [
    {
     "output_type": "display_data",
     "data": {
      "text/html": [
       "<style scoped>\n",
       "  .table-result-container {\n",
       "    max-height: 300px;\n",
       "    overflow: auto;\n",
       "  }\n",
       "  table, th, td {\n",
       "    border: 1px solid black;\n",
       "    border-collapse: collapse;\n",
       "  }\n",
       "  th, td {\n",
       "    padding: 5px;\n",
       "  }\n",
       "  th {\n",
       "    text-align: left;\n",
       "  }\n",
       "</style><div class='table-result-container'><table class='table-result'><thead style='background-color: white'><tr><th>day_type</th><th>total_transactions</th><th>total_revenue</th></tr></thead><tbody><tr><td>Weekday</td><td>71315</td><td>2.704678637E7</td></tr><tr><td>Weekend</td><td>28685</td><td>1.083727738E7</td></tr></tbody></table></div>"
      ]
     },
     "metadata": {
      "application/vnd.databricks.v1+output": {
       "addedWidgets": {},
       "aggData": [],
       "aggError": "",
       "aggOverflow": false,
       "aggSchema": [],
       "aggSeriesLimitReached": false,
       "aggType": "",
       "arguments": {},
       "columnCustomDisplayInfos": {},
       "data": [
        [
         "Weekday",
         71315,
         2.704678637E7
        ],
        [
         "Weekend",
         28685,
         1.083727738E7
        ]
       ],
       "datasetInfos": [],
       "dbfsResultPath": null,
       "isJsonSchema": true,
       "metadata": {},
       "overflow": false,
       "plotOptions": {
        "customPlotOptions": {},
        "displayType": "table",
        "pivotAggregation": null,
        "pivotColumns": null,
        "xColumns": null,
        "yColumns": null
       },
       "removedWidgets": [],
       "schema": [
        {
         "metadata": "{}",
         "name": "day_type",
         "type": "\"string\""
        },
        {
         "metadata": "{}",
         "name": "total_transactions",
         "type": "\"long\""
        },
        {
         "metadata": "{}",
         "name": "total_revenue",
         "type": "\"double\""
        }
       ],
       "type": "table"
      }
     },
     "output_type": "display_data"
    }
   ],
   "source": [
    "# Time-Based Trends (Weekday vs Weekend)\n",
    "query = \"\"\"\n",
    "SELECT\n",
    "  CASE \n",
    "    WHEN dayofweek(purchase_date) IN (1, 7) THEN 'Weekend'\n",
    "    ELSE 'Weekday'\n",
    "  END AS day_type,\n",
    "  COUNT(*) AS total_transactions,\n",
    "  ROUND(SUM(final_price), 2) AS total_revenue\n",
    "FROM retail_data_cleaned\n",
    "GROUP BY day_type\n",
    "ORDER BY total_revenue DESC\n",
    "\"\"\"\n",
    "\n",
    "time_based_trends_df = spark.sql(query)\n",
    "display(time_based_trends_df)"
   ]
  },
  {
   "cell_type": "code",
   "execution_count": 0,
   "metadata": {
    "application/vnd.databricks.v1+cell": {
     "cellMetadata": {
      "byteLimit": 2048000,
      "rowLimit": 10000
     },
     "inputWidgets": {},
     "nuid": "f0bde8b7-cca8-4e14-ae53-de9d5de40f7b",
     "showTitle": false,
     "tableResultSettingsMap": {},
     "title": ""
    }
   },
   "outputs": [
    {
     "output_type": "stream",
     "name": "stdout",
     "output_type": "stream",
     "text": [
      "Bronze, Silver, and Gold Delta layers written successfully.\n"
     ]
    }
   ],
   "source": [
    "# Gold Layer: Aggregated KPIs\n",
    "revenue_df = spark.sql(\"\"\"\n",
    "  SELECT \n",
    "    category,\n",
    "    COUNT(*) AS total_transactions,\n",
    "    ROUND(SUM(final_price), 2) AS total_revenue,\n",
    "    ROUND(AVG(final_price), 2) AS avg_order_value\n",
    "  FROM retail_data_cleaned\n",
    "  GROUP BY category\n",
    "\"\"\")\n",
    "\n",
    "revenue_df.write.format(\"delta\").mode(\"overwrite\").saveAsTable(\"retail_pipeline.retail_gold_kpis\")\n",
    "\n",
    "# Validation Check\n",
    "print(\"Bronze, Silver, and Gold Delta layers written successfully.\")"
   ]
  },
  {
   "cell_type": "code",
   "execution_count": 0,
   "metadata": {
    "application/vnd.databricks.v1+cell": {
     "cellMetadata": {
      "byteLimit": 2048000,
      "rowLimit": 10000
     },
     "inputWidgets": {},
     "nuid": "1d693982-c974-425a-a5b4-4405c3185be2",
     "showTitle": false,
     "tableResultSettingsMap": {},
     "title": ""
    }
   },
   "outputs": [],
   "source": [
    "# GOLD Table: Revenue and Transactions by Day of Week\n",
    "gold_df = retail_data_cleaned.groupBy(\"purchase_date\") \\\n",
    "    .agg(\n",
    "        F.round(F.sum(\"final_price\"), 2).alias(\"total_revenue\"),\n",
    "        F.round(F.sum(\"discount_amount\"), 2).alias(\"total_discount_given\"),\n",
    "        F.count(\"*\").alias(\"total_transactions\")\n",
    "    )\n",
    "\n",
    "# Save Gold table\n",
    "gold_df.write.format(\"delta\").mode(\"overwrite\").saveAsTable(\"retail_pipeline.revenue_by_day_gold\")"
   ]
  },
  {
   "cell_type": "code",
   "execution_count": 0,
   "metadata": {
    "application/vnd.databricks.v1+cell": {
     "cellMetadata": {
      "byteLimit": 2048000,
      "rowLimit": 10000
     },
     "inputWidgets": {},
     "nuid": "2b922db8-7df3-4e0c-a091-f4c8a7e2ae11",
     "showTitle": false,
     "tableResultSettingsMap": {},
     "title": ""
    }
   },
   "outputs": [],
   "source": [
    "# GOLD Table: Avg Order Value and Revenue by Payment Method\n",
    "payment_gold_df = retail_data_cleaned.groupBy(\"payment_method\") \\\n",
    "    .agg(\n",
    "        F.count(\"*\").alias(\"total_transactions\"),\n",
    "        F.round(F.sum(\"final_price\"), 2).alias(\"total_revenue\"),\n",
    "        F.round(F.avg(\"final_price\"), 2).alias(\"avg_order_value\")\n",
    "    )\n",
    "\n",
    "# Save Gold table\n",
    "payment_gold_df.write.format(\"delta\").mode(\"overwrite\").saveAsTable(\"retail_pipeline.payment_method_gold\")"
   ]
  },
  {
   "cell_type": "code",
   "execution_count": 0,
   "metadata": {
    "application/vnd.databricks.v1+cell": {
     "cellMetadata": {
      "byteLimit": 2048000,
      "rowLimit": 10000
     },
     "inputWidgets": {},
     "nuid": "9099acc2-6117-4eed-9efe-982fc2ce4808",
     "showTitle": false,
     "tableResultSettingsMap": {},
     "title": ""
    }
   },
   "outputs": [
    {
     "output_type": "display_data",
     "data": {
      "text/html": [
       "<style scoped>\n",
       "  .table-result-container {\n",
       "    max-height: 300px;\n",
       "    overflow: auto;\n",
       "  }\n",
       "  table, th, td {\n",
       "    border: 1px solid black;\n",
       "    border-collapse: collapse;\n",
       "  }\n",
       "  th, td {\n",
       "    padding: 5px;\n",
       "  }\n",
       "  th {\n",
       "    text-align: left;\n",
       "  }\n",
       "</style><div class='table-result-container'><table class='table-result'><thead style='background-color: white'><tr><th>database</th><th>tableName</th><th>isTemporary</th></tr></thead><tbody><tr><td>retail_pipeline</td><td>payment_method_gold</td><td>false</td></tr><tr><td>retail_pipeline</td><td>retail_bronze</td><td>false</td></tr><tr><td>retail_pipeline</td><td>retail_gold_kpis</td><td>false</td></tr><tr><td>retail_pipeline</td><td>retail_silver</td><td>false</td></tr><tr><td>retail_pipeline</td><td>revenue_by_day_gold</td><td>false</td></tr><tr><td></td><td>retail_data_cleaned</td><td>true</td></tr><tr><td></td><td>retail_data_monthly</td><td>true</td></tr></tbody></table></div>"
      ]
     },
     "metadata": {
      "application/vnd.databricks.v1+output": {
       "addedWidgets": {},
       "aggData": [],
       "aggError": "",
       "aggOverflow": false,
       "aggSchema": [],
       "aggSeriesLimitReached": false,
       "aggType": "",
       "arguments": {},
       "columnCustomDisplayInfos": {},
       "data": [
        [
         "retail_pipeline",
         "payment_method_gold",
         false
        ],
        [
         "retail_pipeline",
         "retail_bronze",
         false
        ],
        [
         "retail_pipeline",
         "retail_gold_kpis",
         false
        ],
        [
         "retail_pipeline",
         "retail_silver",
         false
        ],
        [
         "retail_pipeline",
         "revenue_by_day_gold",
         false
        ],
        [
         "",
         "retail_data_cleaned",
         true
        ],
        [
         "",
         "retail_data_monthly",
         true
        ]
       ],
       "datasetInfos": [],
       "dbfsResultPath": null,
       "isJsonSchema": true,
       "metadata": {},
       "overflow": false,
       "plotOptions": {
        "customPlotOptions": {},
        "displayType": "table",
        "pivotAggregation": null,
        "pivotColumns": null,
        "xColumns": null,
        "yColumns": null
       },
       "removedWidgets": [],
       "schema": [
        {
         "metadata": "{}",
         "name": "database",
         "type": "\"string\""
        },
        {
         "metadata": "{}",
         "name": "tableName",
         "type": "\"string\""
        },
        {
         "metadata": "{}",
         "name": "isTemporary",
         "type": "\"boolean\""
        }
       ],
       "type": "table"
      }
     },
     "output_type": "display_data"
    }
   ],
   "source": [
    "showdf = spark.sql(\"\"\"\n",
    "SHOW TABLES IN retail_pipeline;\n",
    "\"\"\")\n",
    "showdf.display()"
   ]
  },
  {
   "cell_type": "markdown",
   "metadata": {
    "application/vnd.databricks.v1+cell": {
     "cellMetadata": {},
     "inputWidgets": {},
     "nuid": "50b31882-69d4-4ade-be09-aa616652f208",
     "showTitle": false,
     "tableResultSettingsMap": {},
     "title": ""
    }
   },
   "source": [
    "###  Visual Insights & Exploratory Visualization"
   ]
  },
  {
   "cell_type": "code",
   "execution_count": 0,
   "metadata": {
    "application/vnd.databricks.v1+cell": {
     "cellMetadata": {
      "byteLimit": 2048000,
      "rowLimit": 10000
     },
     "inputWidgets": {},
     "nuid": "ee5263d4-8c35-4529-9aaa-d21c206a8837",
     "showTitle": false,
     "tableResultSettingsMap": {},
     "title": ""
    }
   },
   "outputs": [
    {
     "output_type": "display_data",
     "data": {
      "text/html": [
       "<style scoped>\n",
       "  .table-result-container {\n",
       "    max-height: 300px;\n",
       "    overflow: auto;\n",
       "  }\n",
       "  table, th, td {\n",
       "    border: 1px solid black;\n",
       "    border-collapse: collapse;\n",
       "  }\n",
       "  th, td {\n",
       "    padding: 5px;\n",
       "  }\n",
       "  th {\n",
       "    text-align: left;\n",
       "  }\n",
       "</style><div class='table-result-container'><table class='table-result'><thead style='background-color: white'><tr><th>category</th><th>total_revenue</th></tr></thead><tbody><tr><td>Clothing</td><td>6342671.95</td></tr><tr><td>Home</td><td>6332215.78</td></tr><tr><td>Electronics</td><td>6326943.59</td></tr><tr><td>Beauty</td><td>6321260.49</td></tr><tr><td>Toys</td><td>6285589.32</td></tr><tr><td>Books</td><td>6275382.62</td></tr></tbody></table></div>"
      ]
     },
     "metadata": {
      "application/vnd.databricks.v1+output": {
       "addedWidgets": {},
       "aggData": [],
       "aggError": "",
       "aggOverflow": false,
       "aggSchema": [],
       "aggSeriesLimitReached": false,
       "aggType": "",
       "arguments": {},
       "columnCustomDisplayInfos": {},
       "data": [
        [
         "Clothing",
         6342671.95
        ],
        [
         "Home",
         6332215.78
        ],
        [
         "Electronics",
         6326943.59
        ],
        [
         "Beauty",
         6321260.49
        ],
        [
         "Toys",
         6285589.32
        ],
        [
         "Books",
         6275382.62
        ]
       ],
       "datasetInfos": [],
       "dbfsResultPath": null,
       "isJsonSchema": true,
       "metadata": {},
       "overflow": false,
       "plotOptions": {
        "customPlotOptions": {},
        "displayType": "table",
        "pivotAggregation": null,
        "pivotColumns": null,
        "xColumns": null,
        "yColumns": null
       },
       "removedWidgets": [],
       "schema": [
        {
         "metadata": "{}",
         "name": "category",
         "type": "\"string\""
        },
        {
         "metadata": "{}",
         "name": "total_revenue",
         "type": "\"double\""
        }
       ],
       "type": "table"
      }
     },
     "output_type": "display_data"
    },
    {
     "output_type": "display_data",
     "data": {
      "image/png": "[encoded data removed]",
      "text/plain": [
       "<Figure size 1000x600 with 1 Axes>"
      ]
     },
     "metadata": {},
     "output_type": "display_data"
    }
   ],
   "source": [
    "# Total revenue per category\n",
    "category_sales = retail_data_cleaned.groupBy(\"category\") \\\n",
    "    .agg(F.round(F.sum(\"final_price\"), 2).alias(\"total_revenue\")) \\\n",
    "    .orderBy(\"total_revenue\", ascending=False)\n",
    "\n",
    "# Show table\n",
    "display(category_sales)\n",
    "\n",
    "pandas_df = category_sales.toPandas()\n",
    "plt.figure(figsize=(10,6))\n",
    "plt.bar(pandas_df[\"category\"], pandas_df[\"total_revenue\"])\n",
    "plt.title(\"Total Revenue by Category\")\n",
    "plt.xlabel(\"Category\")\n",
    "plt.ylabel(\"Total Revenue\")\n",
    "plt.xticks(rotation=45)\n",
    "plt.tight_layout()\n",
    "plt.show()"
   ]
  },
  {
   "cell_type": "markdown",
   "metadata": {
    "application/vnd.databricks.v1+cell": {
     "cellMetadata": {},
     "inputWidgets": {},
     "nuid": "d2dfb3b0-68d7-4abc-aea7-e4ce8ef27224",
     "showTitle": false,
     "tableResultSettingsMap": {},
     "title": ""
    }
   },
   "source": [
    "Business Question: How has revenue evolved over time (monthly)?"
   ]
  },
  {
   "cell_type": "code",
   "execution_count": 0,
   "metadata": {
    "application/vnd.databricks.v1+cell": {
     "cellMetadata": {
      "byteLimit": 2048000,
      "rowLimit": 10000
     },
     "inputWidgets": {},
     "nuid": "223da45a-0593-4f90-a99a-74d3ad11dad8",
     "showTitle": false,
     "tableResultSettingsMap": {},
     "title": ""
    }
   },
   "outputs": [
    {
     "output_type": "display_data",
     "data": {
      "text/html": [
       "<style scoped>\n",
       "  .table-result-container {\n",
       "    max-height: 300px;\n",
       "    overflow: auto;\n",
       "  }\n",
       "  table, th, td {\n",
       "    border: 1px solid black;\n",
       "    border-collapse: collapse;\n",
       "  }\n",
       "  th, td {\n",
       "    padding: 5px;\n",
       "  }\n",
       "  th {\n",
       "    text-align: left;\n",
       "  }\n",
       "</style><div class='table-result-container'><table class='table-result'><thead style='background-color: white'><tr><th>year_month</th><th>total_revenue</th></tr></thead><tbody><tr><td>2023-06</td><td>480340.54</td></tr><tr><td>2023-07</td><td>1600947.64</td></tr><tr><td>2023-08</td><td>1622559.62</td></tr><tr><td>2023-09</td><td>1524438.2</td></tr><tr><td>2023-10</td><td>1660197.75</td></tr><tr><td>2023-11</td><td>1539039.13</td></tr><tr><td>2023-12</td><td>1625710.26</td></tr><tr><td>2024-01</td><td>1602949.9</td></tr><tr><td>2024-02</td><td>1486739.63</td></tr><tr><td>2024-03</td><td>1609237.69</td></tr><tr><td>2024-04</td><td>1551700.36</td></tr><tr><td>2024-05</td><td>1582012.4</td></tr><tr><td>2024-06</td><td>1556425.37</td></tr><tr><td>2024-07</td><td>1682192.64</td></tr><tr><td>2024-08</td><td>1589168.78</td></tr><tr><td>2024-09</td><td>1582160.07</td></tr><tr><td>2024-10</td><td>1644831.74</td></tr><tr><td>2024-11</td><td>1554960.06</td></tr><tr><td>2024-12</td><td>1584165.89</td></tr><tr><td>2025-01</td><td>1635623.34</td></tr><tr><td>2025-02</td><td>1449715.22</td></tr><tr><td>2025-03</td><td>1561134.37</td></tr><tr><td>2025-04</td><td>1579237.87</td></tr><tr><td>2025-05</td><td>1573016.83</td></tr><tr><td>2025-06</td><td>1005558.45</td></tr></tbody></table></div>"
      ]
     },
     "metadata": {
      "application/vnd.databricks.v1+output": {
       "addedWidgets": {},
       "aggData": [],
       "aggError": "",
       "aggOverflow": false,
       "aggSchema": [],
       "aggSeriesLimitReached": false,
       "aggType": "",
       "arguments": {},
       "columnCustomDisplayInfos": {},
       "data": [
        [
         "2023-06",
         480340.54
        ],
        [
         "2023-07",
         1600947.64
        ],
        [
         "2023-08",
         1622559.62
        ],
        [
         "2023-09",
         1524438.2
        ],
        [
         "2023-10",
         1660197.75
        ],
        [
         "2023-11",
         1539039.13
        ],
        [
         "2023-12",
         1625710.26
        ],
        [
         "2024-01",
         1602949.9
        ],
        [
         "2024-02",
         1486739.63
        ],
        [
         "2024-03",
         1609237.69
        ],
        [
         "2024-04",
         1551700.36
        ],
        [
         "2024-05",
         1582012.4
        ],
        [
         "2024-06",
         1556425.37
        ],
        [
         "2024-07",
         1682192.64
        ],
        [
         "2024-08",
         1589168.78
        ],
        [
         "2024-09",
         1582160.07
        ],
        [
         "2024-10",
         1644831.74
        ],
        [
         "2024-11",
         1554960.06
        ],
        [
         "2024-12",
         1584165.89
        ],
        [
         "2025-01",
         1635623.34
        ],
        [
         "2025-02",
         1449715.22
        ],
        [
         "2025-03",
         1561134.37
        ],
        [
         "2025-04",
         1579237.87
        ],
        [
         "2025-05",
         1573016.83
        ],
        [
         "2025-06",
         1005558.45
        ]
       ],
       "datasetInfos": [],
       "dbfsResultPath": null,
       "isJsonSchema": true,
       "metadata": {},
       "overflow": false,
       "plotOptions": {
        "customPlotOptions": {},
        "displayType": "table",
        "pivotAggregation": null,
        "pivotColumns": null,
        "xColumns": null,
        "yColumns": null
       },
       "removedWidgets": [],
       "schema": [
        {
         "metadata": "{}",
         "name": "year_month",
         "type": "\"string\""
        },
        {
         "metadata": "{}",
         "name": "total_revenue",
         "type": "\"double\""
        }
       ],
       "type": "table"
      }
     },
     "output_type": "display_data"
    }
   ],
   "source": [
    "# Sales Trend Over Time (Line Chart). \n",
    "monthly_sales = retail_data_cleaned.withColumn(\"year_month\", date_format(\"purchase_date\", \"yyyy-MM\")) \\\n",
    "    .groupBy(\"year_month\") \\\n",
    "    .agg(F.round(F.sum(\"final_price\"), 2).alias(\"total_revenue\")) \\\n",
    "    .orderBy(\"year_month\")\n",
    "\n",
    "display(monthly_sales)"
   ]
  },
  {
   "cell_type": "markdown",
   "metadata": {
    "application/vnd.databricks.v1+cell": {
     "cellMetadata": {},
     "inputWidgets": {},
     "nuid": "f12995d8-1d71-4e73-adcc-3ec7db080690",
     "showTitle": false,
     "tableResultSettingsMap": {},
     "title": ""
    }
   },
   "source": [
    "Business Question: Which products drive the most volume?"
   ]
  },
  {
   "cell_type": "code",
   "execution_count": 0,
   "metadata": {
    "application/vnd.databricks.v1+cell": {
     "cellMetadata": {
      "byteLimit": 2048000,
      "rowLimit": 10000
     },
     "inputWidgets": {},
     "nuid": "0ff0acb5-e4ee-4039-9723-5a96ce32a967",
     "showTitle": false,
     "tableResultSettingsMap": {},
     "title": ""
    }
   },
   "outputs": [
    {
     "output_type": "display_data",
     "data": {
      "text/html": [
       "<style scoped>\n",
       "  .table-result-container {\n",
       "    max-height: 300px;\n",
       "    overflow: auto;\n",
       "  }\n",
       "  table, th, td {\n",
       "    border: 1px solid black;\n",
       "    border-collapse: collapse;\n",
       "  }\n",
       "  th, td {\n",
       "    padding: 5px;\n",
       "  }\n",
       "  th {\n",
       "    text-align: left;\n",
       "  }\n",
       "</style><div class='table-result-container'><table class='table-result'><thead style='background-color: white'><tr><th>product_id</th><th>count</th></tr></thead><tbody><tr><td>5953b5d4-2e85-4607-af62-752490ac7063</td><td>1</td></tr><tr><td>9a3336ee-3938-4322-937e-95ed57eaefa6</td><td>1</td></tr><tr><td>6c99ce56-a58a-4bb5-9f19-30e0cda7a451</td><td>1</td></tr><tr><td>9d7c24ce-85d5-4ed9-8abd-bcd1782ccfec</td><td>1</td></tr><tr><td>4d2a5ec7-029d-44a0-8609-ac3b386b8594</td><td>1</td></tr><tr><td>75ef8169-64a7-4279-8609-a880ef29c0f7</td><td>1</td></tr><tr><td>2a23e15b-82b1-44bc-a8f0-178b61ffc40f</td><td>1</td></tr><tr><td>bf64f03d-e974-4e30-9525-b12e04bf1e72</td><td>1</td></tr><tr><td>ef46e612-6d5c-4842-a73e-153db6397107</td><td>1</td></tr><tr><td>7c928924-ff2c-4e6e-a130-73b9f45332b5</td><td>1</td></tr></tbody></table></div>"
      ]
     },
     "metadata": {
      "application/vnd.databricks.v1+output": {
       "addedWidgets": {},
       "aggData": [],
       "aggError": "",
       "aggOverflow": false,
       "aggSchema": [],
       "aggSeriesLimitReached": false,
       "aggType": "",
       "arguments": {},
       "columnCustomDisplayInfos": {},
       "data": [
        [
         "5953b5d4-2e85-4607-af62-752490ac7063",
         1
        ],
        [
         "9a3336ee-3938-4322-937e-95ed57eaefa6",
         1
        ],
        [
         "6c99ce56-a58a-4bb5-9f19-30e0cda7a451",
         1
        ],
        [
         "9d7c24ce-85d5-4ed9-8abd-bcd1782ccfec",
         1
        ],
        [
         "4d2a5ec7-029d-44a0-8609-ac3b386b8594",
         1
        ],
        [
         "75ef8169-64a7-4279-8609-a880ef29c0f7",
         1
        ],
        [
         "2a23e15b-82b1-44bc-a8f0-178b61ffc40f",
         1
        ],
        [
         "bf64f03d-e974-4e30-9525-b12e04bf1e72",
         1
        ],
        [
         "ef46e612-6d5c-4842-a73e-153db6397107",
         1
        ],
        [
         "7c928924-ff2c-4e6e-a130-73b9f45332b5",
         1
        ]
       ],
       "datasetInfos": [],
       "dbfsResultPath": null,
       "isJsonSchema": true,
       "metadata": {},
       "overflow": false,
       "plotOptions": {
        "customPlotOptions": {},
        "displayType": "table",
        "pivotAggregation": null,
        "pivotColumns": null,
        "xColumns": null,
        "yColumns": null
       },
       "removedWidgets": [],
       "schema": [
        {
         "metadata": "{}",
         "name": "product_id",
         "type": "\"string\""
        },
        {
         "metadata": "{}",
         "name": "count",
         "type": "\"long\""
        }
       ],
       "type": "table"
      }
     },
     "output_type": "display_data"
    }
   ],
   "source": [
    "# Top 10 Most Frequently Purchased Products\n",
    "top_products = retail_data_cleaned.groupBy(\"product_id\") \\\n",
    "    .count() \\\n",
    "    .orderBy(\"count\", ascending=False) \\\n",
    "    .limit(10)\n",
    "\n",
    "display(top_products)"
   ]
  },
  {
   "cell_type": "markdown",
   "metadata": {
    "application/vnd.databricks.v1+cell": {
     "cellMetadata": {},
     "inputWidgets": {},
     "nuid": "100169a0-d147-49eb-b886-bbc671e5c862",
     "showTitle": false,
     "tableResultSettingsMap": {},
     "title": ""
    }
   },
   "source": [
    "Business Question: Which payment methods are most popular among users?"
   ]
  },
  {
   "cell_type": "code",
   "execution_count": 0,
   "metadata": {
    "application/vnd.databricks.v1+cell": {
     "cellMetadata": {
      "byteLimit": 2048000,
      "rowLimit": 10000
     },
     "inputWidgets": {},
     "nuid": "1e2c161a-5c43-40dc-8603-17be5fab0461",
     "showTitle": false,
     "tableResultSettingsMap": {},
     "title": ""
    }
   },
   "outputs": [
    {
     "output_type": "display_data",
     "data": {
      "text/html": [
       "<style scoped>\n",
       "  .table-result-container {\n",
       "    max-height: 300px;\n",
       "    overflow: auto;\n",
       "  }\n",
       "  table, th, td {\n",
       "    border: 1px solid black;\n",
       "    border-collapse: collapse;\n",
       "  }\n",
       "  th, td {\n",
       "    padding: 5px;\n",
       "  }\n",
       "  th {\n",
       "    text-align: left;\n",
       "  }\n",
       "</style><div class='table-result-container'><table class='table-result'><thead style='background-color: white'><tr><th>payment_method</th><th>count</th></tr></thead><tbody><tr><td>Card</td><td>25161</td></tr><tr><td>COD</td><td>25103</td></tr><tr><td>Wallet</td><td>24925</td></tr><tr><td>UPI</td><td>24811</td></tr></tbody></table></div>"
      ]
     },
     "metadata": {
      "application/vnd.databricks.v1+output": {
       "addedWidgets": {},
       "aggData": [],
       "aggError": "",
       "aggOverflow": false,
       "aggSchema": [],
       "aggSeriesLimitReached": false,
       "aggType": "",
       "arguments": {},
       "columnCustomDisplayInfos": {},
       "data": [
        [
         "Card",
         25161
        ],
        [
         "COD",
         25103
        ],
        [
         "Wallet",
         24925
        ],
        [
         "UPI",
         24811
        ]
       ],
       "datasetInfos": [],
       "dbfsResultPath": null,
       "isJsonSchema": true,
       "metadata": {},
       "overflow": false,
       "plotOptions": {
        "customPlotOptions": {},
        "displayType": "table",
        "pivotAggregation": null,
        "pivotColumns": null,
        "xColumns": null,
        "yColumns": null
       },
       "removedWidgets": [],
       "schema": [
        {
         "metadata": "{}",
         "name": "payment_method",
         "type": "\"string\""
        },
        {
         "metadata": "{}",
         "name": "count",
         "type": "\"long\""
        }
       ],
       "type": "table"
      }
     },
     "output_type": "display_data"
    }
   ],
   "source": [
    "# Preferred Payment Method (Pie or Bar Chart)\n",
    "payment_method_dist = retail_data_cleaned.groupBy(\"payment_method\") \\\n",
    "    .count() \\\n",
    "    .orderBy(\"count\", ascending=False)\n",
    "\n",
    "display(payment_method_dist)"
   ]
  },
  {
   "cell_type": "markdown",
   "metadata": {
    "application/vnd.databricks.v1+cell": {
     "cellMetadata": {},
     "inputWidgets": {},
     "nuid": "689f77b1-908f-4301-8045-44c416256a12",
     "showTitle": false,
     "tableResultSettingsMap": {},
     "title": ""
    }
   },
   "source": [
    "Business Question: Which product categories generate the most revenue?\n"
   ]
  },
  {
   "cell_type": "code",
   "execution_count": 0,
   "metadata": {
    "application/vnd.databricks.v1+cell": {
     "cellMetadata": {
      "byteLimit": 2048000,
      "rowLimit": 10000
     },
     "inputWidgets": {},
     "nuid": "6d2a9872-8b81-4bfc-bf9e-2be82873f4c0",
     "showTitle": false,
     "tableResultSettingsMap": {},
     "title": ""
    }
   },
   "outputs": [
    {
     "output_type": "display_data",
     "data": {
      "text/html": [
       "<style scoped>\n",
       "  .table-result-container {\n",
       "    max-height: 300px;\n",
       "    overflow: auto;\n",
       "  }\n",
       "  table, th, td {\n",
       "    border: 1px solid black;\n",
       "    border-collapse: collapse;\n",
       "  }\n",
       "  th, td {\n",
       "    padding: 5px;\n",
       "  }\n",
       "  th {\n",
       "    text-align: left;\n",
       "  }\n",
       "</style><div class='table-result-container'><table class='table-result'><thead style='background-color: white'><tr><th>category</th><th>transactions</th><th>total_revenue</th></tr></thead><tbody><tr><td>Clothing</td><td>16632</td><td>6342671.95</td></tr><tr><td>Home</td><td>16743</td><td>6332215.78</td></tr><tr><td>Electronics</td><td>16698</td><td>6326943.59</td></tr><tr><td>Beauty</td><td>16661</td><td>6321260.49</td></tr><tr><td>Toys</td><td>16624</td><td>6285589.32</td></tr><tr><td>Books</td><td>16642</td><td>6275382.62</td></tr></tbody></table></div>"
      ]
     },
     "metadata": {
      "application/vnd.databricks.v1+output": {
       "addedWidgets": {},
       "aggData": [],
       "aggError": "",
       "aggOverflow": false,
       "aggSchema": [],
       "aggSeriesLimitReached": false,
       "aggType": "",
       "arguments": {},
       "columnCustomDisplayInfos": {},
       "data": [
        [
         "Clothing",
         16632,
         6342671.95
        ],
        [
         "Home",
         16743,
         6332215.78
        ],
        [
         "Electronics",
         16698,
         6326943.59
        ],
        [
         "Beauty",
         16661,
         6321260.49
        ],
        [
         "Toys",
         16624,
         6285589.32
        ],
        [
         "Books",
         16642,
         6275382.62
        ]
       ],
       "datasetInfos": [],
       "dbfsResultPath": null,
       "isJsonSchema": true,
       "metadata": {},
       "overflow": false,
       "plotOptions": {
        "customPlotOptions": {},
        "displayType": "table",
        "pivotAggregation": null,
        "pivotColumns": null,
        "xColumns": null,
        "yColumns": null
       },
       "removedWidgets": [],
       "schema": [
        {
         "metadata": "{}",
         "name": "category",
         "type": "\"string\""
        },
        {
         "metadata": "{}",
         "name": "transactions",
         "type": "\"long\""
        },
        {
         "metadata": "{}",
         "name": "total_revenue",
         "type": "\"double\""
        }
       ],
       "type": "table"
      }
     },
     "output_type": "display_data"
    }
   ],
   "source": [
    "# Revenue by Product Category\n",
    "category_revenue = retail_data_cleaned.groupBy(\"category\") \\\n",
    "    .agg(\n",
    "        F.count(\"*\").alias(\"transactions\"),\n",
    "        F.round(F.sum(\"final_price\"), 2).alias(\"total_revenue\")\n",
    "    ) \\\n",
    "    .orderBy(\"total_revenue\", ascending=False)\n",
    "\n",
    "display(category_revenue)"
   ]
  },
  {
   "cell_type": "markdown",
   "metadata": {
    "application/vnd.databricks.v1+cell": {
     "cellMetadata": {},
     "inputWidgets": {},
     "nuid": "3f91f85c-9748-4ff4-accc-b0d98a1ce238",
     "showTitle": false,
     "tableResultSettingsMap": {},
     "title": ""
    }
   },
   "source": [
    "Business Question: When are people most likely to shop — which day and time?"
   ]
  },
  {
   "cell_type": "code",
   "execution_count": 0,
   "metadata": {
    "application/vnd.databricks.v1+cell": {
     "cellMetadata": {
      "byteLimit": 2048000,
      "rowLimit": 10000
     },
     "inputWidgets": {},
     "nuid": "797c7f03-cf48-4499-b43b-a9e1d3a8b7a3",
     "showTitle": false,
     "tableResultSettingsMap": {},
     "title": ""
    }
   },
   "outputs": [
    {
     "output_type": "display_data",
     "data": {
      "text/html": [
       "<style scoped>\n",
       "  .table-result-container {\n",
       "    max-height: 300px;\n",
       "    overflow: auto;\n",
       "  }\n",
       "  table, th, td {\n",
       "    border: 1px solid black;\n",
       "    border-collapse: collapse;\n",
       "  }\n",
       "  th, td {\n",
       "    padding: 5px;\n",
       "  }\n",
       "  th {\n",
       "    text-align: left;\n",
       "  }\n",
       "</style><div class='table-result-container'><table class='table-result'><thead style='background-color: white'><tr><th>day_of_week</th><th>hour</th><th>total_revenue</th></tr></thead><tbody><tr><td>1</td><td>0</td><td>5421867.43</td></tr><tr><td>2</td><td>0</td><td>5346844.57</td></tr><tr><td>3</td><td>0</td><td>5334581.9</td></tr><tr><td>4</td><td>0</td><td>5418737.08</td></tr><tr><td>5</td><td>0</td><td>5462972.41</td></tr><tr><td>6</td><td>0</td><td>5483650.41</td></tr><tr><td>7</td><td>0</td><td>5415409.95</td></tr></tbody></table></div>"
      ]
     },
     "metadata": {
      "application/vnd.databricks.v1+output": {
       "addedWidgets": {},
       "aggData": [],
       "aggError": "",
       "aggOverflow": false,
       "aggSchema": [],
       "aggSeriesLimitReached": false,
       "aggType": "",
       "arguments": {},
       "columnCustomDisplayInfos": {},
       "data": [
        [
         1,
         0,
         5421867.43
        ],
        [
         2,
         0,
         5346844.57
        ],
        [
         3,
         0,
         5334581.9
        ],
        [
         4,
         0,
         5418737.08
        ],
        [
         5,
         0,
         5462972.41
        ],
        [
         6,
         0,
         5483650.41
        ],
        [
         7,
         0,
         5415409.95
        ]
       ],
       "datasetInfos": [],
       "dbfsResultPath": null,
       "isJsonSchema": true,
       "metadata": {},
       "overflow": false,
       "plotOptions": {
        "customPlotOptions": {},
        "displayType": "table",
        "pivotAggregation": null,
        "pivotColumns": null,
        "xColumns": null,
        "yColumns": null
       },
       "removedWidgets": [],
       "schema": [
        {
         "metadata": "{}",
         "name": "day_of_week",
         "type": "\"integer\""
        },
        {
         "metadata": "{}",
         "name": "hour",
         "type": "\"integer\""
        },
        {
         "metadata": "{}",
         "name": "total_revenue",
         "type": "\"double\""
        }
       ],
       "type": "table"
      }
     },
     "output_type": "display_data"
    }
   ],
   "source": [
    "# Revenue Heatmap by Day of Week and Hour (Advanced Insight)\n",
    "heatmap_df = retail_data_cleaned.withColumn(\"day_of_week\", dayofweek(\"purchase_date\")) \\\n",
    "    .withColumn(\"hour\", hour(\"purchase_date\")) \\\n",
    "    .groupBy(\"day_of_week\", \"hour\") \\\n",
    "    .agg(F.round(F.sum(\"final_price\"), 2).alias(\"total_revenue\")) \\\n",
    "    .orderBy(\"day_of_week\", \"hour\")\n",
    "\n",
    "display(heatmap_df)"
   ]
  },
  {
   "cell_type": "markdown",
   "metadata": {
    "application/vnd.databricks.v1+cell": {
     "cellMetadata": {},
     "inputWidgets": {},
     "nuid": "eab19be2-5611-4b09-b48b-ee271ac444ee",
     "showTitle": false,
     "tableResultSettingsMap": {},
     "title": ""
    }
   },
   "source": [
    " Note: day_of_week returns values 1 (Sunday) to 7 (Saturday)."
   ]
  },
  {
   "cell_type": "markdown",
   "metadata": {
    "application/vnd.databricks.v1+cell": {
     "cellMetadata": {},
     "inputWidgets": {},
     "nuid": "b7ce80b5-4c87-44de-bc4b-8dfbc4fe668d",
     "showTitle": false,
     "tableResultSettingsMap": {},
     "title": ""
    }
   },
   "source": [
    "## Summary of Key Insights\n",
    "- Revenue Performance: Credit Card was the most frequently used payment method, followed by UPI and then Wallet, indicating a strong consumer preference for digital and cashless payments.\n",
    "- Category Trends: The Home and Electronics categories dominated the sales volume, indicating strong consumer demand in these segments.\n",
    "However, Clothing generated the most revenue despite fewer transactions.\n",
    "- Revenue by Day of the Week: Analysis revealed that Fridays and Saturdays generated the highest total revenue compared to other days of the week. This trend likely reflects increased consumer spending behavior toward the weekend, which is common in retail patterns.\n",
    "- Cash on Delivery (COD) Performance: Cash on Delivery was the second most-used payment method by transaction volume and revenue, yet it had the highest average order value. This suggests that COD customers tend to make higher-value purchases, indicating strong consumer trust in the option. Maintaining COD may be critical for retaining high-spending customers and supporting overall revenue growth.\n",
    "\n",
    "## Business Recommendations\n",
    "#### Boost Promotional Efforts Toward Weekends\n",
    "- Insight: Fridays and Saturdays recorded the highest total revenue.\n",
    "- Recommendation: Launch key promotional campaigns and flash sales on Fridays and Saturdays to leverage higher customer purchase intent toward the weekend. Consider scheduling product drops, marketing emails, or limited-time offers around these peak revenue days.\n",
    "\n",
    "#### Optimize for Cash on Delivery (COD) Customers\n",
    "- Insight: COD had the second-highest total transactions, second-highest revenue, and the highest average order value.\n",
    "- Recommendation: Although digital payments are rising, the strong performance of COD suggests trust or accessibility factors. Improve logistics and checkout experience for COD users to retain and convert high-value customers. Also, offer loyalty rewards or upsells targeted to this group.\n",
    "\n",
    "### Explore Product Category Dynamics Further\n",
    "- Insight: Some product categories consistently performed better in sales and volume.\n",
    "- Recommendation: Perform deep dives into individual product categories. Prioritize inventory planning, ad spend, and bundling offers around top-performing categories, especially those with both high purchase counts and average order values."
   ]
  }
 ],
 "metadata": {
  "application/vnd.databricks.v1+notebook": {
   "computePreferences": null,
   "dashboards": [],
   "environmentMetadata": {
    "base_environment": "",
    "environment_version": "2"
   },
   "inputWidgetPreferences": null,
   "language": "python",
   "notebookMetadata": {
    "pythonIndentUnit": 4
   },
   "notebookName": "Retail_Analytics_Databricks",
   "widgets": {}
  },
  "language_info": {
   "name": "python"
  }
 },
 "nbformat": 4,
 "nbformat_minor": 0
}